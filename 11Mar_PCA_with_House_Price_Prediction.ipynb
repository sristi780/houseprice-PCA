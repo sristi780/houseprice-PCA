{
 "cells": [
  {
   "cell_type": "code",
   "execution_count": 1,
   "id": "00294767",
   "metadata": {
    "executionInfo": {
     "elapsed": 461,
     "status": "ok",
     "timestamp": 1710147029537,
     "user": {
      "displayName": "Utkarsh Tiwary",
      "userId": "14791650885169567640"
     },
     "user_tz": -330
    },
    "id": "00294767"
   },
   "outputs": [],
   "source": [
    "import pandas as pd\n",
    "import numpy as np\n",
    "import matplotlib.pyplot as plt\n",
    "import seaborn as sns"
   ]
  },
  {
   "cell_type": "markdown",
   "id": "e53fc360",
   "metadata": {
    "id": "e53fc360"
   },
   "source": [
    "#### PCA - Used to reduce dimensions - Unsupervised learning\n",
    "<pre>\n",
    "1) Standardize the dataset.\n",
    "2) Compute Covaraince Matrix from the Standardized dataset.\n",
    "3) Compute Eigen values and eigen vectors from the Covaraince Matrix.\n",
    "Arrange Eigen Vectors in decreasing order of Eigen values.\n",
    "\n",
    "4) Select Feature matrix which is min number of eigen vectors required to generate the principal components.\n",
    "5) Generate Pcincipal Components from the Feature matrix\n",
    "</pre>"
   ]
  },
  {
   "cell_type": "markdown",
   "id": "9b137e17",
   "metadata": {
    "id": "9b137e17"
   },
   "source": [
    "#### Read the dataset"
   ]
  },
  {
   "cell_type": "code",
   "execution_count": 8,
   "id": "69613d2b",
   "metadata": {
    "colab": {
     "base_uri": "https://localhost:8080/",
     "height": 255
    },
    "executionInfo": {
     "elapsed": 1470,
     "status": "ok",
     "timestamp": 1710147100199,
     "user": {
      "displayName": "Utkarsh Tiwary",
      "userId": "14791650885169567640"
     },
     "user_tz": -330
    },
    "id": "69613d2b",
    "outputId": "f957304a-c0bf-41c6-fe45-672fed8f11db"
   },
   "outputs": [
    {
     "data": {
      "text/html": [
       "<div>\n",
       "<style scoped>\n",
       "    .dataframe tbody tr th:only-of-type {\n",
       "        vertical-align: middle;\n",
       "    }\n",
       "\n",
       "    .dataframe tbody tr th {\n",
       "        vertical-align: top;\n",
       "    }\n",
       "\n",
       "    .dataframe thead th {\n",
       "        text-align: right;\n",
       "    }\n",
       "</style>\n",
       "<table border=\"1\" class=\"dataframe\">\n",
       "  <thead>\n",
       "    <tr style=\"text-align: right;\">\n",
       "      <th></th>\n",
       "      <th>Id</th>\n",
       "      <th>MSSubClass</th>\n",
       "      <th>MSZoning</th>\n",
       "      <th>LotFrontage</th>\n",
       "      <th>LotArea</th>\n",
       "      <th>Street</th>\n",
       "      <th>Alley</th>\n",
       "      <th>LotShape</th>\n",
       "      <th>LandContour</th>\n",
       "      <th>Utilities</th>\n",
       "      <th>...</th>\n",
       "      <th>PoolArea</th>\n",
       "      <th>PoolQC</th>\n",
       "      <th>Fence</th>\n",
       "      <th>MiscFeature</th>\n",
       "      <th>MiscVal</th>\n",
       "      <th>MoSold</th>\n",
       "      <th>YrSold</th>\n",
       "      <th>SaleType</th>\n",
       "      <th>SaleCondition</th>\n",
       "      <th>SalePrice</th>\n",
       "    </tr>\n",
       "  </thead>\n",
       "  <tbody>\n",
       "    <tr>\n",
       "      <th>0</th>\n",
       "      <td>1</td>\n",
       "      <td>60</td>\n",
       "      <td>RL</td>\n",
       "      <td>65.0</td>\n",
       "      <td>8450</td>\n",
       "      <td>Pave</td>\n",
       "      <td>NaN</td>\n",
       "      <td>Reg</td>\n",
       "      <td>Lvl</td>\n",
       "      <td>AllPub</td>\n",
       "      <td>...</td>\n",
       "      <td>0</td>\n",
       "      <td>NaN</td>\n",
       "      <td>NaN</td>\n",
       "      <td>NaN</td>\n",
       "      <td>0</td>\n",
       "      <td>2</td>\n",
       "      <td>2008</td>\n",
       "      <td>WD</td>\n",
       "      <td>Normal</td>\n",
       "      <td>208500</td>\n",
       "    </tr>\n",
       "    <tr>\n",
       "      <th>1</th>\n",
       "      <td>2</td>\n",
       "      <td>20</td>\n",
       "      <td>RL</td>\n",
       "      <td>80.0</td>\n",
       "      <td>9600</td>\n",
       "      <td>Pave</td>\n",
       "      <td>NaN</td>\n",
       "      <td>Reg</td>\n",
       "      <td>Lvl</td>\n",
       "      <td>AllPub</td>\n",
       "      <td>...</td>\n",
       "      <td>0</td>\n",
       "      <td>NaN</td>\n",
       "      <td>NaN</td>\n",
       "      <td>NaN</td>\n",
       "      <td>0</td>\n",
       "      <td>5</td>\n",
       "      <td>2007</td>\n",
       "      <td>WD</td>\n",
       "      <td>Normal</td>\n",
       "      <td>181500</td>\n",
       "    </tr>\n",
       "    <tr>\n",
       "      <th>2</th>\n",
       "      <td>3</td>\n",
       "      <td>60</td>\n",
       "      <td>RL</td>\n",
       "      <td>68.0</td>\n",
       "      <td>11250</td>\n",
       "      <td>Pave</td>\n",
       "      <td>NaN</td>\n",
       "      <td>IR1</td>\n",
       "      <td>Lvl</td>\n",
       "      <td>AllPub</td>\n",
       "      <td>...</td>\n",
       "      <td>0</td>\n",
       "      <td>NaN</td>\n",
       "      <td>NaN</td>\n",
       "      <td>NaN</td>\n",
       "      <td>0</td>\n",
       "      <td>9</td>\n",
       "      <td>2008</td>\n",
       "      <td>WD</td>\n",
       "      <td>Normal</td>\n",
       "      <td>223500</td>\n",
       "    </tr>\n",
       "    <tr>\n",
       "      <th>3</th>\n",
       "      <td>4</td>\n",
       "      <td>70</td>\n",
       "      <td>RL</td>\n",
       "      <td>60.0</td>\n",
       "      <td>9550</td>\n",
       "      <td>Pave</td>\n",
       "      <td>NaN</td>\n",
       "      <td>IR1</td>\n",
       "      <td>Lvl</td>\n",
       "      <td>AllPub</td>\n",
       "      <td>...</td>\n",
       "      <td>0</td>\n",
       "      <td>NaN</td>\n",
       "      <td>NaN</td>\n",
       "      <td>NaN</td>\n",
       "      <td>0</td>\n",
       "      <td>2</td>\n",
       "      <td>2006</td>\n",
       "      <td>WD</td>\n",
       "      <td>Abnorml</td>\n",
       "      <td>140000</td>\n",
       "    </tr>\n",
       "    <tr>\n",
       "      <th>4</th>\n",
       "      <td>5</td>\n",
       "      <td>60</td>\n",
       "      <td>RL</td>\n",
       "      <td>84.0</td>\n",
       "      <td>14260</td>\n",
       "      <td>Pave</td>\n",
       "      <td>NaN</td>\n",
       "      <td>IR1</td>\n",
       "      <td>Lvl</td>\n",
       "      <td>AllPub</td>\n",
       "      <td>...</td>\n",
       "      <td>0</td>\n",
       "      <td>NaN</td>\n",
       "      <td>NaN</td>\n",
       "      <td>NaN</td>\n",
       "      <td>0</td>\n",
       "      <td>12</td>\n",
       "      <td>2008</td>\n",
       "      <td>WD</td>\n",
       "      <td>Normal</td>\n",
       "      <td>250000</td>\n",
       "    </tr>\n",
       "  </tbody>\n",
       "</table>\n",
       "<p>5 rows × 81 columns</p>\n",
       "</div>"
      ],
      "text/plain": [
       "   Id  MSSubClass MSZoning  LotFrontage  LotArea Street Alley LotShape  \\\n",
       "0   1          60       RL         65.0     8450   Pave   NaN      Reg   \n",
       "1   2          20       RL         80.0     9600   Pave   NaN      Reg   \n",
       "2   3          60       RL         68.0    11250   Pave   NaN      IR1   \n",
       "3   4          70       RL         60.0     9550   Pave   NaN      IR1   \n",
       "4   5          60       RL         84.0    14260   Pave   NaN      IR1   \n",
       "\n",
       "  LandContour Utilities  ... PoolArea PoolQC Fence MiscFeature MiscVal MoSold  \\\n",
       "0         Lvl    AllPub  ...        0    NaN   NaN         NaN       0      2   \n",
       "1         Lvl    AllPub  ...        0    NaN   NaN         NaN       0      5   \n",
       "2         Lvl    AllPub  ...        0    NaN   NaN         NaN       0      9   \n",
       "3         Lvl    AllPub  ...        0    NaN   NaN         NaN       0      2   \n",
       "4         Lvl    AllPub  ...        0    NaN   NaN         NaN       0     12   \n",
       "\n",
       "  YrSold  SaleType  SaleCondition  SalePrice  \n",
       "0   2008        WD         Normal     208500  \n",
       "1   2007        WD         Normal     181500  \n",
       "2   2008        WD         Normal     223500  \n",
       "3   2006        WD        Abnorml     140000  \n",
       "4   2008        WD         Normal     250000  \n",
       "\n",
       "[5 rows x 81 columns]"
      ]
     },
     "execution_count": 8,
     "metadata": {},
     "output_type": "execute_result"
    }
   ],
   "source": [
    "df = pd.read_csv('houseprice.csv')\n",
    "df.head()"
   ]
  },
  {
   "cell_type": "code",
   "execution_count": 9,
   "id": "a0ba02cb",
   "metadata": {
    "colab": {
     "base_uri": "https://localhost:8080/"
    },
    "executionInfo": {
     "elapsed": 498,
     "status": "ok",
     "timestamp": 1710147105143,
     "user": {
      "displayName": "Utkarsh Tiwary",
      "userId": "14791650885169567640"
     },
     "user_tz": -330
    },
    "id": "a0ba02cb",
    "outputId": "976af604-a60a-4c5e-b944-f766b38e32a0"
   },
   "outputs": [
    {
     "data": {
      "text/plain": [
       "(1460, 81)"
      ]
     },
     "execution_count": 9,
     "metadata": {},
     "output_type": "execute_result"
    }
   ],
   "source": [
    "df.shape"
   ]
  },
  {
   "cell_type": "markdown",
   "id": "e7c92dee",
   "metadata": {
    "id": "e7c92dee"
   },
   "source": [
    "#### Data Preprocessing"
   ]
  },
  {
   "cell_type": "markdown",
   "id": "6bd9dbd3",
   "metadata": {
    "id": "6bd9dbd3"
   },
   "source": [
    "#### Handle Null Values"
   ]
  },
  {
   "cell_type": "code",
   "execution_count": 10,
   "id": "3d2c8a9f",
   "metadata": {
    "executionInfo": {
     "elapsed": 41,
     "status": "ok",
     "timestamp": 1710147109552,
     "user": {
      "displayName": "Utkarsh Tiwary",
      "userId": "14791650885169567640"
     },
     "user_tz": -330
    },
    "id": "3d2c8a9f"
   },
   "outputs": [],
   "source": [
    "def fetch_null_val(data):\n",
    "    nv = data.isnull().sum()\n",
    "    nv = nv[nv>0]\n",
    "    nv_df = pd.DataFrame({'Feature':nv.index,'Null_Count':nv.values,\n",
    "                         '%Null':(nv.values/data.shape[0])*100})\n",
    "    nv_df = nv_df.sort_values('%Null',ascending=False)\n",
    "    return nv_df"
   ]
  },
  {
   "cell_type": "code",
   "execution_count": 92,
   "id": "72cb0157",
   "metadata": {
    "colab": {
     "base_uri": "https://localhost:8080/",
     "height": 645
    },
    "executionInfo": {
     "elapsed": 17,
     "status": "ok",
     "timestamp": 1710147112723,
     "user": {
      "displayName": "Utkarsh Tiwary",
      "userId": "14791650885169567640"
     },
     "user_tz": -330
    },
    "id": "72cb0157",
    "outputId": "c4079fb4-82fc-4841-d57f-50e0e34601f8"
   },
   "outputs": [
    {
     "data": {
      "text/html": [
       "<div>\n",
       "<style scoped>\n",
       "    .dataframe tbody tr th:only-of-type {\n",
       "        vertical-align: middle;\n",
       "    }\n",
       "\n",
       "    .dataframe tbody tr th {\n",
       "        vertical-align: top;\n",
       "    }\n",
       "\n",
       "    .dataframe thead th {\n",
       "        text-align: right;\n",
       "    }\n",
       "</style>\n",
       "<table border=\"1\" class=\"dataframe\">\n",
       "  <thead>\n",
       "    <tr style=\"text-align: right;\">\n",
       "      <th></th>\n",
       "      <th>Feature</th>\n",
       "      <th>Null_Count</th>\n",
       "      <th>%Null</th>\n",
       "    </tr>\n",
       "  </thead>\n",
       "  <tbody>\n",
       "  </tbody>\n",
       "</table>\n",
       "</div>"
      ],
      "text/plain": [
       "Empty DataFrame\n",
       "Columns: [Feature, Null_Count, %Null]\n",
       "Index: []"
      ]
     },
     "execution_count": 92,
     "metadata": {},
     "output_type": "execute_result"
    }
   ],
   "source": [
    "nv_df = fetch_null_val(df)\n",
    "nv_df"
   ]
  },
  {
   "cell_type": "code",
   "execution_count": 12,
   "id": "5076e650",
   "metadata": {
    "executionInfo": {
     "elapsed": 10,
     "status": "ok",
     "timestamp": 1710147116568,
     "user": {
      "displayName": "Utkarsh Tiwary",
      "userId": "14791650885169567640"
     },
     "user_tz": -330
    },
    "id": "5076e650"
   },
   "outputs": [],
   "source": [
    "df1 = df.copy()"
   ]
  },
  {
   "cell_type": "code",
   "execution_count": 13,
   "id": "86960787",
   "metadata": {
    "colab": {
     "base_uri": "https://localhost:8080/"
    },
    "executionInfo": {
     "elapsed": 13,
     "status": "ok",
     "timestamp": 1710147119077,
     "user": {
      "displayName": "Utkarsh Tiwary",
      "userId": "14791650885169567640"
     },
     "user_tz": -330
    },
    "id": "86960787",
    "outputId": "96e00c50-5b95-4e4d-cb05-b733fb8069a8"
   },
   "outputs": [
    {
     "name": "stdout",
     "output_type": "stream",
     "text": [
      "PoolQC [nan 'Ex' 'Fa' 'Gd']\n",
      "MiscFeature [nan 'Shed' 'Gar2' 'Othr' 'TenC']\n",
      "Alley [nan 'Grvl' 'Pave']\n",
      "Fence [nan 'MnPrv' 'GdWo' 'GdPrv' 'MnWw']\n"
     ]
    }
   ],
   "source": [
    "cols = ['PoolQC','MiscFeature','Alley','Fence']\n",
    "for i in cols:\n",
    "    print(i,df[i].unique())"
   ]
  },
  {
   "cell_type": "code",
   "execution_count": 14,
   "id": "dd703dea",
   "metadata": {
    "executionInfo": {
     "elapsed": 7,
     "status": "ok",
     "timestamp": 1710147123958,
     "user": {
      "displayName": "Utkarsh Tiwary",
      "userId": "14791650885169567640"
     },
     "user_tz": -330
    },
    "id": "dd703dea"
   },
   "outputs": [],
   "source": [
    "df.drop(['PoolQC','MiscFeature','Alley','Fence'],axis=1,inplace=True)"
   ]
  },
  {
   "cell_type": "code",
   "execution_count": 15,
   "id": "2b242e7a",
   "metadata": {
    "colab": {
     "base_uri": "https://localhost:8080/",
     "height": 520
    },
    "executionInfo": {
     "elapsed": 28,
     "status": "ok",
     "timestamp": 1710147126898,
     "user": {
      "displayName": "Utkarsh Tiwary",
      "userId": "14791650885169567640"
     },
     "user_tz": -330
    },
    "id": "2b242e7a",
    "outputId": "a43a8b90-55f1-4e7f-ebed-b6010113c592"
   },
   "outputs": [
    {
     "data": {
      "text/html": [
       "<div>\n",
       "<style scoped>\n",
       "    .dataframe tbody tr th:only-of-type {\n",
       "        vertical-align: middle;\n",
       "    }\n",
       "\n",
       "    .dataframe tbody tr th {\n",
       "        vertical-align: top;\n",
       "    }\n",
       "\n",
       "    .dataframe thead th {\n",
       "        text-align: right;\n",
       "    }\n",
       "</style>\n",
       "<table border=\"1\" class=\"dataframe\">\n",
       "  <thead>\n",
       "    <tr style=\"text-align: right;\">\n",
       "      <th></th>\n",
       "      <th>Feature</th>\n",
       "      <th>Null_Count</th>\n",
       "      <th>%Null</th>\n",
       "    </tr>\n",
       "  </thead>\n",
       "  <tbody>\n",
       "    <tr>\n",
       "      <th>1</th>\n",
       "      <td>MasVnrType</td>\n",
       "      <td>872</td>\n",
       "      <td>59.726027</td>\n",
       "    </tr>\n",
       "    <tr>\n",
       "      <th>9</th>\n",
       "      <td>FireplaceQu</td>\n",
       "      <td>690</td>\n",
       "      <td>47.260274</td>\n",
       "    </tr>\n",
       "    <tr>\n",
       "      <th>0</th>\n",
       "      <td>LotFrontage</td>\n",
       "      <td>259</td>\n",
       "      <td>17.739726</td>\n",
       "    </tr>\n",
       "    <tr>\n",
       "      <th>10</th>\n",
       "      <td>GarageType</td>\n",
       "      <td>81</td>\n",
       "      <td>5.547945</td>\n",
       "    </tr>\n",
       "    <tr>\n",
       "      <th>11</th>\n",
       "      <td>GarageYrBlt</td>\n",
       "      <td>81</td>\n",
       "      <td>5.547945</td>\n",
       "    </tr>\n",
       "    <tr>\n",
       "      <th>12</th>\n",
       "      <td>GarageFinish</td>\n",
       "      <td>81</td>\n",
       "      <td>5.547945</td>\n",
       "    </tr>\n",
       "    <tr>\n",
       "      <th>13</th>\n",
       "      <td>GarageQual</td>\n",
       "      <td>81</td>\n",
       "      <td>5.547945</td>\n",
       "    </tr>\n",
       "    <tr>\n",
       "      <th>14</th>\n",
       "      <td>GarageCond</td>\n",
       "      <td>81</td>\n",
       "      <td>5.547945</td>\n",
       "    </tr>\n",
       "    <tr>\n",
       "      <th>5</th>\n",
       "      <td>BsmtExposure</td>\n",
       "      <td>38</td>\n",
       "      <td>2.602740</td>\n",
       "    </tr>\n",
       "    <tr>\n",
       "      <th>7</th>\n",
       "      <td>BsmtFinType2</td>\n",
       "      <td>38</td>\n",
       "      <td>2.602740</td>\n",
       "    </tr>\n",
       "    <tr>\n",
       "      <th>3</th>\n",
       "      <td>BsmtQual</td>\n",
       "      <td>37</td>\n",
       "      <td>2.534247</td>\n",
       "    </tr>\n",
       "    <tr>\n",
       "      <th>4</th>\n",
       "      <td>BsmtCond</td>\n",
       "      <td>37</td>\n",
       "      <td>2.534247</td>\n",
       "    </tr>\n",
       "    <tr>\n",
       "      <th>6</th>\n",
       "      <td>BsmtFinType1</td>\n",
       "      <td>37</td>\n",
       "      <td>2.534247</td>\n",
       "    </tr>\n",
       "    <tr>\n",
       "      <th>2</th>\n",
       "      <td>MasVnrArea</td>\n",
       "      <td>8</td>\n",
       "      <td>0.547945</td>\n",
       "    </tr>\n",
       "    <tr>\n",
       "      <th>8</th>\n",
       "      <td>Electrical</td>\n",
       "      <td>1</td>\n",
       "      <td>0.068493</td>\n",
       "    </tr>\n",
       "  </tbody>\n",
       "</table>\n",
       "</div>"
      ],
      "text/plain": [
       "         Feature  Null_Count      %Null\n",
       "1     MasVnrType         872  59.726027\n",
       "9    FireplaceQu         690  47.260274\n",
       "0    LotFrontage         259  17.739726\n",
       "10    GarageType          81   5.547945\n",
       "11   GarageYrBlt          81   5.547945\n",
       "12  GarageFinish          81   5.547945\n",
       "13    GarageQual          81   5.547945\n",
       "14    GarageCond          81   5.547945\n",
       "5   BsmtExposure          38   2.602740\n",
       "7   BsmtFinType2          38   2.602740\n",
       "3       BsmtQual          37   2.534247\n",
       "4       BsmtCond          37   2.534247\n",
       "6   BsmtFinType1          37   2.534247\n",
       "2     MasVnrArea           8   0.547945\n",
       "8     Electrical           1   0.068493"
      ]
     },
     "execution_count": 15,
     "metadata": {},
     "output_type": "execute_result"
    }
   ],
   "source": [
    "nv_df = fetch_null_val(df)\n",
    "nv_df"
   ]
  },
  {
   "cell_type": "code",
   "execution_count": 16,
   "id": "444e3170",
   "metadata": {
    "colab": {
     "base_uri": "https://localhost:8080/"
    },
    "executionInfo": {
     "elapsed": 452,
     "status": "ok",
     "timestamp": 1710147131948,
     "user": {
      "displayName": "Utkarsh Tiwary",
      "userId": "14791650885169567640"
     },
     "user_tz": -330
    },
    "id": "444e3170",
    "outputId": "3185088c-fb54-417f-e9cd-daf2c47c07d3"
   },
   "outputs": [
    {
     "data": {
      "text/plain": [
       "array(['MasVnrType', 'FireplaceQu', 'LotFrontage', 'GarageType',\n",
       "       'GarageYrBlt', 'GarageFinish', 'GarageQual', 'GarageCond',\n",
       "       'BsmtExposure', 'BsmtFinType2', 'BsmtQual', 'BsmtCond',\n",
       "       'BsmtFinType1', 'MasVnrArea', 'Electrical'], dtype=object)"
      ]
     },
     "execution_count": 16,
     "metadata": {},
     "output_type": "execute_result"
    }
   ],
   "source": [
    "nv_df['Feature'].values"
   ]
  },
  {
   "cell_type": "markdown",
   "id": "d13eceec",
   "metadata": {
    "id": "d13eceec"
   },
   "source": [
    "#### Basement related Features"
   ]
  },
  {
   "cell_type": "code",
   "execution_count": 17,
   "id": "f083905b",
   "metadata": {
    "colab": {
     "base_uri": "https://localhost:8080/"
    },
    "executionInfo": {
     "elapsed": 9,
     "status": "ok",
     "timestamp": 1710147134180,
     "user": {
      "displayName": "Utkarsh Tiwary",
      "userId": "14791650885169567640"
     },
     "user_tz": -330
    },
    "id": "f083905b",
    "outputId": "0eded5fb-9a14-4f69-b88b-163e82676731"
   },
   "outputs": [
    {
     "name": "stdout",
     "output_type": "stream",
     "text": [
      "BsmtExposure ['No' 'Gd' 'Mn' 'Av' nan]\n",
      "BsmtFinType2 ['Unf' 'BLQ' nan 'ALQ' 'Rec' 'LwQ' 'GLQ']\n",
      "BsmtQual ['Gd' 'TA' 'Ex' nan 'Fa']\n",
      "BsmtCond ['TA' 'Gd' nan 'Fa' 'Po']\n",
      "BsmtFinType1 ['GLQ' 'ALQ' 'Unf' 'Rec' 'BLQ' nan 'LwQ']\n"
     ]
    }
   ],
   "source": [
    "cols = ['BsmtExposure','BsmtFinType2', 'BsmtQual', 'BsmtCond', 'BsmtFinType1']\n",
    "for i in cols:\n",
    "    print(i,df[i].unique())"
   ]
  },
  {
   "cell_type": "code",
   "execution_count": 18,
   "id": "fcee7257",
   "metadata": {
    "executionInfo": {
     "elapsed": 6,
     "status": "ok",
     "timestamp": 1710147136117,
     "user": {
      "displayName": "Utkarsh Tiwary",
      "userId": "14791650885169567640"
     },
     "user_tz": -330
    },
    "id": "fcee7257"
   },
   "outputs": [],
   "source": [
    "cols = ['BsmtExposure','BsmtFinType2', 'BsmtQual', 'BsmtCond', 'BsmtFinType1']\n",
    "for i in cols:\n",
    "    df[i] = df[i].fillna('No Basement')"
   ]
  },
  {
   "cell_type": "markdown",
   "id": "c72e54a6",
   "metadata": {
    "id": "c72e54a6"
   },
   "source": [
    "#### Garege Related Faetures"
   ]
  },
  {
   "cell_type": "code",
   "execution_count": 19,
   "id": "6c452674",
   "metadata": {
    "colab": {
     "base_uri": "https://localhost:8080/"
    },
    "executionInfo": {
     "elapsed": 8,
     "status": "ok",
     "timestamp": 1710147137772,
     "user": {
      "displayName": "Utkarsh Tiwary",
      "userId": "14791650885169567640"
     },
     "user_tz": -330
    },
    "id": "6c452674",
    "outputId": "68db1617-d0d1-4278-cfbb-515f29d7897d"
   },
   "outputs": [
    {
     "name": "stdout",
     "output_type": "stream",
     "text": [
      "GarageType ['Attchd' 'Detchd' 'BuiltIn' 'CarPort' nan 'Basment' '2Types']\n",
      "GarageFinish ['RFn' 'Unf' 'Fin' nan]\n",
      "GarageQual ['TA' 'Fa' 'Gd' nan 'Ex' 'Po']\n",
      "GarageCond ['TA' 'Fa' nan 'Gd' 'Po' 'Ex']\n"
     ]
    }
   ],
   "source": [
    "cols = ['GarageType','GarageFinish', 'GarageQual', 'GarageCond']  #  'GarageYrBlt'\n",
    "for i in cols:\n",
    "    print(i,df[i].unique())"
   ]
  },
  {
   "cell_type": "code",
   "execution_count": 20,
   "id": "7f3a4732",
   "metadata": {
    "executionInfo": {
     "elapsed": 6,
     "status": "ok",
     "timestamp": 1710147137773,
     "user": {
      "displayName": "Utkarsh Tiwary",
      "userId": "14791650885169567640"
     },
     "user_tz": -330
    },
    "id": "7f3a4732"
   },
   "outputs": [],
   "source": [
    "cols = ['GarageType','GarageFinish', 'GarageQual', 'GarageCond']\n",
    "for i in cols:\n",
    "    df[i] = df[i].fillna('No Garage')"
   ]
  },
  {
   "cell_type": "code",
   "execution_count": 21,
   "id": "d30a65d7",
   "metadata": {
    "colab": {
     "base_uri": "https://localhost:8080/"
    },
    "executionInfo": {
     "elapsed": 5,
     "status": "ok",
     "timestamp": 1710147138911,
     "user": {
      "displayName": "Utkarsh Tiwary",
      "userId": "14791650885169567640"
     },
     "user_tz": -330
    },
    "id": "d30a65d7",
    "outputId": "d27cb737-ba8a-4434-de03-513b63d9be9e"
   },
   "outputs": [
    {
     "name": "stdout",
     "output_type": "stream",
     "text": [
      "LotFrontage\n",
      "60.0     143\n",
      "70.0      70\n",
      "80.0      69\n",
      "50.0      57\n",
      "75.0      53\n",
      "        ... \n",
      "137.0      1\n",
      "141.0      1\n",
      "38.0       1\n",
      "140.0      1\n",
      "46.0       1\n",
      "Name: count, Length: 110, dtype: int64\n",
      "MasVnrArea\n",
      "0.0      861\n",
      "180.0      8\n",
      "72.0       8\n",
      "108.0      8\n",
      "120.0      7\n",
      "        ... \n",
      "562.0      1\n",
      "89.0       1\n",
      "921.0      1\n",
      "762.0      1\n",
      "119.0      1\n",
      "Name: count, Length: 327, dtype: int64\n"
     ]
    }
   ],
   "source": [
    "cols = ['LotFrontage','MasVnrArea']\n",
    "for i in cols:\n",
    "    print(df[i].value_counts())"
   ]
  },
  {
   "cell_type": "code",
   "execution_count": 22,
   "id": "d00edd88",
   "metadata": {
    "executionInfo": {
     "elapsed": 2,
     "status": "ok",
     "timestamp": 1710147140760,
     "user": {
      "displayName": "Utkarsh Tiwary",
      "userId": "14791650885169567640"
     },
     "user_tz": -330
    },
    "id": "d00edd88"
   },
   "outputs": [],
   "source": [
    "cols = ['LotFrontage','MasVnrArea']\n",
    "for i in cols:\n",
    "    df[i] = df[i].fillna(df[i].median())"
   ]
  },
  {
   "cell_type": "code",
   "execution_count": 23,
   "id": "dc5ad9b3",
   "metadata": {
    "colab": {
     "base_uri": "https://localhost:8080/",
     "height": 175
    },
    "executionInfo": {
     "elapsed": 14,
     "status": "ok",
     "timestamp": 1710147141204,
     "user": {
      "displayName": "Utkarsh Tiwary",
      "userId": "14791650885169567640"
     },
     "user_tz": -330
    },
    "id": "dc5ad9b3",
    "outputId": "857c67c4-b556-406a-f17f-03a14a82f45e"
   },
   "outputs": [
    {
     "data": {
      "text/html": [
       "<div>\n",
       "<style scoped>\n",
       "    .dataframe tbody tr th:only-of-type {\n",
       "        vertical-align: middle;\n",
       "    }\n",
       "\n",
       "    .dataframe tbody tr th {\n",
       "        vertical-align: top;\n",
       "    }\n",
       "\n",
       "    .dataframe thead th {\n",
       "        text-align: right;\n",
       "    }\n",
       "</style>\n",
       "<table border=\"1\" class=\"dataframe\">\n",
       "  <thead>\n",
       "    <tr style=\"text-align: right;\">\n",
       "      <th></th>\n",
       "      <th>Feature</th>\n",
       "      <th>Null_Count</th>\n",
       "      <th>%Null</th>\n",
       "    </tr>\n",
       "  </thead>\n",
       "  <tbody>\n",
       "    <tr>\n",
       "      <th>0</th>\n",
       "      <td>MasVnrType</td>\n",
       "      <td>872</td>\n",
       "      <td>59.726027</td>\n",
       "    </tr>\n",
       "    <tr>\n",
       "      <th>2</th>\n",
       "      <td>FireplaceQu</td>\n",
       "      <td>690</td>\n",
       "      <td>47.260274</td>\n",
       "    </tr>\n",
       "    <tr>\n",
       "      <th>3</th>\n",
       "      <td>GarageYrBlt</td>\n",
       "      <td>81</td>\n",
       "      <td>5.547945</td>\n",
       "    </tr>\n",
       "    <tr>\n",
       "      <th>1</th>\n",
       "      <td>Electrical</td>\n",
       "      <td>1</td>\n",
       "      <td>0.068493</td>\n",
       "    </tr>\n",
       "  </tbody>\n",
       "</table>\n",
       "</div>"
      ],
      "text/plain": [
       "       Feature  Null_Count      %Null\n",
       "0   MasVnrType         872  59.726027\n",
       "2  FireplaceQu         690  47.260274\n",
       "3  GarageYrBlt          81   5.547945\n",
       "1   Electrical           1   0.068493"
      ]
     },
     "execution_count": 23,
     "metadata": {},
     "output_type": "execute_result"
    }
   ],
   "source": [
    "nv_df = fetch_null_val(df)\n",
    "nv_df"
   ]
  },
  {
   "cell_type": "code",
   "execution_count": 24,
   "id": "7iYSgNjUyHRY",
   "metadata": {
    "colab": {
     "base_uri": "https://localhost:8080/"
    },
    "executionInfo": {
     "elapsed": 12,
     "status": "ok",
     "timestamp": 1710147143177,
     "user": {
      "displayName": "Utkarsh Tiwary",
      "userId": "14791650885169567640"
     },
     "user_tz": -330
    },
    "id": "7iYSgNjUyHRY",
    "outputId": "3f543e80-19fa-48ba-f9ca-274c0a32ab2c"
   },
   "outputs": [
    {
     "data": {
      "text/plain": [
       "MasVnrType\n",
       "NaN        872\n",
       "BrkFace    445\n",
       "Stone      128\n",
       "BrkCmn      15\n",
       "Name: count, dtype: int64"
      ]
     },
     "execution_count": 24,
     "metadata": {},
     "output_type": "execute_result"
    }
   ],
   "source": [
    "df['MasVnrType'].value_counts(dropna=False)"
   ]
  },
  {
   "cell_type": "code",
   "execution_count": 25,
   "id": "66a4e2c9",
   "metadata": {
    "colab": {
     "base_uri": "https://localhost:8080/"
    },
    "executionInfo": {
     "elapsed": 10,
     "status": "ok",
     "timestamp": 1710147143177,
     "user": {
      "displayName": "Utkarsh Tiwary",
      "userId": "14791650885169567640"
     },
     "user_tz": -330
    },
    "id": "66a4e2c9",
    "outputId": "8cb4ecc8-4334-4e03-dca7-94ee803a6609"
   },
   "outputs": [
    {
     "data": {
      "text/plain": [
       "97"
      ]
     },
     "execution_count": 25,
     "metadata": {},
     "output_type": "execute_result"
    }
   ],
   "source": [
    "df['GarageYrBlt'].nunique()"
   ]
  },
  {
   "cell_type": "code",
   "execution_count": 26,
   "id": "bbb515c7",
   "metadata": {
    "executionInfo": {
     "elapsed": 5,
     "status": "ok",
     "timestamp": 1710147144711,
     "user": {
      "displayName": "Utkarsh Tiwary",
      "userId": "14791650885169567640"
     },
     "user_tz": -330
    },
    "id": "bbb515c7"
   },
   "outputs": [],
   "source": [
    "df['GarageYrBlt'] = df['GarageYrBlt'].fillna(df['GarageYrBlt'].mode()[0])\n",
    "\n",
    "# df['GarageYrBlt'].mode()[0] or df['GarageYrBlt'].mode().max()"
   ]
  },
  {
   "cell_type": "code",
   "execution_count": 27,
   "id": "08a86ba8",
   "metadata": {
    "colab": {
     "base_uri": "https://localhost:8080/"
    },
    "executionInfo": {
     "elapsed": 10,
     "status": "ok",
     "timestamp": 1710147145408,
     "user": {
      "displayName": "Utkarsh Tiwary",
      "userId": "14791650885169567640"
     },
     "user_tz": -330
    },
    "id": "08a86ba8",
    "outputId": "b578ab7b-02e1-46fc-81e8-bcf9d7f6e3ba"
   },
   "outputs": [
    {
     "data": {
      "text/plain": [
       "FireplaceQu\n",
       "Gd    380\n",
       "TA    313\n",
       "Fa     33\n",
       "Ex     24\n",
       "Po     20\n",
       "Name: count, dtype: int64"
      ]
     },
     "execution_count": 27,
     "metadata": {},
     "output_type": "execute_result"
    }
   ],
   "source": [
    "df['FireplaceQu'].value_counts()"
   ]
  },
  {
   "cell_type": "code",
   "execution_count": 28,
   "id": "482911f5",
   "metadata": {
    "executionInfo": {
     "elapsed": 5,
     "status": "ok",
     "timestamp": 1710147145409,
     "user": {
      "displayName": "Utkarsh Tiwary",
      "userId": "14791650885169567640"
     },
     "user_tz": -330
    },
    "id": "482911f5"
   },
   "outputs": [],
   "source": [
    "df['FireplaceQu'] = df['FireplaceQu'].fillna('No Fireplace')"
   ]
  },
  {
   "cell_type": "code",
   "execution_count": 29,
   "id": "cd8f21e8",
   "metadata": {
    "colab": {
     "base_uri": "https://localhost:8080/",
     "height": 125
    },
    "executionInfo": {
     "elapsed": 17,
     "status": "ok",
     "timestamp": 1710147146364,
     "user": {
      "displayName": "Utkarsh Tiwary",
      "userId": "14791650885169567640"
     },
     "user_tz": -330
    },
    "id": "cd8f21e8",
    "outputId": "847a8873-5817-49c7-99c2-ffb16ed6b47e"
   },
   "outputs": [
    {
     "data": {
      "text/html": [
       "<div>\n",
       "<style scoped>\n",
       "    .dataframe tbody tr th:only-of-type {\n",
       "        vertical-align: middle;\n",
       "    }\n",
       "\n",
       "    .dataframe tbody tr th {\n",
       "        vertical-align: top;\n",
       "    }\n",
       "\n",
       "    .dataframe thead th {\n",
       "        text-align: right;\n",
       "    }\n",
       "</style>\n",
       "<table border=\"1\" class=\"dataframe\">\n",
       "  <thead>\n",
       "    <tr style=\"text-align: right;\">\n",
       "      <th></th>\n",
       "      <th>Feature</th>\n",
       "      <th>Null_Count</th>\n",
       "      <th>%Null</th>\n",
       "    </tr>\n",
       "  </thead>\n",
       "  <tbody>\n",
       "    <tr>\n",
       "      <th>0</th>\n",
       "      <td>MasVnrType</td>\n",
       "      <td>872</td>\n",
       "      <td>59.726027</td>\n",
       "    </tr>\n",
       "    <tr>\n",
       "      <th>1</th>\n",
       "      <td>Electrical</td>\n",
       "      <td>1</td>\n",
       "      <td>0.068493</td>\n",
       "    </tr>\n",
       "  </tbody>\n",
       "</table>\n",
       "</div>"
      ],
      "text/plain": [
       "      Feature  Null_Count      %Null\n",
       "0  MasVnrType         872  59.726027\n",
       "1  Electrical           1   0.068493"
      ]
     },
     "execution_count": 29,
     "metadata": {},
     "output_type": "execute_result"
    }
   ],
   "source": [
    "nv_df = fetch_null_val(df)\n",
    "nv_df"
   ]
  },
  {
   "cell_type": "code",
   "execution_count": 30,
   "id": "48d1b9c6",
   "metadata": {
    "colab": {
     "base_uri": "https://localhost:8080/"
    },
    "executionInfo": {
     "elapsed": 9,
     "status": "ok",
     "timestamp": 1710147148087,
     "user": {
      "displayName": "Utkarsh Tiwary",
      "userId": "14791650885169567640"
     },
     "user_tz": -330
    },
    "id": "48d1b9c6",
    "outputId": "e7058339-aa8c-40c1-a47e-6a52553f9def"
   },
   "outputs": [
    {
     "data": {
      "text/plain": [
       "(1460, 77)"
      ]
     },
     "execution_count": 30,
     "metadata": {},
     "output_type": "execute_result"
    }
   ],
   "source": [
    "df.shape"
   ]
  },
  {
   "cell_type": "code",
   "execution_count": 31,
   "id": "86ed58b0",
   "metadata": {
    "executionInfo": {
     "elapsed": 3,
     "status": "ok",
     "timestamp": 1710147148879,
     "user": {
      "displayName": "Utkarsh Tiwary",
      "userId": "14791650885169567640"
     },
     "user_tz": -330
    },
    "id": "86ed58b0"
   },
   "outputs": [],
   "source": [
    "df.dropna(inplace=True)"
   ]
  },
  {
   "cell_type": "code",
   "execution_count": 32,
   "id": "246bf471",
   "metadata": {
    "colab": {
     "base_uri": "https://localhost:8080/"
    },
    "executionInfo": {
     "elapsed": 19,
     "status": "ok",
     "timestamp": 1710147150461,
     "user": {
      "displayName": "Utkarsh Tiwary",
      "userId": "14791650885169567640"
     },
     "user_tz": -330
    },
    "id": "246bf471",
    "outputId": "33b4b298-699f-43a6-b0d1-49d0ac8ee5ef"
   },
   "outputs": [
    {
     "data": {
      "text/plain": [
       "(588, 77)"
      ]
     },
     "execution_count": 32,
     "metadata": {},
     "output_type": "execute_result"
    }
   ],
   "source": [
    "df.shape"
   ]
  },
  {
   "cell_type": "code",
   "execution_count": 33,
   "id": "559b43bb",
   "metadata": {
    "colab": {
     "base_uri": "https://localhost:8080/",
     "height": 89
    },
    "executionInfo": {
     "elapsed": 22,
     "status": "ok",
     "timestamp": 1710147151178,
     "user": {
      "displayName": "Utkarsh Tiwary",
      "userId": "14791650885169567640"
     },
     "user_tz": -330
    },
    "id": "559b43bb",
    "outputId": "b1939479-ddc1-4ca2-8010-c266aa18df30"
   },
   "outputs": [
    {
     "data": {
      "text/html": [
       "<div>\n",
       "<style scoped>\n",
       "    .dataframe tbody tr th:only-of-type {\n",
       "        vertical-align: middle;\n",
       "    }\n",
       "\n",
       "    .dataframe tbody tr th {\n",
       "        vertical-align: top;\n",
       "    }\n",
       "\n",
       "    .dataframe thead th {\n",
       "        text-align: right;\n",
       "    }\n",
       "</style>\n",
       "<table border=\"1\" class=\"dataframe\">\n",
       "  <thead>\n",
       "    <tr style=\"text-align: right;\">\n",
       "      <th></th>\n",
       "      <th>Feature</th>\n",
       "      <th>Null_Count</th>\n",
       "      <th>%Null</th>\n",
       "    </tr>\n",
       "  </thead>\n",
       "  <tbody>\n",
       "  </tbody>\n",
       "</table>\n",
       "</div>"
      ],
      "text/plain": [
       "Empty DataFrame\n",
       "Columns: [Feature, Null_Count, %Null]\n",
       "Index: []"
      ]
     },
     "execution_count": 33,
     "metadata": {},
     "output_type": "execute_result"
    }
   ],
   "source": [
    "nv_df = fetch_null_val(df)\n",
    "nv_df"
   ]
  },
  {
   "cell_type": "markdown",
   "id": "b93facb9",
   "metadata": {
    "id": "b93facb9"
   },
   "source": [
    "#### Duplicates"
   ]
  },
  {
   "cell_type": "code",
   "execution_count": 34,
   "id": "46b37ee3",
   "metadata": {
    "colab": {
     "base_uri": "https://localhost:8080/"
    },
    "executionInfo": {
     "elapsed": 5,
     "status": "ok",
     "timestamp": 1710147153361,
     "user": {
      "displayName": "Utkarsh Tiwary",
      "userId": "14791650885169567640"
     },
     "user_tz": -330
    },
    "id": "46b37ee3",
    "outputId": "30fe6485-b840-4c9f-f3d5-ae3925499452"
   },
   "outputs": [
    {
     "data": {
      "text/plain": [
       "0"
      ]
     },
     "execution_count": 34,
     "metadata": {},
     "output_type": "execute_result"
    }
   ],
   "source": [
    "df.duplicated().sum()"
   ]
  },
  {
   "cell_type": "code",
   "execution_count": 35,
   "id": "81f069cc",
   "metadata": {
    "colab": {
     "base_uri": "https://localhost:8080/"
    },
    "executionInfo": {
     "elapsed": 5,
     "status": "ok",
     "timestamp": 1710147153830,
     "user": {
      "displayName": "Utkarsh Tiwary",
      "userId": "14791650885169567640"
     },
     "user_tz": -330
    },
    "id": "81f069cc",
    "outputId": "35986fc4-14eb-4bf2-e44e-2789329e00c0"
   },
   "outputs": [
    {
     "data": {
      "text/plain": [
       "Id                 int64\n",
       "MSSubClass         int64\n",
       "MSZoning          object\n",
       "LotFrontage      float64\n",
       "LotArea            int64\n",
       "                  ...   \n",
       "MoSold             int64\n",
       "YrSold             int64\n",
       "SaleType          object\n",
       "SaleCondition     object\n",
       "SalePrice          int64\n",
       "Length: 77, dtype: object"
      ]
     },
     "execution_count": 35,
     "metadata": {},
     "output_type": "execute_result"
    }
   ],
   "source": [
    "df.dtypes"
   ]
  },
  {
   "cell_type": "code",
   "execution_count": 36,
   "id": "036d43f4",
   "metadata": {
    "executionInfo": {
     "elapsed": 2,
     "status": "ok",
     "timestamp": 1710147155490,
     "user": {
      "displayName": "Utkarsh Tiwary",
      "userId": "14791650885169567640"
     },
     "user_tz": -330
    },
    "id": "036d43f4"
   },
   "outputs": [],
   "source": [
    "df.drop('Id',axis=1,inplace=True)"
   ]
  },
  {
   "cell_type": "code",
   "execution_count": 37,
   "id": "b63c22e0",
   "metadata": {
    "colab": {
     "base_uri": "https://localhost:8080/"
    },
    "executionInfo": {
     "elapsed": 7,
     "status": "ok",
     "timestamp": 1710147155919,
     "user": {
      "displayName": "Utkarsh Tiwary",
      "userId": "14791650885169567640"
     },
     "user_tz": -330
    },
    "id": "b63c22e0",
    "outputId": "b11f27e3-59d7-4749-edd7-24ed8631fa66"
   },
   "outputs": [
    {
     "data": {
      "text/plain": [
       "(588, 76)"
      ]
     },
     "execution_count": 37,
     "metadata": {},
     "output_type": "execute_result"
    }
   ],
   "source": [
    "df.shape"
   ]
  },
  {
   "cell_type": "code",
   "execution_count": 38,
   "id": "P8yndFvS0B4L",
   "metadata": {
    "colab": {
     "base_uri": "https://localhost:8080/"
    },
    "executionInfo": {
     "elapsed": 13,
     "status": "ok",
     "timestamp": 1710147157332,
     "user": {
      "displayName": "Utkarsh Tiwary",
      "userId": "14791650885169567640"
     },
     "user_tz": -330
    },
    "id": "P8yndFvS0B4L",
    "outputId": "30566739-bdc4-482e-e143-3ea9d4d760d4"
   },
   "outputs": [
    {
     "data": {
      "text/plain": [
       "Index(['MSSubClass', 'MSZoning', 'LotFrontage', 'LotArea', 'Street',\n",
       "       'LotShape', 'LandContour', 'Utilities', 'LotConfig', 'LandSlope',\n",
       "       'Neighborhood', 'Condition1', 'Condition2', 'BldgType', 'HouseStyle',\n",
       "       'OverallQual', 'OverallCond', 'YearBuilt', 'YearRemodAdd', 'RoofStyle',\n",
       "       'RoofMatl', 'Exterior1st', 'Exterior2nd', 'MasVnrType', 'MasVnrArea',\n",
       "       'ExterQual', 'ExterCond', 'Foundation', 'BsmtQual', 'BsmtCond',\n",
       "       'BsmtExposure', 'BsmtFinType1', 'BsmtFinSF1', 'BsmtFinType2',\n",
       "       'BsmtFinSF2', 'BsmtUnfSF', 'TotalBsmtSF', 'Heating', 'HeatingQC',\n",
       "       'CentralAir', 'Electrical', '1stFlrSF', '2ndFlrSF', 'LowQualFinSF',\n",
       "       'GrLivArea', 'BsmtFullBath', 'BsmtHalfBath', 'FullBath', 'HalfBath',\n",
       "       'BedroomAbvGr', 'KitchenAbvGr', 'KitchenQual', 'TotRmsAbvGrd',\n",
       "       'Functional', 'Fireplaces', 'FireplaceQu', 'GarageType', 'GarageYrBlt',\n",
       "       'GarageFinish', 'GarageCars', 'GarageArea', 'GarageQual', 'GarageCond',\n",
       "       'PavedDrive', 'WoodDeckSF', 'OpenPorchSF', 'EnclosedPorch', '3SsnPorch',\n",
       "       'ScreenPorch', 'PoolArea', 'MiscVal', 'MoSold', 'YrSold', 'SaleType',\n",
       "       'SaleCondition', 'SalePrice'],\n",
       "      dtype='object')"
      ]
     },
     "execution_count": 38,
     "metadata": {},
     "output_type": "execute_result"
    }
   ],
   "source": [
    "df.columns"
   ]
  },
  {
   "cell_type": "markdown",
   "id": "99fb5725",
   "metadata": {
    "id": "99fb5725"
   },
   "source": [
    "### EDA"
   ]
  },
  {
   "cell_type": "code",
   "execution_count": 39,
   "id": "f0b06200",
   "metadata": {
    "colab": {
     "base_uri": "https://localhost:8080/"
    },
    "executionInfo": {
     "elapsed": 5,
     "status": "ok",
     "timestamp": 1710147158205,
     "user": {
      "displayName": "Utkarsh Tiwary",
      "userId": "14791650885169567640"
     },
     "user_tz": -330
    },
    "id": "f0b06200",
    "outputId": "bfae5528-0e87-46b2-846a-8c3ea633e2a4"
   },
   "outputs": [
    {
     "data": {
      "text/plain": [
       "Utilities\n",
       "AllPub    587\n",
       "NoSeWa      1\n",
       "Name: count, dtype: int64"
      ]
     },
     "execution_count": 39,
     "metadata": {},
     "output_type": "execute_result"
    }
   ],
   "source": [
    "df['Utilities'].value_counts()"
   ]
  },
  {
   "cell_type": "code",
   "execution_count": 40,
   "id": "3821adfd",
   "metadata": {
    "colab": {
     "base_uri": "https://localhost:8080/"
    },
    "executionInfo": {
     "elapsed": 4,
     "status": "ok",
     "timestamp": 1710147159649,
     "user": {
      "displayName": "Utkarsh Tiwary",
      "userId": "14791650885169567640"
     },
     "user_tz": -330
    },
    "id": "3821adfd",
    "outputId": "039c2c9e-9a2d-41b9-96ee-6ce9e37d45da"
   },
   "outputs": [
    {
     "data": {
      "text/plain": [
       "Index(['MSSubClass', 'MSZoning', 'LotFrontage', 'LotArea', 'Street',\n",
       "       'LotShape', 'LandContour', 'LotConfig', 'LandSlope', 'Neighborhood',\n",
       "       'Condition1', 'Condition2', 'BldgType', 'HouseStyle', 'OverallQual',\n",
       "       'OverallCond', 'YearBuilt', 'YearRemodAdd', 'RoofStyle', 'RoofMatl',\n",
       "       'Exterior1st', 'Exterior2nd', 'MasVnrType', 'MasVnrArea', 'ExterQual',\n",
       "       'ExterCond', 'Foundation', 'BsmtQual', 'BsmtCond', 'BsmtExposure',\n",
       "       'BsmtFinType1', 'BsmtFinSF1', 'BsmtFinType2', 'BsmtFinSF2', 'BsmtUnfSF',\n",
       "       'TotalBsmtSF', 'Heating', 'HeatingQC', 'CentralAir', 'Electrical',\n",
       "       '1stFlrSF', '2ndFlrSF', 'LowQualFinSF', 'GrLivArea', 'BsmtFullBath',\n",
       "       'BsmtHalfBath', 'FullBath', 'HalfBath', 'BedroomAbvGr', 'KitchenAbvGr',\n",
       "       'KitchenQual', 'TotRmsAbvGrd', 'Functional', 'Fireplaces',\n",
       "       'FireplaceQu', 'GarageType', 'GarageYrBlt', 'GarageFinish',\n",
       "       'GarageCars', 'GarageArea', 'GarageQual', 'GarageCond', 'PavedDrive',\n",
       "       'WoodDeckSF', 'OpenPorchSF', 'EnclosedPorch', '3SsnPorch',\n",
       "       'ScreenPorch', 'PoolArea', 'MiscVal', 'MoSold', 'YrSold', 'SaleType',\n",
       "       'SaleCondition', 'SalePrice'],\n",
       "      dtype='object')"
      ]
     },
     "execution_count": 40,
     "metadata": {},
     "output_type": "execute_result"
    }
   ],
   "source": [
    "df.drop('Utilities',axis=1,inplace=True)\n",
    "df.columns"
   ]
  },
  {
   "cell_type": "code",
   "execution_count": 41,
   "id": "672d9d32",
   "metadata": {
    "colab": {
     "base_uri": "https://localhost:8080/"
    },
    "executionInfo": {
     "elapsed": 8,
     "status": "ok",
     "timestamp": 1710147161540,
     "user": {
      "displayName": "Utkarsh Tiwary",
      "userId": "14791650885169567640"
     },
     "user_tz": -330
    },
    "id": "672d9d32",
    "outputId": "d5f5ff81-a3c8-483f-f508-6bf11c180ce0"
   },
   "outputs": [
    {
     "name": "stdout",
     "output_type": "stream",
     "text": [
      "Index(['MSZoning', 'Street', 'LotShape', 'LandContour', 'LotConfig',\n",
      "       'LandSlope', 'Neighborhood', 'Condition1', 'Condition2', 'BldgType',\n",
      "       'HouseStyle', 'RoofStyle', 'RoofMatl', 'Exterior1st', 'Exterior2nd',\n",
      "       'MasVnrType', 'ExterQual', 'ExterCond', 'Foundation', 'BsmtQual',\n",
      "       'BsmtCond', 'BsmtExposure', 'BsmtFinType1', 'BsmtFinType2', 'Heating',\n",
      "       'HeatingQC', 'CentralAir', 'Electrical', 'KitchenQual', 'Functional',\n",
      "       'FireplaceQu', 'GarageType', 'GarageFinish', 'GarageQual', 'GarageCond',\n",
      "       'PavedDrive', 'SaleType', 'SaleCondition'],\n",
      "      dtype='object')\n",
      "Index(['MSSubClass', 'LotFrontage', 'LotArea', 'OverallQual', 'OverallCond',\n",
      "       'YearBuilt', 'YearRemodAdd', 'MasVnrArea', 'BsmtFinSF1', 'BsmtFinSF2',\n",
      "       'BsmtUnfSF', 'TotalBsmtSF', '1stFlrSF', '2ndFlrSF', 'LowQualFinSF',\n",
      "       'GrLivArea', 'BsmtFullBath', 'BsmtHalfBath', 'FullBath', 'HalfBath',\n",
      "       'BedroomAbvGr', 'KitchenAbvGr', 'TotRmsAbvGrd', 'Fireplaces',\n",
      "       'GarageYrBlt', 'GarageCars', 'GarageArea', 'WoodDeckSF', 'OpenPorchSF',\n",
      "       'EnclosedPorch', '3SsnPorch', 'ScreenPorch', 'PoolArea', 'MiscVal',\n",
      "       'MoSold', 'YrSold', 'SalePrice'],\n",
      "      dtype='object')\n"
     ]
    }
   ],
   "source": [
    "cat_cols = df.select_dtypes(include='object').columns\n",
    "num_cols = df.dtypes[df.dtypes!='object'].index\n",
    "print(cat_cols)\n",
    "print(num_cols)"
   ]
  },
  {
   "cell_type": "code",
   "execution_count": 42,
   "id": "5703d530",
   "metadata": {
    "colab": {
     "base_uri": "https://localhost:8080/"
    },
    "executionInfo": {
     "elapsed": 2,
     "status": "ok",
     "timestamp": 1710147163206,
     "user": {
      "displayName": "Utkarsh Tiwary",
      "userId": "14791650885169567640"
     },
     "user_tz": -330
    },
    "id": "5703d530",
    "outputId": "f332e55d-16d4-40b2-9d0d-5c4611669ef5"
   },
   "outputs": [
    {
     "name": "stdout",
     "output_type": "stream",
     "text": [
      "MSZoning 4\n",
      "Street 2\n",
      "LotShape 4\n",
      "LandContour 4\n",
      "LotConfig 5\n",
      "LandSlope 3\n",
      "Neighborhood 23\n",
      "Condition1 9\n",
      "Condition2 3\n",
      "BldgType 5\n",
      "HouseStyle 5\n",
      "RoofStyle 5\n",
      "RoofMatl 6\n",
      "Exterior1st 10\n",
      "Exterior2nd 12\n",
      "MasVnrType 3\n",
      "ExterQual 3\n",
      "ExterCond 3\n",
      "Foundation 4\n",
      "BsmtQual 5\n",
      "BsmtCond 4\n",
      "BsmtExposure 5\n",
      "BsmtFinType1 7\n",
      "BsmtFinType2 7\n",
      "Heating 3\n",
      "HeatingQC 4\n",
      "CentralAir 2\n",
      "Electrical 3\n",
      "KitchenQual 4\n",
      "Functional 7\n",
      "FireplaceQu 6\n",
      "GarageType 7\n",
      "GarageFinish 4\n",
      "GarageQual 4\n",
      "GarageCond 4\n",
      "PavedDrive 3\n",
      "SaleType 7\n",
      "SaleCondition 6\n"
     ]
    }
   ],
   "source": [
    "for i in cat_cols:\n",
    "    print(i,df[i].nunique())"
   ]
  },
  {
   "cell_type": "code",
   "execution_count": 43,
   "id": "24270389",
   "metadata": {
    "executionInfo": {
     "elapsed": 13,
     "status": "ok",
     "timestamp": 1710147165408,
     "user": {
      "displayName": "Utkarsh Tiwary",
      "userId": "14791650885169567640"
     },
     "user_tz": -330
    },
    "id": "24270389"
   },
   "outputs": [],
   "source": [
    "# df['Neighborhood'].value_counts()"
   ]
  },
  {
   "cell_type": "code",
   "execution_count": 44,
   "id": "3d284336",
   "metadata": {
    "colab": {
     "base_uri": "https://localhost:8080/"
    },
    "executionInfo": {
     "elapsed": 6,
     "status": "ok",
     "timestamp": 1710147166180,
     "user": {
      "displayName": "Utkarsh Tiwary",
      "userId": "14791650885169567640"
     },
     "user_tz": -330
    },
    "id": "3d284336",
    "outputId": "993dca49-e9b5-4362-9da2-0cbec6f7e786"
   },
   "outputs": [
    {
     "name": "stdout",
     "output_type": "stream",
     "text": [
      "Street\n",
      "Street\n",
      "Pave    586\n",
      "Grvl      2\n",
      "Name: count, dtype: int64\n",
      "CentralAir\n",
      "CentralAir\n",
      "Y    582\n",
      "N      6\n",
      "Name: count, dtype: int64\n"
     ]
    }
   ],
   "source": [
    "cols = ['Street','CentralAir']\n",
    "for i in cols:\n",
    "    print(i)\n",
    "    print(df[i].value_counts())"
   ]
  },
  {
   "cell_type": "code",
   "execution_count": 45,
   "id": "4458e1f7",
   "metadata": {
    "executionInfo": {
     "elapsed": 6,
     "status": "ok",
     "timestamp": 1710147167824,
     "user": {
      "displayName": "Utkarsh Tiwary",
      "userId": "14791650885169567640"
     },
     "user_tz": -330
    },
    "id": "4458e1f7"
   },
   "outputs": [],
   "source": [
    "df.drop(['Street'],axis=1,inplace=True)"
   ]
  },
  {
   "cell_type": "code",
   "execution_count": 46,
   "id": "67bd103f",
   "metadata": {
    "colab": {
     "base_uri": "https://localhost:8080/"
    },
    "executionInfo": {
     "elapsed": 10,
     "status": "ok",
     "timestamp": 1710147169548,
     "user": {
      "displayName": "Utkarsh Tiwary",
      "userId": "14791650885169567640"
     },
     "user_tz": -330
    },
    "id": "67bd103f",
    "outputId": "df3e593e-5830-423a-c67a-afe6a10c24c8"
   },
   "outputs": [
    {
     "data": {
      "text/plain": [
       "(588, 74)"
      ]
     },
     "execution_count": 46,
     "metadata": {},
     "output_type": "execute_result"
    }
   ],
   "source": [
    "df.shape"
   ]
  },
  {
   "cell_type": "code",
   "execution_count": 47,
   "id": "YIjQdYHm2GFV",
   "metadata": {
    "colab": {
     "base_uri": "https://localhost:8080/"
    },
    "executionInfo": {
     "elapsed": 3,
     "status": "ok",
     "timestamp": 1710147169952,
     "user": {
      "displayName": "Utkarsh Tiwary",
      "userId": "14791650885169567640"
     },
     "user_tz": -330
    },
    "id": "YIjQdYHm2GFV",
    "outputId": "11d4d58f-0b45-46de-d59c-e5bc06d62f79"
   },
   "outputs": [
    {
     "data": {
      "text/plain": [
       "Condition2\n",
       "Norm    585\n",
       "PosN      2\n",
       "RRAn      1\n",
       "Name: count, dtype: int64"
      ]
     },
     "execution_count": 47,
     "metadata": {},
     "output_type": "execute_result"
    }
   ],
   "source": [
    "df['Condition2'].value_counts()"
   ]
  },
  {
   "cell_type": "code",
   "execution_count": 48,
   "id": "Z7m8zHOR2b36",
   "metadata": {
    "executionInfo": {
     "elapsed": 2,
     "status": "ok",
     "timestamp": 1710147171658,
     "user": {
      "displayName": "Utkarsh Tiwary",
      "userId": "14791650885169567640"
     },
     "user_tz": -330
    },
    "id": "Z7m8zHOR2b36"
   },
   "outputs": [],
   "source": [
    "df.drop('Condition2',axis=1,inplace=True)"
   ]
  },
  {
   "cell_type": "code",
   "execution_count": 49,
   "id": "78b222f5",
   "metadata": {
    "colab": {
     "base_uri": "https://localhost:8080/"
    },
    "executionInfo": {
     "elapsed": 4,
     "status": "ok",
     "timestamp": 1710147173105,
     "user": {
      "displayName": "Utkarsh Tiwary",
      "userId": "14791650885169567640"
     },
     "user_tz": -330
    },
    "id": "78b222f5",
    "outputId": "59e83b6d-359d-46bc-d61c-bdf6cb1c4953"
   },
   "outputs": [
    {
     "name": "stdout",
     "output_type": "stream",
     "text": [
      "Index(['MSZoning', 'LotShape', 'LandContour', 'LotConfig', 'LandSlope',\n",
      "       'Neighborhood', 'Condition1', 'BldgType', 'HouseStyle', 'RoofStyle',\n",
      "       'RoofMatl', 'Exterior1st', 'Exterior2nd', 'MasVnrType', 'ExterQual',\n",
      "       'ExterCond', 'Foundation', 'BsmtQual', 'BsmtCond', 'BsmtExposure',\n",
      "       'BsmtFinType1', 'BsmtFinType2', 'Heating', 'HeatingQC', 'CentralAir',\n",
      "       'Electrical', 'KitchenQual', 'Functional', 'FireplaceQu', 'GarageType',\n",
      "       'GarageFinish', 'GarageQual', 'GarageCond', 'PavedDrive', 'SaleType',\n",
      "       'SaleCondition'],\n",
      "      dtype='object')\n"
     ]
    }
   ],
   "source": [
    "cat_cols = df.select_dtypes(include='object').columns\n",
    "print(cat_cols)"
   ]
  },
  {
   "cell_type": "code",
   "execution_count": 50,
   "id": "691625e5",
   "metadata": {
    "colab": {
     "base_uri": "https://localhost:8080/",
     "height": 1000
    },
    "executionInfo": {
     "elapsed": 3123,
     "status": "ok",
     "timestamp": 1710147177803,
     "user": {
      "displayName": "Utkarsh Tiwary",
      "userId": "14791650885169567640"
     },
     "user_tz": -330
    },
    "id": "691625e5",
    "outputId": "a858c9ff-5070-445d-def5-208396f01927"
   },
   "outputs": [
    {
     "data": {
      "image/png": "[encoded data removed]",
      "text/plain": [
       "<Figure size 1200x2000 with 10 Axes>"
      ]
     },
     "metadata": {},
     "output_type": "display_data"
    }
   ],
   "source": [
    "cols = ['LotShape','LandSlope','HouseStyle','Exterior2nd','BsmtQual',\n",
    "        'HeatingQC','Electrical','GarageCond','SaleType', 'SaleCondition']\n",
    "\n",
    "plt.figure(figsize=(12,20))\n",
    "for i in range(len(cols)):\n",
    "    plt.subplot(5,2,i+1)\n",
    "    ax = sns.countplot(x=df[cols[i]],palette='bright')\n",
    "    plt.bar_label(ax.containers[0])\n",
    "    plt.title(f'Countplot for {cols[i]}')\n",
    "\n",
    "plt.tight_layout()\n",
    "plt.show()"
   ]
  },
  {
   "cell_type": "code",
   "execution_count": 51,
   "id": "7bc8b1af",
   "metadata": {
    "colab": {
     "base_uri": "https://localhost:8080/"
    },
    "executionInfo": {
     "elapsed": 12,
     "status": "ok",
     "timestamp": 1710147182413,
     "user": {
      "displayName": "Utkarsh Tiwary",
      "userId": "14791650885169567640"
     },
     "user_tz": -330
    },
    "id": "7bc8b1af",
    "outputId": "f12980c5-1a8a-4b83-d51a-8b3442773b1e"
   },
   "outputs": [
    {
     "data": {
      "text/plain": [
       "Index(['MSSubClass', 'LotFrontage', 'LotArea', 'OverallQual', 'OverallCond',\n",
       "       'YearBuilt', 'YearRemodAdd', 'MasVnrArea', 'BsmtFinSF1', 'BsmtFinSF2',\n",
       "       'BsmtUnfSF', 'TotalBsmtSF', '1stFlrSF', '2ndFlrSF', 'LowQualFinSF',\n",
       "       'GrLivArea', 'BsmtFullBath', 'BsmtHalfBath', 'FullBath', 'HalfBath',\n",
       "       'BedroomAbvGr', 'KitchenAbvGr', 'TotRmsAbvGrd', 'Fireplaces',\n",
       "       'GarageYrBlt', 'GarageCars', 'GarageArea', 'WoodDeckSF', 'OpenPorchSF',\n",
       "       'EnclosedPorch', '3SsnPorch', 'ScreenPorch', 'PoolArea', 'MiscVal',\n",
       "       'MoSold', 'YrSold', 'SalePrice'],\n",
       "      dtype='object')"
      ]
     },
     "execution_count": 51,
     "metadata": {},
     "output_type": "execute_result"
    }
   ],
   "source": [
    "num_cols"
   ]
  },
  {
   "cell_type": "code",
   "execution_count": 52,
   "id": "415e09e2",
   "metadata": {
    "colab": {
     "base_uri": "https://localhost:8080/",
     "height": 1000
    },
    "executionInfo": {
     "elapsed": 4347,
     "status": "ok",
     "timestamp": 1710147191151,
     "user": {
      "displayName": "Utkarsh Tiwary",
      "userId": "14791650885169567640"
     },
     "user_tz": -330
    },
    "id": "415e09e2",
    "outputId": "141a4cdc-4924-43aa-9f72-233ce2686263"
   },
   "outputs": [
    {
     "data": {
      "image/png": "[encoded data removed]",
      "text/plain": [
       "<Figure size 1200x2000 with 10 Axes>"
      ]
     },
     "metadata": {},
     "output_type": "display_data"
    }
   ],
   "source": [
    "cols = ['LotArea','MasVnrArea','TotalBsmtSF','1stFlrSF','GrLivArea',\n",
    "        'TotRmsAbvGrd','BedroomAbvGr','GarageArea','PoolArea', 'SalePrice']\n",
    "\n",
    "plt.figure(figsize=(12,20))\n",
    "for i in range(len(cols)):\n",
    "    plt.subplot(5,2,i+1)\n",
    "    sns.histplot(x=df[cols[i]],kde=True)\n",
    "    plt.title(f'Countplot for {cols[i]}')\n",
    "\n",
    "plt.tight_layout()\n",
    "plt.show()"
   ]
  },
  {
   "cell_type": "markdown",
   "id": "ca6c2245",
   "metadata": {
    "id": "ca6c2245"
   },
   "source": [
    "#### Corr"
   ]
  },
  {
   "cell_type": "code",
   "execution_count": 53,
   "id": "26b31ab3",
   "metadata": {
    "colab": {
     "base_uri": "https://localhost:8080/"
    },
    "executionInfo": {
     "elapsed": 26,
     "status": "ok",
     "timestamp": 1710147198996,
     "user": {
      "displayName": "Utkarsh Tiwary",
      "userId": "14791650885169567640"
     },
     "user_tz": -330
    },
    "id": "26b31ab3",
    "outputId": "a8fc99d7-e921-4049-e87a-eb678dfa02cb"
   },
   "outputs": [
    {
     "name": "stdout",
     "output_type": "stream",
     "text": [
      "Index(['MSSubClass', 'LotFrontage', 'LotArea', 'OverallQual', 'OverallCond',\n",
      "       'YearBuilt', 'YearRemodAdd', 'MasVnrArea', 'BsmtFinSF1', 'BsmtFinSF2',\n",
      "       'BsmtUnfSF', 'TotalBsmtSF', '1stFlrSF', '2ndFlrSF', 'LowQualFinSF',\n",
      "       'GrLivArea', 'BsmtFullBath', 'BsmtHalfBath', 'FullBath', 'HalfBath',\n",
      "       'BedroomAbvGr', 'KitchenAbvGr', 'TotRmsAbvGrd', 'Fireplaces',\n",
      "       'GarageYrBlt', 'GarageCars', 'GarageArea', 'WoodDeckSF', 'OpenPorchSF',\n",
      "       'EnclosedPorch', '3SsnPorch', 'ScreenPorch', 'PoolArea', 'MiscVal',\n",
      "       'MoSold', 'YrSold', 'SalePrice'],\n",
      "      dtype='object')\n"
     ]
    }
   ],
   "source": [
    "num_cols = df.dtypes[df.dtypes!='object'].index\n",
    "print(num_cols)"
   ]
  },
  {
   "cell_type": "code",
   "execution_count": 54,
   "id": "06a23f76",
   "metadata": {
    "colab": {
     "base_uri": "https://localhost:8080/",
     "height": 860
    },
    "executionInfo": {
     "elapsed": 2283,
     "status": "ok",
     "timestamp": 1710147205128,
     "user": {
      "displayName": "Utkarsh Tiwary",
      "userId": "14791650885169567640"
     },
     "user_tz": -330
    },
    "id": "06a23f76",
    "outputId": "37e2a5d0-e8c3-464f-9401-574a302945e8"
   },
   "outputs": [
    {
     "data": {
      "image/png": "[encoded data removed]",
      "text/plain": [
       "<Figure size 2000x2000 with 2 Axes>"
      ]
     },
     "metadata": {},
     "output_type": "display_data"
    }
   ],
   "source": [
    "corr = df[num_cols].corr()\n",
    "plt.figure(figsize=(20,20))\n",
    "sns.heatmap(corr[abs(corr)>=0.7],annot=True,cmap='coolwarm')\n",
    "plt.show()"
   ]
  },
  {
   "cell_type": "code",
   "execution_count": null,
   "id": "b905b738",
   "metadata": {
    "id": "b905b738"
   },
   "outputs": [],
   "source": []
  },
  {
   "cell_type": "markdown",
   "id": "c4b367f8",
   "metadata": {
    "id": "c4b367f8"
   },
   "source": [
    "#### Outlier Treatment"
   ]
  },
  {
   "cell_type": "code",
   "execution_count": 55,
   "id": "88aa8302",
   "metadata": {
    "colab": {
     "base_uri": "https://localhost:8080/",
     "height": 1000
    },
    "executionInfo": {
     "elapsed": 444,
     "status": "ok",
     "timestamp": 1710147211119,
     "user": {
      "displayName": "Utkarsh Tiwary",
      "userId": "14791650885169567640"
     },
     "user_tz": -330
    },
    "id": "88aa8302",
    "outputId": "c722c447-cafd-4dfa-ff3f-e9a5b42e5523"
   },
   "outputs": [
    {
     "data": {
      "text/html": [
       "<div>\n",
       "<style scoped>\n",
       "    .dataframe tbody tr th:only-of-type {\n",
       "        vertical-align: middle;\n",
       "    }\n",
       "\n",
       "    .dataframe tbody tr th {\n",
       "        vertical-align: top;\n",
       "    }\n",
       "\n",
       "    .dataframe thead th {\n",
       "        text-align: right;\n",
       "    }\n",
       "</style>\n",
       "<table border=\"1\" class=\"dataframe\">\n",
       "  <thead>\n",
       "    <tr style=\"text-align: right;\">\n",
       "      <th></th>\n",
       "      <th>min</th>\n",
       "      <th>1%</th>\n",
       "      <th>2%</th>\n",
       "      <th>3%</th>\n",
       "      <th>5%</th>\n",
       "      <th>50%</th>\n",
       "      <th>97%</th>\n",
       "      <th>98%</th>\n",
       "      <th>99%</th>\n",
       "      <th>max</th>\n",
       "    </tr>\n",
       "  </thead>\n",
       "  <tbody>\n",
       "    <tr>\n",
       "      <th>MSSubClass</th>\n",
       "      <td>20.0</td>\n",
       "      <td>20.00</td>\n",
       "      <td>20.00</td>\n",
       "      <td>20.00</td>\n",
       "      <td>20.00</td>\n",
       "      <td>60.0</td>\n",
       "      <td>160.00</td>\n",
       "      <td>160.00</td>\n",
       "      <td>180.00</td>\n",
       "      <td>190.0</td>\n",
       "    </tr>\n",
       "    <tr>\n",
       "      <th>LotFrontage</th>\n",
       "      <td>21.0</td>\n",
       "      <td>21.00</td>\n",
       "      <td>21.00</td>\n",
       "      <td>24.00</td>\n",
       "      <td>34.00</td>\n",
       "      <td>70.0</td>\n",
       "      <td>112.17</td>\n",
       "      <td>120.00</td>\n",
       "      <td>129.13</td>\n",
       "      <td>313.0</td>\n",
       "    </tr>\n",
       "    <tr>\n",
       "      <th>LotArea</th>\n",
       "      <td>1680.0</td>\n",
       "      <td>1680.00</td>\n",
       "      <td>1912.20</td>\n",
       "      <td>2117.00</td>\n",
       "      <td>3003.50</td>\n",
       "      <td>10165.0</td>\n",
       "      <td>20475.07</td>\n",
       "      <td>26151.36</td>\n",
       "      <td>36967.22</td>\n",
       "      <td>159000.0</td>\n",
       "    </tr>\n",
       "    <tr>\n",
       "      <th>OverallQual</th>\n",
       "      <td>3.0</td>\n",
       "      <td>4.00</td>\n",
       "      <td>5.00</td>\n",
       "      <td>5.00</td>\n",
       "      <td>5.00</td>\n",
       "      <td>7.0</td>\n",
       "      <td>9.00</td>\n",
       "      <td>10.00</td>\n",
       "      <td>10.00</td>\n",
       "      <td>10.0</td>\n",
       "    </tr>\n",
       "    <tr>\n",
       "      <th>OverallCond</th>\n",
       "      <td>2.0</td>\n",
       "      <td>4.00</td>\n",
       "      <td>4.00</td>\n",
       "      <td>4.61</td>\n",
       "      <td>5.00</td>\n",
       "      <td>5.0</td>\n",
       "      <td>7.39</td>\n",
       "      <td>8.00</td>\n",
       "      <td>9.00</td>\n",
       "      <td>9.0</td>\n",
       "    </tr>\n",
       "    <tr>\n",
       "      <th>YearBuilt</th>\n",
       "      <td>1926.0</td>\n",
       "      <td>1938.74</td>\n",
       "      <td>1948.74</td>\n",
       "      <td>1952.61</td>\n",
       "      <td>1954.35</td>\n",
       "      <td>1995.0</td>\n",
       "      <td>2008.00</td>\n",
       "      <td>2009.00</td>\n",
       "      <td>2009.00</td>\n",
       "      <td>2010.0</td>\n",
       "    </tr>\n",
       "    <tr>\n",
       "      <th>YearRemodAdd</th>\n",
       "      <td>1950.0</td>\n",
       "      <td>1950.00</td>\n",
       "      <td>1953.00</td>\n",
       "      <td>1954.00</td>\n",
       "      <td>1958.00</td>\n",
       "      <td>1999.0</td>\n",
       "      <td>2009.00</td>\n",
       "      <td>2009.00</td>\n",
       "      <td>2009.00</td>\n",
       "      <td>2010.0</td>\n",
       "    </tr>\n",
       "    <tr>\n",
       "      <th>MasVnrArea</th>\n",
       "      <td>0.0</td>\n",
       "      <td>16.00</td>\n",
       "      <td>18.00</td>\n",
       "      <td>30.00</td>\n",
       "      <td>42.00</td>\n",
       "      <td>202.5</td>\n",
       "      <td>766.78</td>\n",
       "      <td>862.60</td>\n",
       "      <td>1033.08</td>\n",
       "      <td>1600.0</td>\n",
       "    </tr>\n",
       "    <tr>\n",
       "      <th>BsmtFinSF1</th>\n",
       "      <td>0.0</td>\n",
       "      <td>0.00</td>\n",
       "      <td>0.00</td>\n",
       "      <td>0.00</td>\n",
       "      <td>0.00</td>\n",
       "      <td>560.0</td>\n",
       "      <td>1456.95</td>\n",
       "      <td>1547.02</td>\n",
       "      <td>1705.23</td>\n",
       "      <td>5644.0</td>\n",
       "    </tr>\n",
       "    <tr>\n",
       "      <th>BsmtFinSF2</th>\n",
       "      <td>0.0</td>\n",
       "      <td>0.00</td>\n",
       "      <td>0.00</td>\n",
       "      <td>0.00</td>\n",
       "      <td>0.00</td>\n",
       "      <td>0.0</td>\n",
       "      <td>375.78</td>\n",
       "      <td>542.12</td>\n",
       "      <td>683.04</td>\n",
       "      <td>1474.0</td>\n",
       "    </tr>\n",
       "    <tr>\n",
       "      <th>BsmtUnfSF</th>\n",
       "      <td>0.0</td>\n",
       "      <td>0.00</td>\n",
       "      <td>0.00</td>\n",
       "      <td>0.00</td>\n",
       "      <td>0.00</td>\n",
       "      <td>463.5</td>\n",
       "      <td>1699.85</td>\n",
       "      <td>1774.78</td>\n",
       "      <td>1927.17</td>\n",
       "      <td>2336.0</td>\n",
       "    </tr>\n",
       "    <tr>\n",
       "      <th>TotalBsmtSF</th>\n",
       "      <td>0.0</td>\n",
       "      <td>382.44</td>\n",
       "      <td>483.00</td>\n",
       "      <td>526.83</td>\n",
       "      <td>604.20</td>\n",
       "      <td>1204.0</td>\n",
       "      <td>2036.51</td>\n",
       "      <td>2140.42</td>\n",
       "      <td>2398.76</td>\n",
       "      <td>6110.0</td>\n",
       "    </tr>\n",
       "    <tr>\n",
       "      <th>1stFlrSF</th>\n",
       "      <td>483.0</td>\n",
       "      <td>483.00</td>\n",
       "      <td>612.00</td>\n",
       "      <td>661.83</td>\n",
       "      <td>717.20</td>\n",
       "      <td>1279.5</td>\n",
       "      <td>2070.56</td>\n",
       "      <td>2151.60</td>\n",
       "      <td>2367.64</td>\n",
       "      <td>4692.0</td>\n",
       "    </tr>\n",
       "    <tr>\n",
       "      <th>2ndFlrSF</th>\n",
       "      <td>0.0</td>\n",
       "      <td>0.00</td>\n",
       "      <td>0.00</td>\n",
       "      <td>0.00</td>\n",
       "      <td>0.00</td>\n",
       "      <td>0.0</td>\n",
       "      <td>1330.00</td>\n",
       "      <td>1358.30</td>\n",
       "      <td>1484.20</td>\n",
       "      <td>1872.0</td>\n",
       "    </tr>\n",
       "    <tr>\n",
       "      <th>LowQualFinSF</th>\n",
       "      <td>0.0</td>\n",
       "      <td>0.00</td>\n",
       "      <td>0.00</td>\n",
       "      <td>0.00</td>\n",
       "      <td>0.00</td>\n",
       "      <td>0.0</td>\n",
       "      <td>0.00</td>\n",
       "      <td>0.00</td>\n",
       "      <td>0.00</td>\n",
       "      <td>0.0</td>\n",
       "    </tr>\n",
       "    <tr>\n",
       "      <th>GrLivArea</th>\n",
       "      <td>747.0</td>\n",
       "      <td>848.00</td>\n",
       "      <td>848.00</td>\n",
       "      <td>896.27</td>\n",
       "      <td>981.75</td>\n",
       "      <td>1620.0</td>\n",
       "      <td>2751.06</td>\n",
       "      <td>2869.04</td>\n",
       "      <td>3243.33</td>\n",
       "      <td>5642.0</td>\n",
       "    </tr>\n",
       "    <tr>\n",
       "      <th>BsmtFullBath</th>\n",
       "      <td>0.0</td>\n",
       "      <td>0.00</td>\n",
       "      <td>0.00</td>\n",
       "      <td>0.00</td>\n",
       "      <td>0.00</td>\n",
       "      <td>0.0</td>\n",
       "      <td>1.00</td>\n",
       "      <td>1.00</td>\n",
       "      <td>1.00</td>\n",
       "      <td>2.0</td>\n",
       "    </tr>\n",
       "    <tr>\n",
       "      <th>BsmtHalfBath</th>\n",
       "      <td>0.0</td>\n",
       "      <td>0.00</td>\n",
       "      <td>0.00</td>\n",
       "      <td>0.00</td>\n",
       "      <td>0.00</td>\n",
       "      <td>0.0</td>\n",
       "      <td>1.00</td>\n",
       "      <td>1.00</td>\n",
       "      <td>1.00</td>\n",
       "      <td>2.0</td>\n",
       "    </tr>\n",
       "    <tr>\n",
       "      <th>FullBath</th>\n",
       "      <td>0.0</td>\n",
       "      <td>1.00</td>\n",
       "      <td>1.00</td>\n",
       "      <td>1.00</td>\n",
       "      <td>1.00</td>\n",
       "      <td>2.0</td>\n",
       "      <td>3.00</td>\n",
       "      <td>3.00</td>\n",
       "      <td>3.00</td>\n",
       "      <td>3.0</td>\n",
       "    </tr>\n",
       "    <tr>\n",
       "      <th>HalfBath</th>\n",
       "      <td>0.0</td>\n",
       "      <td>0.00</td>\n",
       "      <td>0.00</td>\n",
       "      <td>0.00</td>\n",
       "      <td>0.00</td>\n",
       "      <td>0.0</td>\n",
       "      <td>1.00</td>\n",
       "      <td>1.00</td>\n",
       "      <td>1.13</td>\n",
       "      <td>2.0</td>\n",
       "    </tr>\n",
       "    <tr>\n",
       "      <th>BedroomAbvGr</th>\n",
       "      <td>1.0</td>\n",
       "      <td>1.00</td>\n",
       "      <td>1.00</td>\n",
       "      <td>1.00</td>\n",
       "      <td>2.00</td>\n",
       "      <td>3.0</td>\n",
       "      <td>4.00</td>\n",
       "      <td>4.00</td>\n",
       "      <td>5.00</td>\n",
       "      <td>6.0</td>\n",
       "    </tr>\n",
       "    <tr>\n",
       "      <th>KitchenAbvGr</th>\n",
       "      <td>0.0</td>\n",
       "      <td>1.00</td>\n",
       "      <td>1.00</td>\n",
       "      <td>1.00</td>\n",
       "      <td>1.00</td>\n",
       "      <td>1.0</td>\n",
       "      <td>1.39</td>\n",
       "      <td>2.00</td>\n",
       "      <td>2.00</td>\n",
       "      <td>2.0</td>\n",
       "    </tr>\n",
       "    <tr>\n",
       "      <th>TotRmsAbvGrd</th>\n",
       "      <td>3.0</td>\n",
       "      <td>3.00</td>\n",
       "      <td>4.00</td>\n",
       "      <td>4.00</td>\n",
       "      <td>5.00</td>\n",
       "      <td>7.0</td>\n",
       "      <td>10.39</td>\n",
       "      <td>11.00</td>\n",
       "      <td>11.13</td>\n",
       "      <td>12.0</td>\n",
       "    </tr>\n",
       "    <tr>\n",
       "      <th>Fireplaces</th>\n",
       "      <td>0.0</td>\n",
       "      <td>0.00</td>\n",
       "      <td>0.00</td>\n",
       "      <td>0.00</td>\n",
       "      <td>0.00</td>\n",
       "      <td>1.0</td>\n",
       "      <td>2.00</td>\n",
       "      <td>2.00</td>\n",
       "      <td>2.00</td>\n",
       "      <td>3.0</td>\n",
       "    </tr>\n",
       "    <tr>\n",
       "      <th>GarageYrBlt</th>\n",
       "      <td>1939.0</td>\n",
       "      <td>1948.00</td>\n",
       "      <td>1951.00</td>\n",
       "      <td>1953.00</td>\n",
       "      <td>1957.00</td>\n",
       "      <td>1996.0</td>\n",
       "      <td>2008.00</td>\n",
       "      <td>2009.00</td>\n",
       "      <td>2009.00</td>\n",
       "      <td>2010.0</td>\n",
       "    </tr>\n",
       "    <tr>\n",
       "      <th>GarageCars</th>\n",
       "      <td>0.0</td>\n",
       "      <td>0.87</td>\n",
       "      <td>1.00</td>\n",
       "      <td>1.00</td>\n",
       "      <td>1.00</td>\n",
       "      <td>2.0</td>\n",
       "      <td>3.00</td>\n",
       "      <td>3.00</td>\n",
       "      <td>3.00</td>\n",
       "      <td>4.0</td>\n",
       "    </tr>\n",
       "    <tr>\n",
       "      <th>GarageArea</th>\n",
       "      <td>0.0</td>\n",
       "      <td>208.80</td>\n",
       "      <td>250.96</td>\n",
       "      <td>264.00</td>\n",
       "      <td>273.50</td>\n",
       "      <td>528.0</td>\n",
       "      <td>916.68</td>\n",
       "      <td>971.90</td>\n",
       "      <td>1054.21</td>\n",
       "      <td>1418.0</td>\n",
       "    </tr>\n",
       "    <tr>\n",
       "      <th>WoodDeckSF</th>\n",
       "      <td>0.0</td>\n",
       "      <td>0.00</td>\n",
       "      <td>0.00</td>\n",
       "      <td>0.00</td>\n",
       "      <td>0.00</td>\n",
       "      <td>120.0</td>\n",
       "      <td>382.00</td>\n",
       "      <td>441.34</td>\n",
       "      <td>504.82</td>\n",
       "      <td>668.0</td>\n",
       "    </tr>\n",
       "    <tr>\n",
       "      <th>OpenPorchSF</th>\n",
       "      <td>0.0</td>\n",
       "      <td>0.00</td>\n",
       "      <td>0.00</td>\n",
       "      <td>0.00</td>\n",
       "      <td>0.00</td>\n",
       "      <td>40.0</td>\n",
       "      <td>225.56</td>\n",
       "      <td>241.82</td>\n",
       "      <td>266.17</td>\n",
       "      <td>406.0</td>\n",
       "    </tr>\n",
       "    <tr>\n",
       "      <th>EnclosedPorch</th>\n",
       "      <td>0.0</td>\n",
       "      <td>0.00</td>\n",
       "      <td>0.00</td>\n",
       "      <td>0.00</td>\n",
       "      <td>0.00</td>\n",
       "      <td>0.0</td>\n",
       "      <td>181.68</td>\n",
       "      <td>216.00</td>\n",
       "      <td>241.04</td>\n",
       "      <td>294.0</td>\n",
       "    </tr>\n",
       "    <tr>\n",
       "      <th>3SsnPorch</th>\n",
       "      <td>0.0</td>\n",
       "      <td>0.00</td>\n",
       "      <td>0.00</td>\n",
       "      <td>0.00</td>\n",
       "      <td>0.00</td>\n",
       "      <td>0.0</td>\n",
       "      <td>0.00</td>\n",
       "      <td>155.34</td>\n",
       "      <td>183.82</td>\n",
       "      <td>407.0</td>\n",
       "    </tr>\n",
       "    <tr>\n",
       "      <th>ScreenPorch</th>\n",
       "      <td>0.0</td>\n",
       "      <td>0.00</td>\n",
       "      <td>0.00</td>\n",
       "      <td>0.00</td>\n",
       "      <td>0.00</td>\n",
       "      <td>0.0</td>\n",
       "      <td>198.78</td>\n",
       "      <td>233.26</td>\n",
       "      <td>274.82</td>\n",
       "      <td>440.0</td>\n",
       "    </tr>\n",
       "    <tr>\n",
       "      <th>PoolArea</th>\n",
       "      <td>0.0</td>\n",
       "      <td>0.00</td>\n",
       "      <td>0.00</td>\n",
       "      <td>0.00</td>\n",
       "      <td>0.00</td>\n",
       "      <td>0.0</td>\n",
       "      <td>0.00</td>\n",
       "      <td>0.00</td>\n",
       "      <td>0.00</td>\n",
       "      <td>648.0</td>\n",
       "    </tr>\n",
       "    <tr>\n",
       "      <th>MiscVal</th>\n",
       "      <td>0.0</td>\n",
       "      <td>0.00</td>\n",
       "      <td>0.00</td>\n",
       "      <td>0.00</td>\n",
       "      <td>0.00</td>\n",
       "      <td>0.0</td>\n",
       "      <td>0.00</td>\n",
       "      <td>413.00</td>\n",
       "      <td>526.00</td>\n",
       "      <td>2000.0</td>\n",
       "    </tr>\n",
       "    <tr>\n",
       "      <th>MoSold</th>\n",
       "      <td>1.0</td>\n",
       "      <td>1.00</td>\n",
       "      <td>1.00</td>\n",
       "      <td>1.00</td>\n",
       "      <td>2.00</td>\n",
       "      <td>6.0</td>\n",
       "      <td>12.00</td>\n",
       "      <td>12.00</td>\n",
       "      <td>12.00</td>\n",
       "      <td>12.0</td>\n",
       "    </tr>\n",
       "    <tr>\n",
       "      <th>YrSold</th>\n",
       "      <td>2006.0</td>\n",
       "      <td>2006.00</td>\n",
       "      <td>2006.00</td>\n",
       "      <td>2006.00</td>\n",
       "      <td>2006.00</td>\n",
       "      <td>2008.0</td>\n",
       "      <td>2010.00</td>\n",
       "      <td>2010.00</td>\n",
       "      <td>2010.00</td>\n",
       "      <td>2010.0</td>\n",
       "    </tr>\n",
       "    <tr>\n",
       "      <th>SalePrice</th>\n",
       "      <td>75000.0</td>\n",
       "      <td>87935.00</td>\n",
       "      <td>97599.00</td>\n",
       "      <td>109961.00</td>\n",
       "      <td>118500.00</td>\n",
       "      <td>192250.0</td>\n",
       "      <td>413591.22</td>\n",
       "      <td>441627.86</td>\n",
       "      <td>540210.00</td>\n",
       "      <td>755000.0</td>\n",
       "    </tr>\n",
       "  </tbody>\n",
       "</table>\n",
       "</div>"
      ],
      "text/plain": [
       "                   min        1%        2%         3%         5%       50%  \\\n",
       "MSSubClass        20.0     20.00     20.00      20.00      20.00      60.0   \n",
       "LotFrontage       21.0     21.00     21.00      24.00      34.00      70.0   \n",
       "LotArea         1680.0   1680.00   1912.20    2117.00    3003.50   10165.0   \n",
       "OverallQual        3.0      4.00      5.00       5.00       5.00       7.0   \n",
       "OverallCond        2.0      4.00      4.00       4.61       5.00       5.0   \n",
       "YearBuilt       1926.0   1938.74   1948.74    1952.61    1954.35    1995.0   \n",
       "YearRemodAdd    1950.0   1950.00   1953.00    1954.00    1958.00    1999.0   \n",
       "MasVnrArea         0.0     16.00     18.00      30.00      42.00     202.5   \n",
       "BsmtFinSF1         0.0      0.00      0.00       0.00       0.00     560.0   \n",
       "BsmtFinSF2         0.0      0.00      0.00       0.00       0.00       0.0   \n",
       "BsmtUnfSF          0.0      0.00      0.00       0.00       0.00     463.5   \n",
       "TotalBsmtSF        0.0    382.44    483.00     526.83     604.20    1204.0   \n",
       "1stFlrSF         483.0    483.00    612.00     661.83     717.20    1279.5   \n",
       "2ndFlrSF           0.0      0.00      0.00       0.00       0.00       0.0   \n",
       "LowQualFinSF       0.0      0.00      0.00       0.00       0.00       0.0   \n",
       "GrLivArea        747.0    848.00    848.00     896.27     981.75    1620.0   \n",
       "BsmtFullBath       0.0      0.00      0.00       0.00       0.00       0.0   \n",
       "BsmtHalfBath       0.0      0.00      0.00       0.00       0.00       0.0   \n",
       "FullBath           0.0      1.00      1.00       1.00       1.00       2.0   \n",
       "HalfBath           0.0      0.00      0.00       0.00       0.00       0.0   \n",
       "BedroomAbvGr       1.0      1.00      1.00       1.00       2.00       3.0   \n",
       "KitchenAbvGr       0.0      1.00      1.00       1.00       1.00       1.0   \n",
       "TotRmsAbvGrd       3.0      3.00      4.00       4.00       5.00       7.0   \n",
       "Fireplaces         0.0      0.00      0.00       0.00       0.00       1.0   \n",
       "GarageYrBlt     1939.0   1948.00   1951.00    1953.00    1957.00    1996.0   \n",
       "GarageCars         0.0      0.87      1.00       1.00       1.00       2.0   \n",
       "GarageArea         0.0    208.80    250.96     264.00     273.50     528.0   \n",
       "WoodDeckSF         0.0      0.00      0.00       0.00       0.00     120.0   \n",
       "OpenPorchSF        0.0      0.00      0.00       0.00       0.00      40.0   \n",
       "EnclosedPorch      0.0      0.00      0.00       0.00       0.00       0.0   \n",
       "3SsnPorch          0.0      0.00      0.00       0.00       0.00       0.0   \n",
       "ScreenPorch        0.0      0.00      0.00       0.00       0.00       0.0   \n",
       "PoolArea           0.0      0.00      0.00       0.00       0.00       0.0   \n",
       "MiscVal            0.0      0.00      0.00       0.00       0.00       0.0   \n",
       "MoSold             1.0      1.00      1.00       1.00       2.00       6.0   \n",
       "YrSold          2006.0   2006.00   2006.00    2006.00    2006.00    2008.0   \n",
       "SalePrice      75000.0  87935.00  97599.00  109961.00  118500.00  192250.0   \n",
       "\n",
       "                     97%        98%        99%       max  \n",
       "MSSubClass        160.00     160.00     180.00     190.0  \n",
       "LotFrontage       112.17     120.00     129.13     313.0  \n",
       "LotArea         20475.07   26151.36   36967.22  159000.0  \n",
       "OverallQual         9.00      10.00      10.00      10.0  \n",
       "OverallCond         7.39       8.00       9.00       9.0  \n",
       "YearBuilt        2008.00    2009.00    2009.00    2010.0  \n",
       "YearRemodAdd     2009.00    2009.00    2009.00    2010.0  \n",
       "MasVnrArea        766.78     862.60    1033.08    1600.0  \n",
       "BsmtFinSF1       1456.95    1547.02    1705.23    5644.0  \n",
       "BsmtFinSF2        375.78     542.12     683.04    1474.0  \n",
       "BsmtUnfSF        1699.85    1774.78    1927.17    2336.0  \n",
       "TotalBsmtSF      2036.51    2140.42    2398.76    6110.0  \n",
       "1stFlrSF         2070.56    2151.60    2367.64    4692.0  \n",
       "2ndFlrSF         1330.00    1358.30    1484.20    1872.0  \n",
       "LowQualFinSF        0.00       0.00       0.00       0.0  \n",
       "GrLivArea        2751.06    2869.04    3243.33    5642.0  \n",
       "BsmtFullBath        1.00       1.00       1.00       2.0  \n",
       "BsmtHalfBath        1.00       1.00       1.00       2.0  \n",
       "FullBath            3.00       3.00       3.00       3.0  \n",
       "HalfBath            1.00       1.00       1.13       2.0  \n",
       "BedroomAbvGr        4.00       4.00       5.00       6.0  \n",
       "KitchenAbvGr        1.39       2.00       2.00       2.0  \n",
       "TotRmsAbvGrd       10.39      11.00      11.13      12.0  \n",
       "Fireplaces          2.00       2.00       2.00       3.0  \n",
       "GarageYrBlt      2008.00    2009.00    2009.00    2010.0  \n",
       "GarageCars          3.00       3.00       3.00       4.0  \n",
       "GarageArea        916.68     971.90    1054.21    1418.0  \n",
       "WoodDeckSF        382.00     441.34     504.82     668.0  \n",
       "OpenPorchSF       225.56     241.82     266.17     406.0  \n",
       "EnclosedPorch     181.68     216.00     241.04     294.0  \n",
       "3SsnPorch           0.00     155.34     183.82     407.0  \n",
       "ScreenPorch       198.78     233.26     274.82     440.0  \n",
       "PoolArea            0.00       0.00       0.00     648.0  \n",
       "MiscVal             0.00     413.00     526.00    2000.0  \n",
       "MoSold             12.00      12.00      12.00      12.0  \n",
       "YrSold           2010.00    2010.00    2010.00    2010.0  \n",
       "SalePrice      413591.22  441627.86  540210.00  755000.0  "
      ]
     },
     "execution_count": 55,
     "metadata": {},
     "output_type": "execute_result"
    }
   ],
   "source": [
    "a = df.describe(percentiles=[0.01,0.02,0.03,0.05,0.97,0.98,0.99]).T  # T = transpose\n",
    "a = a.iloc[:,3:]\n",
    "a"
   ]
  },
  {
   "cell_type": "code",
   "execution_count": 56,
   "id": "e8e7ed58",
   "metadata": {
    "id": "e8e7ed58"
   },
   "outputs": [],
   "source": [
    "# 10-12"
   ]
  },
  {
   "cell_type": "code",
   "execution_count": 57,
   "id": "7f5dd977",
   "metadata": {
    "colab": {
     "base_uri": "https://localhost:8080/"
    },
    "executionInfo": {
     "elapsed": 22,
     "status": "ok",
     "timestamp": 1710147218901,
     "user": {
      "displayName": "Utkarsh Tiwary",
      "userId": "14791650885169567640"
     },
     "user_tz": -330
    },
    "id": "7f5dd977",
    "outputId": "af23032e-2de5-44f2-b2df-b397af5a8af9"
   },
   "outputs": [
    {
     "name": "stdout",
     "output_type": "stream",
     "text": [
      "(0, 73)\n",
      "(0, 73)\n",
      "(0, 73)\n",
      "(8, 73)\n"
     ]
    }
   ],
   "source": [
    "print(df[df['SalePrice']<61691.5].shape)\n",
    "print(df[df['GrLivArea']<692].shape)\n",
    "print(df[df['LotArea']<1680.0].shape)\n",
    "print(df[df['1stFlrSF']<520].shape)\n",
    "\n",
    "# df['SalePrice'] = np.where(df['SalePrice']<61691.5,61691.5,df['SalePrice'])"
   ]
  },
  {
   "cell_type": "code",
   "execution_count": 58,
   "id": "a9e7dfff",
   "metadata": {
    "colab": {
     "base_uri": "https://localhost:8080/"
    },
    "executionInfo": {
     "elapsed": 8,
     "status": "ok",
     "timestamp": 1710142085319,
     "user": {
      "displayName": "Utkarsh Tiwary",
      "userId": "14791650885169567640"
     },
     "user_tz": -330
    },
    "id": "a9e7dfff",
    "outputId": "31b3c408-7329-449a-fad4-e1406099c9a7"
   },
   "outputs": [
    {
     "data": {
      "text/plain": [
       "(588, 73)"
      ]
     },
     "execution_count": 58,
     "metadata": {},
     "output_type": "execute_result"
    }
   ],
   "source": [
    "df.shape"
   ]
  },
  {
   "cell_type": "code",
   "execution_count": 59,
   "id": "4294a031",
   "metadata": {
    "executionInfo": {
     "elapsed": 10,
     "status": "ok",
     "timestamp": 1710147229394,
     "user": {
      "displayName": "Utkarsh Tiwary",
      "userId": "14791650885169567640"
     },
     "user_tz": -330
    },
    "id": "4294a031"
   },
   "outputs": [],
   "source": [
    "cols_left_skewed = ['LotArea','1stFlrSF','GrLivArea','SalePrice']\n",
    "\n",
    "def ot_left_skewed(x):\n",
    "    x = x.clip(lower=x.quantile(0.01))\n",
    "    return x"
   ]
  },
  {
   "cell_type": "code",
   "execution_count": 60,
   "id": "342b139d",
   "metadata": {
    "colab": {
     "base_uri": "https://localhost:8080/"
    },
    "executionInfo": {
     "elapsed": 29,
     "status": "ok",
     "timestamp": 1710147231440,
     "user": {
      "displayName": "Utkarsh Tiwary",
      "userId": "14791650885169567640"
     },
     "user_tz": -330
    },
    "id": "342b139d",
    "outputId": "ab1d8711-3640-459b-f992-1b39f0e405b6"
   },
   "outputs": [
    {
     "data": {
      "text/plain": [
       "Index(['MSSubClass', 'LotFrontage', 'LotArea', 'OverallQual', 'OverallCond',\n",
       "       'YearBuilt', 'YearRemodAdd', 'MasVnrArea', 'BsmtFinSF1', 'BsmtFinSF2',\n",
       "       'BsmtUnfSF', 'TotalBsmtSF', '1stFlrSF', '2ndFlrSF', 'LowQualFinSF',\n",
       "       'GrLivArea', 'BsmtFullBath', 'BsmtHalfBath', 'FullBath', 'HalfBath',\n",
       "       'BedroomAbvGr', 'KitchenAbvGr', 'TotRmsAbvGrd', 'Fireplaces',\n",
       "       'GarageYrBlt', 'GarageCars', 'GarageArea', 'WoodDeckSF', 'OpenPorchSF',\n",
       "       'EnclosedPorch', '3SsnPorch', 'ScreenPorch', 'PoolArea', 'MiscVal',\n",
       "       'MoSold', 'YrSold', 'SalePrice'],\n",
       "      dtype='object')"
      ]
     },
     "execution_count": 60,
     "metadata": {},
     "output_type": "execute_result"
    }
   ],
   "source": [
    "a.index"
   ]
  },
  {
   "cell_type": "code",
   "execution_count": 61,
   "id": "bc9d3670",
   "metadata": {
    "executionInfo": {
     "elapsed": 24,
     "status": "ok",
     "timestamp": 1710147235184,
     "user": {
      "displayName": "Utkarsh Tiwary",
      "userId": "14791650885169567640"
     },
     "user_tz": -330
    },
    "id": "bc9d3670"
   },
   "outputs": [],
   "source": [
    "cols_right_skewed = ['LotFrontage','LotArea','MasVnrArea', 'BsmtFinSF1',\n",
    "                     'BsmtFinSF2','BsmtUnfSF', 'TotalBsmtSF', '1stFlrSF', '2ndFlrSF',\n",
    "                     'LowQualFinSF','GrLivArea','GarageArea', 'WoodDeckSF', 'OpenPorchSF',\n",
    "                     'EnclosedPorch', '3SsnPorch', 'ScreenPorch','MiscVal','SalePrice']\n",
    "\n",
    "def ot_right_skewed(x):\n",
    "    x = x.clip(upper=x.quantile(0.99))\n",
    "    return x"
   ]
  },
  {
   "cell_type": "code",
   "execution_count": 62,
   "id": "58488085",
   "metadata": {
    "executionInfo": {
     "elapsed": 14,
     "status": "ok",
     "timestamp": 1710147238674,
     "user": {
      "displayName": "Utkarsh Tiwary",
      "userId": "14791650885169567640"
     },
     "user_tz": -330
    },
    "id": "58488085"
   },
   "outputs": [],
   "source": [
    "df1 = df.copy()"
   ]
  },
  {
   "cell_type": "code",
   "execution_count": 63,
   "id": "440e23f3",
   "metadata": {
    "executionInfo": {
     "elapsed": 8,
     "status": "ok",
     "timestamp": 1710147240354,
     "user": {
      "displayName": "Utkarsh Tiwary",
      "userId": "14791650885169567640"
     },
     "user_tz": -330
    },
    "id": "440e23f3"
   },
   "outputs": [],
   "source": [
    "df[cols_left_skewed] = df[cols_left_skewed].apply(ot_left_skewed)\n",
    "df[cols_right_skewed] = df[cols_right_skewed].apply(ot_right_skewed)"
   ]
  },
  {
   "cell_type": "code",
   "execution_count": 64,
   "id": "a603ab35",
   "metadata": {
    "colab": {
     "base_uri": "https://localhost:8080/",
     "height": 1000
    },
    "executionInfo": {
     "elapsed": 13,
     "status": "ok",
     "timestamp": 1710147242139,
     "user": {
      "displayName": "Utkarsh Tiwary",
      "userId": "14791650885169567640"
     },
     "user_tz": -330
    },
    "id": "a603ab35",
    "outputId": "50e91969-bce4-4750-97fd-8b76499fed8a"
   },
   "outputs": [
    {
     "data": {
      "text/html": [
       "<div>\n",
       "<style scoped>\n",
       "    .dataframe tbody tr th:only-of-type {\n",
       "        vertical-align: middle;\n",
       "    }\n",
       "\n",
       "    .dataframe tbody tr th {\n",
       "        vertical-align: top;\n",
       "    }\n",
       "\n",
       "    .dataframe thead th {\n",
       "        text-align: right;\n",
       "    }\n",
       "</style>\n",
       "<table border=\"1\" class=\"dataframe\">\n",
       "  <thead>\n",
       "    <tr style=\"text-align: right;\">\n",
       "      <th></th>\n",
       "      <th>min</th>\n",
       "      <th>1%</th>\n",
       "      <th>2%</th>\n",
       "      <th>3%</th>\n",
       "      <th>5%</th>\n",
       "      <th>9.7%</th>\n",
       "      <th>50%</th>\n",
       "      <th>98%</th>\n",
       "      <th>99%</th>\n",
       "      <th>max</th>\n",
       "    </tr>\n",
       "  </thead>\n",
       "  <tbody>\n",
       "    <tr>\n",
       "      <th>MSSubClass</th>\n",
       "      <td>20.0</td>\n",
       "      <td>20.00</td>\n",
       "      <td>20.00</td>\n",
       "      <td>20.00</td>\n",
       "      <td>20.00</td>\n",
       "      <td>20.000</td>\n",
       "      <td>60.0</td>\n",
       "      <td>160.00</td>\n",
       "      <td>180.0000</td>\n",
       "      <td>190.00</td>\n",
       "    </tr>\n",
       "    <tr>\n",
       "      <th>LotFrontage</th>\n",
       "      <td>21.0</td>\n",
       "      <td>21.00</td>\n",
       "      <td>21.00</td>\n",
       "      <td>24.00</td>\n",
       "      <td>34.00</td>\n",
       "      <td>43.000</td>\n",
       "      <td>70.0</td>\n",
       "      <td>120.00</td>\n",
       "      <td>129.0169</td>\n",
       "      <td>129.13</td>\n",
       "    </tr>\n",
       "    <tr>\n",
       "      <th>LotArea</th>\n",
       "      <td>1680.0</td>\n",
       "      <td>1680.00</td>\n",
       "      <td>1912.20</td>\n",
       "      <td>2117.00</td>\n",
       "      <td>3003.50</td>\n",
       "      <td>4381.955</td>\n",
       "      <td>10165.0</td>\n",
       "      <td>26151.36</td>\n",
       "      <td>36560.7386</td>\n",
       "      <td>36967.22</td>\n",
       "    </tr>\n",
       "    <tr>\n",
       "      <th>OverallQual</th>\n",
       "      <td>3.0</td>\n",
       "      <td>4.00</td>\n",
       "      <td>5.00</td>\n",
       "      <td>5.00</td>\n",
       "      <td>5.00</td>\n",
       "      <td>5.000</td>\n",
       "      <td>7.0</td>\n",
       "      <td>10.00</td>\n",
       "      <td>10.0000</td>\n",
       "      <td>10.00</td>\n",
       "    </tr>\n",
       "    <tr>\n",
       "      <th>OverallCond</th>\n",
       "      <td>2.0</td>\n",
       "      <td>4.00</td>\n",
       "      <td>4.00</td>\n",
       "      <td>4.61</td>\n",
       "      <td>5.00</td>\n",
       "      <td>5.000</td>\n",
       "      <td>5.0</td>\n",
       "      <td>8.00</td>\n",
       "      <td>9.0000</td>\n",
       "      <td>9.00</td>\n",
       "    </tr>\n",
       "    <tr>\n",
       "      <th>YearBuilt</th>\n",
       "      <td>1926.0</td>\n",
       "      <td>1938.74</td>\n",
       "      <td>1948.74</td>\n",
       "      <td>1952.61</td>\n",
       "      <td>1954.35</td>\n",
       "      <td>1959.000</td>\n",
       "      <td>1995.0</td>\n",
       "      <td>2009.00</td>\n",
       "      <td>2009.0000</td>\n",
       "      <td>2010.00</td>\n",
       "    </tr>\n",
       "    <tr>\n",
       "      <th>YearRemodAdd</th>\n",
       "      <td>1950.0</td>\n",
       "      <td>1950.00</td>\n",
       "      <td>1953.00</td>\n",
       "      <td>1954.00</td>\n",
       "      <td>1958.00</td>\n",
       "      <td>1962.000</td>\n",
       "      <td>1999.0</td>\n",
       "      <td>2009.00</td>\n",
       "      <td>2009.0000</td>\n",
       "      <td>2010.00</td>\n",
       "    </tr>\n",
       "    <tr>\n",
       "      <th>MasVnrArea</th>\n",
       "      <td>0.0</td>\n",
       "      <td>16.00</td>\n",
       "      <td>18.00</td>\n",
       "      <td>30.00</td>\n",
       "      <td>42.00</td>\n",
       "      <td>68.000</td>\n",
       "      <td>202.5</td>\n",
       "      <td>862.60</td>\n",
       "      <td>1031.2704</td>\n",
       "      <td>1033.08</td>\n",
       "    </tr>\n",
       "    <tr>\n",
       "      <th>BsmtFinSF1</th>\n",
       "      <td>0.0</td>\n",
       "      <td>0.00</td>\n",
       "      <td>0.00</td>\n",
       "      <td>0.00</td>\n",
       "      <td>0.00</td>\n",
       "      <td>0.000</td>\n",
       "      <td>560.0</td>\n",
       "      <td>1547.02</td>\n",
       "      <td>1697.1999</td>\n",
       "      <td>1705.23</td>\n",
       "    </tr>\n",
       "    <tr>\n",
       "      <th>BsmtFinSF2</th>\n",
       "      <td>0.0</td>\n",
       "      <td>0.00</td>\n",
       "      <td>0.00</td>\n",
       "      <td>0.00</td>\n",
       "      <td>0.00</td>\n",
       "      <td>0.000</td>\n",
       "      <td>0.0</td>\n",
       "      <td>542.12</td>\n",
       "      <td>682.1352</td>\n",
       "      <td>683.04</td>\n",
       "    </tr>\n",
       "    <tr>\n",
       "      <th>BsmtUnfSF</th>\n",
       "      <td>0.0</td>\n",
       "      <td>0.00</td>\n",
       "      <td>0.00</td>\n",
       "      <td>0.00</td>\n",
       "      <td>0.00</td>\n",
       "      <td>98.817</td>\n",
       "      <td>463.5</td>\n",
       "      <td>1774.78</td>\n",
       "      <td>1926.1521</td>\n",
       "      <td>1927.17</td>\n",
       "    </tr>\n",
       "    <tr>\n",
       "      <th>TotalBsmtSF</th>\n",
       "      <td>0.0</td>\n",
       "      <td>382.44</td>\n",
       "      <td>483.00</td>\n",
       "      <td>526.83</td>\n",
       "      <td>604.20</td>\n",
       "      <td>725.000</td>\n",
       "      <td>1204.0</td>\n",
       "      <td>2140.42</td>\n",
       "      <td>2392.8788</td>\n",
       "      <td>2398.76</td>\n",
       "    </tr>\n",
       "    <tr>\n",
       "      <th>1stFlrSF</th>\n",
       "      <td>483.0</td>\n",
       "      <td>483.00</td>\n",
       "      <td>612.00</td>\n",
       "      <td>661.83</td>\n",
       "      <td>717.20</td>\n",
       "      <td>823.512</td>\n",
       "      <td>1279.5</td>\n",
       "      <td>2151.60</td>\n",
       "      <td>2364.4732</td>\n",
       "      <td>2367.64</td>\n",
       "    </tr>\n",
       "    <tr>\n",
       "      <th>2ndFlrSF</th>\n",
       "      <td>0.0</td>\n",
       "      <td>0.00</td>\n",
       "      <td>0.00</td>\n",
       "      <td>0.00</td>\n",
       "      <td>0.00</td>\n",
       "      <td>0.000</td>\n",
       "      <td>0.0</td>\n",
       "      <td>1358.30</td>\n",
       "      <td>1479.6760</td>\n",
       "      <td>1484.20</td>\n",
       "    </tr>\n",
       "    <tr>\n",
       "      <th>LowQualFinSF</th>\n",
       "      <td>0.0</td>\n",
       "      <td>0.00</td>\n",
       "      <td>0.00</td>\n",
       "      <td>0.00</td>\n",
       "      <td>0.00</td>\n",
       "      <td>0.000</td>\n",
       "      <td>0.0</td>\n",
       "      <td>0.00</td>\n",
       "      <td>0.0000</td>\n",
       "      <td>0.00</td>\n",
       "    </tr>\n",
       "    <tr>\n",
       "      <th>GrLivArea</th>\n",
       "      <td>848.0</td>\n",
       "      <td>848.00</td>\n",
       "      <td>848.00</td>\n",
       "      <td>896.27</td>\n",
       "      <td>981.75</td>\n",
       "      <td>1071.573</td>\n",
       "      <td>1620.0</td>\n",
       "      <td>2869.04</td>\n",
       "      <td>3238.6929</td>\n",
       "      <td>3243.33</td>\n",
       "    </tr>\n",
       "    <tr>\n",
       "      <th>BsmtFullBath</th>\n",
       "      <td>0.0</td>\n",
       "      <td>0.00</td>\n",
       "      <td>0.00</td>\n",
       "      <td>0.00</td>\n",
       "      <td>0.00</td>\n",
       "      <td>0.000</td>\n",
       "      <td>0.0</td>\n",
       "      <td>1.00</td>\n",
       "      <td>1.0000</td>\n",
       "      <td>2.00</td>\n",
       "    </tr>\n",
       "    <tr>\n",
       "      <th>BsmtHalfBath</th>\n",
       "      <td>0.0</td>\n",
       "      <td>0.00</td>\n",
       "      <td>0.00</td>\n",
       "      <td>0.00</td>\n",
       "      <td>0.00</td>\n",
       "      <td>0.000</td>\n",
       "      <td>0.0</td>\n",
       "      <td>1.00</td>\n",
       "      <td>1.0000</td>\n",
       "      <td>2.00</td>\n",
       "    </tr>\n",
       "    <tr>\n",
       "      <th>FullBath</th>\n",
       "      <td>0.0</td>\n",
       "      <td>1.00</td>\n",
       "      <td>1.00</td>\n",
       "      <td>1.00</td>\n",
       "      <td>1.00</td>\n",
       "      <td>1.000</td>\n",
       "      <td>2.0</td>\n",
       "      <td>3.00</td>\n",
       "      <td>3.0000</td>\n",
       "      <td>3.00</td>\n",
       "    </tr>\n",
       "    <tr>\n",
       "      <th>HalfBath</th>\n",
       "      <td>0.0</td>\n",
       "      <td>0.00</td>\n",
       "      <td>0.00</td>\n",
       "      <td>0.00</td>\n",
       "      <td>0.00</td>\n",
       "      <td>0.000</td>\n",
       "      <td>0.0</td>\n",
       "      <td>1.00</td>\n",
       "      <td>1.1300</td>\n",
       "      <td>2.00</td>\n",
       "    </tr>\n",
       "    <tr>\n",
       "      <th>BedroomAbvGr</th>\n",
       "      <td>1.0</td>\n",
       "      <td>1.00</td>\n",
       "      <td>1.00</td>\n",
       "      <td>1.00</td>\n",
       "      <td>2.00</td>\n",
       "      <td>2.000</td>\n",
       "      <td>3.0</td>\n",
       "      <td>4.00</td>\n",
       "      <td>5.0000</td>\n",
       "      <td>6.00</td>\n",
       "    </tr>\n",
       "    <tr>\n",
       "      <th>KitchenAbvGr</th>\n",
       "      <td>0.0</td>\n",
       "      <td>1.00</td>\n",
       "      <td>1.00</td>\n",
       "      <td>1.00</td>\n",
       "      <td>1.00</td>\n",
       "      <td>1.000</td>\n",
       "      <td>1.0</td>\n",
       "      <td>2.00</td>\n",
       "      <td>2.0000</td>\n",
       "      <td>2.00</td>\n",
       "    </tr>\n",
       "    <tr>\n",
       "      <th>TotRmsAbvGrd</th>\n",
       "      <td>3.0</td>\n",
       "      <td>3.00</td>\n",
       "      <td>4.00</td>\n",
       "      <td>4.00</td>\n",
       "      <td>5.00</td>\n",
       "      <td>5.000</td>\n",
       "      <td>7.0</td>\n",
       "      <td>11.00</td>\n",
       "      <td>11.1300</td>\n",
       "      <td>12.00</td>\n",
       "    </tr>\n",
       "    <tr>\n",
       "      <th>Fireplaces</th>\n",
       "      <td>0.0</td>\n",
       "      <td>0.00</td>\n",
       "      <td>0.00</td>\n",
       "      <td>0.00</td>\n",
       "      <td>0.00</td>\n",
       "      <td>0.000</td>\n",
       "      <td>1.0</td>\n",
       "      <td>2.00</td>\n",
       "      <td>2.0000</td>\n",
       "      <td>3.00</td>\n",
       "    </tr>\n",
       "    <tr>\n",
       "      <th>GarageYrBlt</th>\n",
       "      <td>1939.0</td>\n",
       "      <td>1948.00</td>\n",
       "      <td>1951.00</td>\n",
       "      <td>1953.00</td>\n",
       "      <td>1957.00</td>\n",
       "      <td>1960.000</td>\n",
       "      <td>1996.0</td>\n",
       "      <td>2009.00</td>\n",
       "      <td>2009.0000</td>\n",
       "      <td>2010.00</td>\n",
       "    </tr>\n",
       "    <tr>\n",
       "      <th>GarageCars</th>\n",
       "      <td>0.0</td>\n",
       "      <td>0.87</td>\n",
       "      <td>1.00</td>\n",
       "      <td>1.00</td>\n",
       "      <td>1.00</td>\n",
       "      <td>1.000</td>\n",
       "      <td>2.0</td>\n",
       "      <td>3.00</td>\n",
       "      <td>3.0000</td>\n",
       "      <td>4.00</td>\n",
       "    </tr>\n",
       "    <tr>\n",
       "      <th>GarageArea</th>\n",
       "      <td>0.0</td>\n",
       "      <td>208.80</td>\n",
       "      <td>250.96</td>\n",
       "      <td>264.00</td>\n",
       "      <td>273.50</td>\n",
       "      <td>312.000</td>\n",
       "      <td>528.0</td>\n",
       "      <td>971.90</td>\n",
       "      <td>1052.2873</td>\n",
       "      <td>1054.21</td>\n",
       "    </tr>\n",
       "    <tr>\n",
       "      <th>WoodDeckSF</th>\n",
       "      <td>0.0</td>\n",
       "      <td>0.00</td>\n",
       "      <td>0.00</td>\n",
       "      <td>0.00</td>\n",
       "      <td>0.00</td>\n",
       "      <td>0.000</td>\n",
       "      <td>120.0</td>\n",
       "      <td>441.34</td>\n",
       "      <td>503.2366</td>\n",
       "      <td>504.82</td>\n",
       "    </tr>\n",
       "    <tr>\n",
       "      <th>OpenPorchSF</th>\n",
       "      <td>0.0</td>\n",
       "      <td>0.00</td>\n",
       "      <td>0.00</td>\n",
       "      <td>0.00</td>\n",
       "      <td>0.00</td>\n",
       "      <td>0.000</td>\n",
       "      <td>40.0</td>\n",
       "      <td>241.82</td>\n",
       "      <td>265.1521</td>\n",
       "      <td>266.17</td>\n",
       "    </tr>\n",
       "    <tr>\n",
       "      <th>EnclosedPorch</th>\n",
       "      <td>0.0</td>\n",
       "      <td>0.00</td>\n",
       "      <td>0.00</td>\n",
       "      <td>0.00</td>\n",
       "      <td>0.00</td>\n",
       "      <td>0.000</td>\n",
       "      <td>0.0</td>\n",
       "      <td>216.00</td>\n",
       "      <td>240.1352</td>\n",
       "      <td>241.04</td>\n",
       "    </tr>\n",
       "    <tr>\n",
       "      <th>3SsnPorch</th>\n",
       "      <td>0.0</td>\n",
       "      <td>0.00</td>\n",
       "      <td>0.00</td>\n",
       "      <td>0.00</td>\n",
       "      <td>0.00</td>\n",
       "      <td>0.000</td>\n",
       "      <td>0.0</td>\n",
       "      <td>155.34</td>\n",
       "      <td>182.2366</td>\n",
       "      <td>183.82</td>\n",
       "    </tr>\n",
       "    <tr>\n",
       "      <th>ScreenPorch</th>\n",
       "      <td>0.0</td>\n",
       "      <td>0.00</td>\n",
       "      <td>0.00</td>\n",
       "      <td>0.00</td>\n",
       "      <td>0.00</td>\n",
       "      <td>0.000</td>\n",
       "      <td>0.0</td>\n",
       "      <td>233.26</td>\n",
       "      <td>273.2366</td>\n",
       "      <td>274.82</td>\n",
       "    </tr>\n",
       "    <tr>\n",
       "      <th>PoolArea</th>\n",
       "      <td>0.0</td>\n",
       "      <td>0.00</td>\n",
       "      <td>0.00</td>\n",
       "      <td>0.00</td>\n",
       "      <td>0.00</td>\n",
       "      <td>0.000</td>\n",
       "      <td>0.0</td>\n",
       "      <td>0.00</td>\n",
       "      <td>0.0000</td>\n",
       "      <td>648.00</td>\n",
       "    </tr>\n",
       "    <tr>\n",
       "      <th>MiscVal</th>\n",
       "      <td>0.0</td>\n",
       "      <td>0.00</td>\n",
       "      <td>0.00</td>\n",
       "      <td>0.00</td>\n",
       "      <td>0.00</td>\n",
       "      <td>0.000</td>\n",
       "      <td>0.0</td>\n",
       "      <td>413.00</td>\n",
       "      <td>503.3800</td>\n",
       "      <td>526.00</td>\n",
       "    </tr>\n",
       "    <tr>\n",
       "      <th>MoSold</th>\n",
       "      <td>1.0</td>\n",
       "      <td>1.00</td>\n",
       "      <td>1.00</td>\n",
       "      <td>1.00</td>\n",
       "      <td>2.00</td>\n",
       "      <td>3.000</td>\n",
       "      <td>6.0</td>\n",
       "      <td>12.00</td>\n",
       "      <td>12.0000</td>\n",
       "      <td>12.00</td>\n",
       "    </tr>\n",
       "    <tr>\n",
       "      <th>YrSold</th>\n",
       "      <td>2006.0</td>\n",
       "      <td>2006.00</td>\n",
       "      <td>2006.00</td>\n",
       "      <td>2006.00</td>\n",
       "      <td>2006.00</td>\n",
       "      <td>2006.000</td>\n",
       "      <td>2008.0</td>\n",
       "      <td>2010.00</td>\n",
       "      <td>2010.0000</td>\n",
       "      <td>2010.00</td>\n",
       "    </tr>\n",
       "    <tr>\n",
       "      <th>SalePrice</th>\n",
       "      <td>87935.0</td>\n",
       "      <td>87991.55</td>\n",
       "      <td>97599.00</td>\n",
       "      <td>109961.00</td>\n",
       "      <td>118500.00</td>\n",
       "      <td>130469.500</td>\n",
       "      <td>192250.0</td>\n",
       "      <td>441627.86</td>\n",
       "      <td>538287.3000</td>\n",
       "      <td>540210.00</td>\n",
       "    </tr>\n",
       "  </tbody>\n",
       "</table>\n",
       "</div>"
      ],
      "text/plain": [
       "                   min        1%        2%         3%         5%        9.7%  \\\n",
       "MSSubClass        20.0     20.00     20.00      20.00      20.00      20.000   \n",
       "LotFrontage       21.0     21.00     21.00      24.00      34.00      43.000   \n",
       "LotArea         1680.0   1680.00   1912.20    2117.00    3003.50    4381.955   \n",
       "OverallQual        3.0      4.00      5.00       5.00       5.00       5.000   \n",
       "OverallCond        2.0      4.00      4.00       4.61       5.00       5.000   \n",
       "YearBuilt       1926.0   1938.74   1948.74    1952.61    1954.35    1959.000   \n",
       "YearRemodAdd    1950.0   1950.00   1953.00    1954.00    1958.00    1962.000   \n",
       "MasVnrArea         0.0     16.00     18.00      30.00      42.00      68.000   \n",
       "BsmtFinSF1         0.0      0.00      0.00       0.00       0.00       0.000   \n",
       "BsmtFinSF2         0.0      0.00      0.00       0.00       0.00       0.000   \n",
       "BsmtUnfSF          0.0      0.00      0.00       0.00       0.00      98.817   \n",
       "TotalBsmtSF        0.0    382.44    483.00     526.83     604.20     725.000   \n",
       "1stFlrSF         483.0    483.00    612.00     661.83     717.20     823.512   \n",
       "2ndFlrSF           0.0      0.00      0.00       0.00       0.00       0.000   \n",
       "LowQualFinSF       0.0      0.00      0.00       0.00       0.00       0.000   \n",
       "GrLivArea        848.0    848.00    848.00     896.27     981.75    1071.573   \n",
       "BsmtFullBath       0.0      0.00      0.00       0.00       0.00       0.000   \n",
       "BsmtHalfBath       0.0      0.00      0.00       0.00       0.00       0.000   \n",
       "FullBath           0.0      1.00      1.00       1.00       1.00       1.000   \n",
       "HalfBath           0.0      0.00      0.00       0.00       0.00       0.000   \n",
       "BedroomAbvGr       1.0      1.00      1.00       1.00       2.00       2.000   \n",
       "KitchenAbvGr       0.0      1.00      1.00       1.00       1.00       1.000   \n",
       "TotRmsAbvGrd       3.0      3.00      4.00       4.00       5.00       5.000   \n",
       "Fireplaces         0.0      0.00      0.00       0.00       0.00       0.000   \n",
       "GarageYrBlt     1939.0   1948.00   1951.00    1953.00    1957.00    1960.000   \n",
       "GarageCars         0.0      0.87      1.00       1.00       1.00       1.000   \n",
       "GarageArea         0.0    208.80    250.96     264.00     273.50     312.000   \n",
       "WoodDeckSF         0.0      0.00      0.00       0.00       0.00       0.000   \n",
       "OpenPorchSF        0.0      0.00      0.00       0.00       0.00       0.000   \n",
       "EnclosedPorch      0.0      0.00      0.00       0.00       0.00       0.000   \n",
       "3SsnPorch          0.0      0.00      0.00       0.00       0.00       0.000   \n",
       "ScreenPorch        0.0      0.00      0.00       0.00       0.00       0.000   \n",
       "PoolArea           0.0      0.00      0.00       0.00       0.00       0.000   \n",
       "MiscVal            0.0      0.00      0.00       0.00       0.00       0.000   \n",
       "MoSold             1.0      1.00      1.00       1.00       2.00       3.000   \n",
       "YrSold          2006.0   2006.00   2006.00    2006.00    2006.00    2006.000   \n",
       "SalePrice      87935.0  87991.55  97599.00  109961.00  118500.00  130469.500   \n",
       "\n",
       "                    50%        98%          99%        max  \n",
       "MSSubClass         60.0     160.00     180.0000     190.00  \n",
       "LotFrontage        70.0     120.00     129.0169     129.13  \n",
       "LotArea         10165.0   26151.36   36560.7386   36967.22  \n",
       "OverallQual         7.0      10.00      10.0000      10.00  \n",
       "OverallCond         5.0       8.00       9.0000       9.00  \n",
       "YearBuilt        1995.0    2009.00    2009.0000    2010.00  \n",
       "YearRemodAdd     1999.0    2009.00    2009.0000    2010.00  \n",
       "MasVnrArea        202.5     862.60    1031.2704    1033.08  \n",
       "BsmtFinSF1        560.0    1547.02    1697.1999    1705.23  \n",
       "BsmtFinSF2          0.0     542.12     682.1352     683.04  \n",
       "BsmtUnfSF         463.5    1774.78    1926.1521    1927.17  \n",
       "TotalBsmtSF      1204.0    2140.42    2392.8788    2398.76  \n",
       "1stFlrSF         1279.5    2151.60    2364.4732    2367.64  \n",
       "2ndFlrSF            0.0    1358.30    1479.6760    1484.20  \n",
       "LowQualFinSF        0.0       0.00       0.0000       0.00  \n",
       "GrLivArea        1620.0    2869.04    3238.6929    3243.33  \n",
       "BsmtFullBath        0.0       1.00       1.0000       2.00  \n",
       "BsmtHalfBath        0.0       1.00       1.0000       2.00  \n",
       "FullBath            2.0       3.00       3.0000       3.00  \n",
       "HalfBath            0.0       1.00       1.1300       2.00  \n",
       "BedroomAbvGr        3.0       4.00       5.0000       6.00  \n",
       "KitchenAbvGr        1.0       2.00       2.0000       2.00  \n",
       "TotRmsAbvGrd        7.0      11.00      11.1300      12.00  \n",
       "Fireplaces          1.0       2.00       2.0000       3.00  \n",
       "GarageYrBlt      1996.0    2009.00    2009.0000    2010.00  \n",
       "GarageCars          2.0       3.00       3.0000       4.00  \n",
       "GarageArea        528.0     971.90    1052.2873    1054.21  \n",
       "WoodDeckSF        120.0     441.34     503.2366     504.82  \n",
       "OpenPorchSF        40.0     241.82     265.1521     266.17  \n",
       "EnclosedPorch       0.0     216.00     240.1352     241.04  \n",
       "3SsnPorch           0.0     155.34     182.2366     183.82  \n",
       "ScreenPorch         0.0     233.26     273.2366     274.82  \n",
       "PoolArea            0.0       0.00       0.0000     648.00  \n",
       "MiscVal             0.0     413.00     503.3800     526.00  \n",
       "MoSold              6.0      12.00      12.0000      12.00  \n",
       "YrSold           2008.0    2010.00    2010.0000    2010.00  \n",
       "SalePrice      192250.0  441627.86  538287.3000  540210.00  "
      ]
     },
     "execution_count": 64,
     "metadata": {},
     "output_type": "execute_result"
    }
   ],
   "source": [
    "a = df.describe(percentiles=[0.01,0.02,0.03,0.05,0.097,0.98,0.99]).T  # T = transpose\n",
    "a = a.iloc[:,3:]\n",
    "a"
   ]
  },
  {
   "cell_type": "code",
   "execution_count": 65,
   "id": "zcrbkLJAaa0N",
   "metadata": {
    "colab": {
     "base_uri": "https://localhost:8080/"
    },
    "executionInfo": {
     "elapsed": 666,
     "status": "ok",
     "timestamp": 1710147362691,
     "user": {
      "displayName": "Utkarsh Tiwary",
      "userId": "14791650885169567640"
     },
     "user_tz": -330
    },
    "id": "zcrbkLJAaa0N",
    "outputId": "6af00796-a43e-491b-a521-5e1756b11152"
   },
   "outputs": [
    {
     "data": {
      "text/plain": [
       "Index(['MSSubClass', 'MSZoning', 'LotFrontage', 'LotArea', 'LotShape',\n",
       "       'LandContour', 'LotConfig', 'LandSlope', 'Neighborhood', 'Condition1',\n",
       "       'BldgType', 'HouseStyle', 'OverallQual', 'OverallCond', 'YearBuilt',\n",
       "       'YearRemodAdd', 'RoofStyle', 'RoofMatl', 'Exterior1st', 'Exterior2nd',\n",
       "       'MasVnrType', 'MasVnrArea', 'ExterQual', 'ExterCond', 'Foundation',\n",
       "       'BsmtQual', 'BsmtCond', 'BsmtExposure', 'BsmtFinType1', 'BsmtFinSF1',\n",
       "       'BsmtFinType2', 'BsmtFinSF2', 'BsmtUnfSF', 'TotalBsmtSF', 'Heating',\n",
       "       'HeatingQC', 'CentralAir', 'Electrical', '1stFlrSF', '2ndFlrSF',\n",
       "       'LowQualFinSF', 'GrLivArea', 'BsmtFullBath', 'BsmtHalfBath', 'FullBath',\n",
       "       'HalfBath', 'BedroomAbvGr', 'KitchenAbvGr', 'KitchenQual',\n",
       "       'TotRmsAbvGrd', 'Functional', 'Fireplaces', 'FireplaceQu', 'GarageType',\n",
       "       'GarageYrBlt', 'GarageFinish', 'GarageCars', 'GarageArea', 'GarageQual',\n",
       "       'GarageCond', 'PavedDrive', 'WoodDeckSF', 'OpenPorchSF',\n",
       "       'EnclosedPorch', '3SsnPorch', 'ScreenPorch', 'PoolArea', 'MiscVal',\n",
       "       'MoSold', 'YrSold', 'SaleType', 'SaleCondition', 'SalePrice',\n",
       "       'House_Age'],\n",
       "      dtype='object')"
      ]
     },
     "execution_count": 65,
     "metadata": {},
     "output_type": "execute_result"
    }
   ],
   "source": [
    "df['House_Age'] = 2024 - df['YearBuilt']\n",
    "df.columns"
   ]
  },
  {
   "cell_type": "code",
   "execution_count": 66,
   "id": "-utyHqguaa34",
   "metadata": {
    "executionInfo": {
     "elapsed": 7,
     "status": "ok",
     "timestamp": 1710147366449,
     "user": {
      "displayName": "Utkarsh Tiwary",
      "userId": "14791650885169567640"
     },
     "user_tz": -330
    },
    "id": "-utyHqguaa34"
   },
   "outputs": [],
   "source": [
    "df2 = df.copy()"
   ]
  },
  {
   "cell_type": "code",
   "execution_count": 67,
   "id": "_RRc-0mtao4m",
   "metadata": {
    "executionInfo": {
     "elapsed": 13,
     "status": "ok",
     "timestamp": 1710147366907,
     "user": {
      "displayName": "Utkarsh Tiwary",
      "userId": "14791650885169567640"
     },
     "user_tz": -330
    },
    "id": "_RRc-0mtao4m"
   },
   "outputs": [],
   "source": [
    "df.drop('YearBuilt',axis=1,inplace=True)"
   ]
  },
  {
   "cell_type": "code",
   "execution_count": 68,
   "id": "30cd7998",
   "metadata": {
    "colab": {
     "base_uri": "https://localhost:8080/"
    },
    "executionInfo": {
     "elapsed": 633,
     "status": "ok",
     "timestamp": 1710147416401,
     "user": {
      "displayName": "Utkarsh Tiwary",
      "userId": "14791650885169567640"
     },
     "user_tz": -330
    },
    "id": "30cd7998",
    "outputId": "9e6082fe-82f0-493b-c142-783eeff207bc"
   },
   "outputs": [
    {
     "data": {
      "text/plain": [
       "(588, 73)"
      ]
     },
     "execution_count": 68,
     "metadata": {},
     "output_type": "execute_result"
    }
   ],
   "source": [
    "df.shape"
   ]
  },
  {
   "cell_type": "code",
   "execution_count": 69,
   "id": "c3fe9c8d",
   "metadata": {
    "id": "c3fe9c8d"
   },
   "outputs": [],
   "source": [
    "from scipy.stats import shapiro\n",
    "# Ho : data is normally  dist => p>0.05\n",
    "# H1 : data is not normally dist => p<=0.05"
   ]
  },
  {
   "cell_type": "code",
   "execution_count": 70,
   "id": "a281963c",
   "metadata": {
    "colab": {
     "base_uri": "https://localhost:8080/"
    },
    "executionInfo": {
     "elapsed": 6,
     "status": "ok",
     "timestamp": 1710142373606,
     "user": {
      "displayName": "Utkarsh Tiwary",
      "userId": "14791650885169567640"
     },
     "user_tz": -330
    },
    "id": "a281963c",
    "outputId": "4ad53ae4-160b-4a30-9c73-1d725f199462"
   },
   "outputs": [
    {
     "name": "stdout",
     "output_type": "stream",
     "text": [
      "0.902510404586792\n",
      "6.534882969509538e-19\n"
     ]
    }
   ],
   "source": [
    "test_stat,p = shapiro(df['SalePrice'])\n",
    "print(test_stat)\n",
    "print(p)"
   ]
  },
  {
   "cell_type": "code",
   "execution_count": 71,
   "id": "a6c269fa",
   "metadata": {
    "colab": {
     "base_uri": "https://localhost:8080/"
    },
    "executionInfo": {
     "elapsed": 3,
     "status": "ok",
     "timestamp": 1710142375817,
     "user": {
      "displayName": "Utkarsh Tiwary",
      "userId": "14791650885169567640"
     },
     "user_tz": -330
    },
    "id": "a6c269fa",
    "outputId": "dd6014e9-837e-4a7b-f494-30243b75f886"
   },
   "outputs": [
    {
     "name": "stdout",
     "output_type": "stream",
     "text": [
      "0.9873901009559631\n",
      "5.8332552725914866e-05\n"
     ]
    }
   ],
   "source": [
    "test_stat1,p1 = shapiro(np.log(df['SalePrice']))\n",
    "print(test_stat1)\n",
    "print(p1)"
   ]
  },
  {
   "cell_type": "code",
   "execution_count": 72,
   "id": "4dc75268",
   "metadata": {
    "colab": {
     "base_uri": "https://localhost:8080/",
     "height": 325
    },
    "executionInfo": {
     "elapsed": 1068,
     "status": "ok",
     "timestamp": 1710147578345,
     "user": {
      "displayName": "Utkarsh Tiwary",
      "userId": "14791650885169567640"
     },
     "user_tz": -330
    },
    "id": "4dc75268",
    "outputId": "41d5a00d-089b-4f6d-92a0-9833ff3164d1"
   },
   "outputs": [
    {
     "data": {
      "image/png": "[encoded data removed]",
      "text/plain": [
       "<Figure size 1200x400 with 2 Axes>"
      ]
     },
     "metadata": {},
     "output_type": "display_data"
    }
   ],
   "source": [
    "plt.figure(figsize=(12,4))\n",
    "plt.subplot(1,2,1)\n",
    "sns.kdeplot(x=df['SalePrice'])\n",
    "plt.subplot(1,2,2)\n",
    "sns.kdeplot(x=np.log(df['SalePrice']))\n",
    "plt.show()"
   ]
  },
  {
   "cell_type": "code",
   "execution_count": 73,
   "id": "69e45c28",
   "metadata": {
    "id": "69e45c28",
    "outputId": "e2cdffc7-4dfa-42cb-dbd2-89c8ace15c30"
   },
   "outputs": [
    {
     "name": "stdout",
     "output_type": "stream",
     "text": [
      "6.534882969509538e-19\n",
      "5.8332552725914866e-05\n"
     ]
    }
   ],
   "source": [
    "print(p)  # 7.46*10^(-29) = 0.0000000000000000000000000000746\n",
    "print(p1) # 8.08*10^(-7)  = 0.000000808"
   ]
  },
  {
   "cell_type": "markdown",
   "id": "9238d690",
   "metadata": {
    "id": "9238d690"
   },
   "source": [
    "#### Encoding Catgeorical Features"
   ]
  },
  {
   "cell_type": "code",
   "execution_count": 74,
   "id": "fa1026c2",
   "metadata": {
    "colab": {
     "base_uri": "https://localhost:8080/"
    },
    "executionInfo": {
     "elapsed": 499,
     "status": "ok",
     "timestamp": 1710147702319,
     "user": {
      "displayName": "Utkarsh Tiwary",
      "userId": "14791650885169567640"
     },
     "user_tz": -330
    },
    "id": "fa1026c2",
    "outputId": "b680f90a-059d-4846-d580-5e5c0f42ac41"
   },
   "outputs": [
    {
     "data": {
      "text/plain": [
       "Index(['MSZoning', 'LotShape', 'LandContour', 'LotConfig', 'LandSlope',\n",
       "       'Neighborhood', 'Condition1', 'BldgType', 'HouseStyle', 'RoofStyle',\n",
       "       'RoofMatl', 'Exterior1st', 'Exterior2nd', 'MasVnrType', 'ExterQual',\n",
       "       'ExterCond', 'Foundation', 'BsmtQual', 'BsmtCond', 'BsmtExposure',\n",
       "       'BsmtFinType1', 'BsmtFinType2', 'Heating', 'HeatingQC', 'CentralAir',\n",
       "       'Electrical', 'KitchenQual', 'Functional', 'FireplaceQu', 'GarageType',\n",
       "       'GarageFinish', 'GarageQual', 'GarageCond', 'PavedDrive', 'SaleType',\n",
       "       'SaleCondition'],\n",
       "      dtype='object')"
      ]
     },
     "execution_count": 74,
     "metadata": {},
     "output_type": "execute_result"
    }
   ],
   "source": [
    "cat_cols  = df.dtypes[df.dtypes=='object'].index\n",
    "cat_cols"
   ]
  },
  {
   "cell_type": "code",
   "execution_count": 75,
   "id": "JeSCo2sTvybV",
   "metadata": {
    "colab": {
     "base_uri": "https://localhost:8080/"
    },
    "executionInfo": {
     "elapsed": 615,
     "status": "ok",
     "timestamp": 1710147756691,
     "user": {
      "displayName": "Utkarsh Tiwary",
      "userId": "14791650885169567640"
     },
     "user_tz": -330
    },
    "id": "JeSCo2sTvybV",
    "outputId": "1db7dfc8-0197-428c-f5e6-f59e932b6b99"
   },
   "outputs": [
    {
     "name": "stdout",
     "output_type": "stream",
     "text": [
      "MSZoning 4\n",
      "LotShape 4\n",
      "LandContour 4\n",
      "LotConfig 5\n",
      "LandSlope 3\n",
      "Neighborhood 23\n",
      "Condition1 9\n",
      "BldgType 5\n",
      "HouseStyle 5\n",
      "RoofStyle 5\n",
      "RoofMatl 6\n",
      "Exterior1st 10\n",
      "Exterior2nd 12\n",
      "MasVnrType 3\n",
      "ExterQual 3\n",
      "ExterCond 3\n",
      "Foundation 4\n",
      "BsmtQual 5\n",
      "BsmtCond 4\n",
      "BsmtExposure 5\n",
      "BsmtFinType1 7\n",
      "BsmtFinType2 7\n",
      "Heating 3\n",
      "HeatingQC 4\n",
      "CentralAir 2\n",
      "Electrical 3\n",
      "KitchenQual 4\n",
      "Functional 7\n",
      "FireplaceQu 6\n",
      "GarageType 7\n",
      "GarageFinish 4\n",
      "GarageQual 4\n",
      "GarageCond 4\n",
      "PavedDrive 3\n",
      "SaleType 7\n",
      "SaleCondition 6\n"
     ]
    }
   ],
   "source": [
    "for i in cat_cols:\n",
    "  print(i,df[i].nunique())"
   ]
  },
  {
   "cell_type": "code",
   "execution_count": 76,
   "id": "1yK9sUevbuYf",
   "metadata": {
    "executionInfo": {
     "elapsed": 483,
     "status": "ok",
     "timestamp": 1710147926147,
     "user": {
      "displayName": "Utkarsh Tiwary",
      "userId": "14791650885169567640"
     },
     "user_tz": -330
    },
    "id": "1yK9sUevbuYf"
   },
   "outputs": [],
   "source": [
    "# Removing:  Neighborhood, Exterior1st , Exterior2nd\n",
    "cat_cols1 = ['MSZoning', 'LotShape', 'LandContour', 'LotConfig', 'LandSlope',\n",
    "        'Condition1', 'BldgType', 'HouseStyle', 'RoofStyle',\n",
    "       'RoofMatl', 'MasVnrType', 'ExterQual',\n",
    "       'ExterCond', 'Foundation', 'BsmtQual', 'BsmtCond', 'BsmtExposure',\n",
    "       'BsmtFinType1', 'BsmtFinType2', 'Heating', 'HeatingQC', 'CentralAir',\n",
    "       'Electrical', 'KitchenQual', 'Functional', 'FireplaceQu', 'GarageType',\n",
    "       'GarageFinish', 'GarageQual', 'GarageCond', 'PavedDrive', 'SaleType',\n",
    "       'SaleCondition']"
   ]
  },
  {
   "cell_type": "code",
   "execution_count": 77,
   "id": "faf8bb6a",
   "metadata": {
    "colab": {
     "base_uri": "https://localhost:8080/"
    },
    "executionInfo": {
     "elapsed": 438,
     "status": "ok",
     "timestamp": 1710148048384,
     "user": {
      "displayName": "Utkarsh Tiwary",
      "userId": "14791650885169567640"
     },
     "user_tz": -330
    },
    "id": "faf8bb6a",
    "outputId": "03f0a0ce-3b36-456f-8fb3-03b8c698b253"
   },
   "outputs": [
    {
     "name": "stdout",
     "output_type": "stream",
     "text": [
      "(588, 162)\n",
      "Index(['MSSubClass', 'LotFrontage', 'LotArea', 'Neighborhood', 'OverallQual',\n",
      "       'OverallCond', 'YearRemodAdd', 'Exterior1st', 'Exterior2nd',\n",
      "       'MasVnrArea',\n",
      "       ...\n",
      "       'SaleType_ConLD', 'SaleType_ConLI', 'SaleType_ConLw', 'SaleType_New',\n",
      "       'SaleType_WD', 'SaleCondition_AdjLand', 'SaleCondition_Alloca',\n",
      "       'SaleCondition_Family', 'SaleCondition_Normal',\n",
      "       'SaleCondition_Partial'],\n",
      "      dtype='object', length=162)\n"
     ]
    }
   ],
   "source": [
    "df_dum = pd.get_dummies(data=df,columns= cat_cols1,drop_first=True)\n",
    "# NeighborHood, 'Exterior1st', 'Exterior2nd'\n",
    "print(df_dum.shape)\n",
    "print(df_dum.columns)"
   ]
  },
  {
   "cell_type": "markdown",
   "id": "777b9e4c",
   "metadata": {
    "id": "777b9e4c"
   },
   "source": [
    "#### Select x and y"
   ]
  },
  {
   "cell_type": "code",
   "execution_count": 78,
   "id": "1581a70b",
   "metadata": {
    "colab": {
     "base_uri": "https://localhost:8080/"
    },
    "executionInfo": {
     "elapsed": 15,
     "status": "ok",
     "timestamp": 1710148192744,
     "user": {
      "displayName": "Utkarsh Tiwary",
      "userId": "14791650885169567640"
     },
     "user_tz": -330
    },
    "id": "1581a70b",
    "outputId": "e1bc6ccd-a40e-4948-ddaa-26439293522d"
   },
   "outputs": [
    {
     "name": "stdout",
     "output_type": "stream",
     "text": [
      "(588, 158)\n",
      "(588,)\n"
     ]
    }
   ],
   "source": [
    "x = df_dum.drop(['SalePrice','Neighborhood', 'Exterior1st', 'Exterior2nd'],axis=1)\n",
    "y = np.log(df_dum['SalePrice'])\n",
    "print(x.shape)\n",
    "print(y.shape)"
   ]
  },
  {
   "cell_type": "code",
   "execution_count": 79,
   "id": "faf26b61",
   "metadata": {
    "id": "faf26b61"
   },
   "outputs": [],
   "source": [
    "from sklearn.model_selection import train_test_split"
   ]
  },
  {
   "cell_type": "code",
   "execution_count": 80,
   "id": "7f9ee54e",
   "metadata": {
    "colab": {
     "base_uri": "https://localhost:8080/"
    },
    "executionInfo": {
     "elapsed": 4,
     "status": "ok",
     "timestamp": 1710142685987,
     "user": {
      "displayName": "Utkarsh Tiwary",
      "userId": "14791650885169567640"
     },
     "user_tz": -330
    },
    "id": "7f9ee54e",
    "outputId": "15fc2b16-bbef-432a-d834-c6c5293def9b"
   },
   "outputs": [
    {
     "name": "stdout",
     "output_type": "stream",
     "text": [
      "(411, 158)\n",
      "(177, 158)\n",
      "(411,)\n",
      "(177,)\n"
     ]
    }
   ],
   "source": [
    "x_train,x_test,y_train,y_test = train_test_split(x,y,test_size=0.30,random_state=42)\n",
    "print(x_train.shape)\n",
    "print(x_test.shape)\n",
    "print(y_train.shape)\n",
    "print(y_test.shape)"
   ]
  },
  {
   "cell_type": "code",
   "execution_count": 81,
   "id": "dcf35b22",
   "metadata": {
    "id": "dcf35b22"
   },
   "outputs": [],
   "source": [
    "from sklearn.metrics import *"
   ]
  },
  {
   "cell_type": "code",
   "execution_count": 82,
   "id": "cb96ae13",
   "metadata": {
    "id": "cb96ae13"
   },
   "outputs": [],
   "source": [
    "def eval_model(ytest,ypred):\n",
    "    mae =  mean_absolute_error(ytest,ypred)\n",
    "    mse = mean_squared_error(ytest,ypred)\n",
    "    rmse = np.sqrt(mse)\n",
    "    r2 = r2_score(ytest,ypred)\n",
    "    print('MAE',mae)\n",
    "    print('MSE',mse,'RMSE',rmse)\n",
    "    print('R2_Score',r2)"
   ]
  },
  {
   "cell_type": "code",
   "execution_count": 83,
   "id": "884914c5",
   "metadata": {
    "id": "884914c5"
   },
   "outputs": [],
   "source": [
    "from sklearn.linear_model import LinearRegression"
   ]
  },
  {
   "cell_type": "code",
   "execution_count": 84,
   "id": "ed185e28",
   "metadata": {
    "colab": {
     "base_uri": "https://localhost:8080/",
     "height": 74
    },
    "executionInfo": {
     "elapsed": 13,
     "status": "ok",
     "timestamp": 1710142694072,
     "user": {
      "displayName": "Utkarsh Tiwary",
      "userId": "14791650885169567640"
     },
     "user_tz": -330
    },
    "id": "ed185e28",
    "outputId": "1e07b579-c50d-4c4e-e5dd-c3d2468ba50b"
   },
   "outputs": [
    {
     "data": {
      "text/html": [
       "<style>#sk-container-id-1 {color: black;}#sk-container-id-1 pre{padding: 0;}#sk-container-id-1 div.sk-toggleable {background-color: white;}#sk-container-id-1 label.sk-toggleable__label {cursor: pointer;display: block;width: 100%;margin-bottom: 0;padding: 0.3em;box-sizing: border-box;text-align: center;}#sk-container-id-1 label.sk-toggleable__label-arrow:before {content: \"▸\";float: left;margin-right: 0.25em;color: #696969;}#sk-container-id-1 label.sk-toggleable__label-arrow:hover:before {color: black;}#sk-container-id-1 div.sk-estimator:hover label.sk-toggleable__label-arrow:before {color: black;}#sk-container-id-1 div.sk-toggleable__content {max-height: 0;max-width: 0;overflow: hidden;text-align: left;background-color: #f0f8ff;}#sk-container-id-1 div.sk-toggleable__content pre {margin: 0.2em;color: black;border-radius: 0.25em;background-color: #f0f8ff;}#sk-container-id-1 input.sk-toggleable__control:checked~div.sk-toggleable__content {max-height: 200px;max-width: 100%;overflow: auto;}#sk-container-id-1 input.sk-toggleable__control:checked~label.sk-toggleable__label-arrow:before {content: \"▾\";}#sk-container-id-1 div.sk-estimator input.sk-toggleable__control:checked~label.sk-toggleable__label {background-color: #d4ebff;}#sk-container-id-1 div.sk-label input.sk-toggleable__control:checked~label.sk-toggleable__label {background-color: #d4ebff;}#sk-container-id-1 input.sk-hidden--visually {border: 0;clip: rect(1px 1px 1px 1px);clip: rect(1px, 1px, 1px, 1px);height: 1px;margin: -1px;overflow: hidden;padding: 0;position: absolute;width: 1px;}#sk-container-id-1 div.sk-estimator {font-family: monospace;background-color: #f0f8ff;border: 1px dotted black;border-radius: 0.25em;box-sizing: border-box;margin-bottom: 0.5em;}#sk-container-id-1 div.sk-estimator:hover {background-color: #d4ebff;}#sk-container-id-1 div.sk-parallel-item::after {content: \"\";width: 100%;border-bottom: 1px solid gray;flex-grow: 1;}#sk-container-id-1 div.sk-label:hover label.sk-toggleable__label {background-color: #d4ebff;}#sk-container-id-1 div.sk-serial::before {content: \"\";position: absolute;border-left: 1px solid gray;box-sizing: border-box;top: 0;bottom: 0;left: 50%;z-index: 0;}#sk-container-id-1 div.sk-serial {display: flex;flex-direction: column;align-items: center;background-color: white;padding-right: 0.2em;padding-left: 0.2em;position: relative;}#sk-container-id-1 div.sk-item {position: relative;z-index: 1;}#sk-container-id-1 div.sk-parallel {display: flex;align-items: stretch;justify-content: center;background-color: white;position: relative;}#sk-container-id-1 div.sk-item::before, #sk-container-id-1 div.sk-parallel-item::before {content: \"\";position: absolute;border-left: 1px solid gray;box-sizing: border-box;top: 0;bottom: 0;left: 50%;z-index: -1;}#sk-container-id-1 div.sk-parallel-item {display: flex;flex-direction: column;z-index: 1;position: relative;background-color: white;}#sk-container-id-1 div.sk-parallel-item:first-child::after {align-self: flex-end;width: 50%;}#sk-container-id-1 div.sk-parallel-item:last-child::after {align-self: flex-start;width: 50%;}#sk-container-id-1 div.sk-parallel-item:only-child::after {width: 0;}#sk-container-id-1 div.sk-dashed-wrapped {border: 1px dashed gray;margin: 0 0.4em 0.5em 0.4em;box-sizing: border-box;padding-bottom: 0.4em;background-color: white;}#sk-container-id-1 div.sk-label label {font-family: monospace;font-weight: bold;display: inline-block;line-height: 1.2em;}#sk-container-id-1 div.sk-label-container {text-align: center;}#sk-container-id-1 div.sk-container {/* jupyter's `normalize.less` sets `[hidden] { display: none; }` but bootstrap.min.css set `[hidden] { display: none !important; }` so we also need the `!important` here to be able to override the default hidden behavior on the sphinx rendered scikit-learn.org. See: https://github.com/scikit-learn/scikit-learn/issues/21755 */display: inline-block !important;position: relative;}#sk-container-id-1 div.sk-text-repr-fallback {display: none;}</style><div id=\"sk-container-id-1\" class=\"sk-top-container\"><div class=\"sk-text-repr-fallback\"><pre>LinearRegression()</pre><b>In a Jupyter environment, please rerun this cell to show the HTML representation or trust the notebook. <br />On GitHub, the HTML representation is unable to render, please try loading this page with nbviewer.org.</b></div><div class=\"sk-container\" hidden><div class=\"sk-item\"><div class=\"sk-estimator sk-toggleable\"><input class=\"sk-toggleable__control sk-hidden--visually\" id=\"sk-estimator-id-1\" type=\"checkbox\" checked><label for=\"sk-estimator-id-1\" class=\"sk-toggleable__label sk-toggleable__label-arrow\">LinearRegression</label><div class=\"sk-toggleable__content\"><pre>LinearRegression()</pre></div></div></div></div></div>"
      ],
      "text/plain": [
       "LinearRegression()"
      ]
     },
     "execution_count": 84,
     "metadata": {},
     "output_type": "execute_result"
    }
   ],
   "source": [
    "lr1 = LinearRegression()\n",
    "lr1.fit(x_train,y_train)"
   ]
  },
  {
   "cell_type": "code",
   "execution_count": 85,
   "id": "ea114de3",
   "metadata": {
    "colab": {
     "base_uri": "https://localhost:8080/"
    },
    "executionInfo": {
     "elapsed": 3,
     "status": "ok",
     "timestamp": 1710142696362,
     "user": {
      "displayName": "Utkarsh Tiwary",
      "userId": "14791650885169567640"
     },
     "user_tz": -330
    },
    "id": "ea114de3",
    "outputId": "9994d65b-ffe9-4251-f3e6-a65bb5c618de"
   },
   "outputs": [
    {
     "name": "stdout",
     "output_type": "stream",
     "text": [
      "MAE 0.11585363856499153\n",
      "MSE 0.0366995765181596 RMSE 0.19157133532488518\n",
      "R2_Score 0.7555646353928014\n"
     ]
    }
   ],
   "source": [
    "ypred_lr1 = lr1.predict(x_test)\n",
    "eval_model(y_test,ypred_lr1)"
   ]
  },
  {
   "cell_type": "code",
   "execution_count": 86,
   "id": "2880878a",
   "metadata": {
    "colab": {
     "base_uri": "https://localhost:8080/"
    },
    "executionInfo": {
     "elapsed": 5,
     "status": "ok",
     "timestamp": 1710142697184,
     "user": {
      "displayName": "Utkarsh Tiwary",
      "userId": "14791650885169567640"
     },
     "user_tz": -330
    },
    "id": "2880878a",
    "outputId": "5cc902ef-7635-48c7-d855-94e4c4ea7f92"
   },
   "outputs": [
    {
     "name": "stdout",
     "output_type": "stream",
     "text": [
      "Train Score 0.9545527759731671\n",
      "Test Score 0.7555646353928014\n"
     ]
    }
   ],
   "source": [
    "print('Train Score',lr1.score(x_train,y_train))\n",
    "print('Test Score',lr1.score(x_test,y_test))"
   ]
  },
  {
   "cell_type": "markdown",
   "id": "d661858c",
   "metadata": {
    "id": "d661858c"
   },
   "source": [
    "#### Inference\n",
    "Model is highly overfit"
   ]
  },
  {
   "cell_type": "markdown",
   "id": "e90b0398",
   "metadata": {
    "id": "e90b0398"
   },
   "source": [
    "### PCA"
   ]
  },
  {
   "cell_type": "code",
   "execution_count": 87,
   "id": "05f36d38",
   "metadata": {
    "colab": {
     "base_uri": "https://localhost:8080/"
    },
    "executionInfo": {
     "elapsed": 17,
     "status": "ok",
     "timestamp": 1710142702303,
     "user": {
      "displayName": "Utkarsh Tiwary",
      "userId": "14791650885169567640"
     },
     "user_tz": -330
    },
    "id": "05f36d38",
    "outputId": "56c1aa73-46eb-4958-f21c-e2919cd71191"
   },
   "outputs": [
    {
     "name": "stdout",
     "output_type": "stream",
     "text": [
      "(411, 158)\n",
      "(177, 158)\n"
     ]
    }
   ],
   "source": [
    "print(x_train.shape)\n",
    "print(x_test.shape)"
   ]
  },
  {
   "cell_type": "code",
   "execution_count": 88,
   "id": "763482ea",
   "metadata": {
    "id": "763482ea"
   },
   "outputs": [],
   "source": [
    "from sklearn.decomposition import PCA\n",
    "from sklearn.preprocessing import StandardScaler"
   ]
  },
  {
   "cell_type": "code",
   "execution_count": 89,
   "id": "69c35b0f",
   "metadata": {
    "colab": {
     "base_uri": "https://localhost:8080/"
    },
    "executionInfo": {
     "elapsed": 7,
     "status": "ok",
     "timestamp": 1710142706049,
     "user": {
      "displayName": "Utkarsh Tiwary",
      "userId": "14791650885169567640"
     },
     "user_tz": -330
    },
    "id": "69c35b0f",
    "outputId": "5f1b944a-3135-4aa5-964b-055659e4466e"
   },
   "outputs": [
    {
     "name": "stdout",
     "output_type": "stream",
     "text": [
      "(411, 158)\n",
      "(177, 158)\n"
     ]
    }
   ],
   "source": [
    "sc = StandardScaler()\n",
    "\n",
    "x_train_sc  = sc.fit_transform(x_train)\n",
    "x_test_sc  = sc.transform(x_test)\n",
    "print(x_train_sc.shape)\n",
    "print(x_test_sc.shape)"
   ]
  },
  {
   "cell_type": "code",
   "execution_count": 90,
   "id": "a0548233",
   "metadata": {
    "id": "a0548233"
   },
   "outputs": [],
   "source": [
    "pca = PCA()\n",
    "pca.fit(x_train_sc)\n",
    "\n",
    "x_train_pcomps = pca.transform(x_train_sc)\n",
    "x_test_pcomps = pca.transform(x_test_sc)"
   ]
  },
  {
   "cell_type": "code",
   "execution_count": 91,
   "id": "26856326",
   "metadata": {
    "colab": {
     "base_uri": "https://localhost:8080/"
    },
    "executionInfo": {
     "elapsed": 10,
     "status": "ok",
     "timestamp": 1710142709135,
     "user": {
      "displayName": "Utkarsh Tiwary",
      "userId": "14791650885169567640"
     },
     "user_tz": -330
    },
    "id": "26856326",
    "outputId": "0993f31c-b2dd-4bce-b877-df8d36f529e6"
   },
   "outputs": [
    {
     "name": "stdout",
     "output_type": "stream",
     "text": [
      "(411, 158)\n",
      "(177, 158)\n"
     ]
    }
   ],
   "source": [
    "print(x_train_pcomps.shape)\n",
    "print(x_test_pcomps.shape)"
   ]
  },
  {
   "cell_type": "markdown",
   "id": "3d1a05a5",
   "metadata": {
    "id": "3d1a05a5"
   },
   "source": [
    "#### Extract Eigen Values and Eigen Vectors"
   ]
  },
  {
   "cell_type": "code",
   "execution_count": 93,
   "id": "9c2aef28",
   "metadata": {
    "colab": {
     "base_uri": "https://localhost:8080/",
     "height": 224
    },
    "executionInfo": {
     "elapsed": 16,
     "status": "ok",
     "timestamp": 1710142711028,
     "user": {
      "displayName": "Utkarsh Tiwary",
      "userId": "14791650885169567640"
     },
     "user_tz": -330
    },
    "id": "9c2aef28",
    "outputId": "d53a4455-7380-4a46-b5bf-f230f68676b4"
   },
   "outputs": [
    {
     "name": "stdout",
     "output_type": "stream",
     "text": [
      "158\n"
     ]
    },
    {
     "data": {
      "text/html": [
       "<div>\n",
       "<style scoped>\n",
       "    .dataframe tbody tr th:only-of-type {\n",
       "        vertical-align: middle;\n",
       "    }\n",
       "\n",
       "    .dataframe tbody tr th {\n",
       "        vertical-align: top;\n",
       "    }\n",
       "\n",
       "    .dataframe thead th {\n",
       "        text-align: right;\n",
       "    }\n",
       "</style>\n",
       "<table border=\"1\" class=\"dataframe\">\n",
       "  <thead>\n",
       "    <tr style=\"text-align: right;\">\n",
       "      <th></th>\n",
       "      <th>Variance(Eig_Val)</th>\n",
       "      <th>EVR</th>\n",
       "    </tr>\n",
       "  </thead>\n",
       "  <tbody>\n",
       "    <tr>\n",
       "      <th>0</th>\n",
       "      <td>14.556021</td>\n",
       "      <td>9.616294</td>\n",
       "    </tr>\n",
       "    <tr>\n",
       "      <th>1</th>\n",
       "      <td>7.423544</td>\n",
       "      <td>4.904293</td>\n",
       "    </tr>\n",
       "    <tr>\n",
       "      <th>2</th>\n",
       "      <td>7.237932</td>\n",
       "      <td>4.781670</td>\n",
       "    </tr>\n",
       "    <tr>\n",
       "      <th>3</th>\n",
       "      <td>6.666698</td>\n",
       "      <td>4.404290</td>\n",
       "    </tr>\n",
       "    <tr>\n",
       "      <th>4</th>\n",
       "      <td>6.083890</td>\n",
       "      <td>4.019263</td>\n",
       "    </tr>\n",
       "  </tbody>\n",
       "</table>\n",
       "</div>"
      ],
      "text/plain": [
       "   Variance(Eig_Val)       EVR\n",
       "0          14.556021  9.616294\n",
       "1           7.423544  4.904293\n",
       "2           7.237932  4.781670\n",
       "3           6.666698  4.404290\n",
       "4           6.083890  4.019263"
      ]
     },
     "execution_count": 93,
     "metadata": {},
     "output_type": "execute_result"
    }
   ],
   "source": [
    "eig_val = pca.explained_variance_  # eigen_value\n",
    "print(len(eig_val))\n",
    "eig_df = pd.DataFrame({'Variance(Eig_Val)': eig_val,\n",
    "                      'EVR': (pca.explained_variance_ratio_)*100})\n",
    "\n",
    "# EVR = explained_variance_ratio_\n",
    "eig_df.head()"
   ]
  },
  {
   "cell_type": "code",
   "execution_count": 94,
   "id": "246a99df",
   "metadata": {
    "colab": {
     "base_uri": "https://localhost:8080/",
     "height": 206
    },
    "executionInfo": {
     "elapsed": 19,
     "status": "ok",
     "timestamp": 1710142712815,
     "user": {
      "displayName": "Utkarsh Tiwary",
      "userId": "14791650885169567640"
     },
     "user_tz": -330
    },
    "id": "246a99df",
    "outputId": "fe460ab7-b9a4-431e-c38a-ad59b8e53c9c"
   },
   "outputs": [
    {
     "data": {
      "text/html": [
       "<div>\n",
       "<style scoped>\n",
       "    .dataframe tbody tr th:only-of-type {\n",
       "        vertical-align: middle;\n",
       "    }\n",
       "\n",
       "    .dataframe tbody tr th {\n",
       "        vertical-align: top;\n",
       "    }\n",
       "\n",
       "    .dataframe thead th {\n",
       "        text-align: right;\n",
       "    }\n",
       "</style>\n",
       "<table border=\"1\" class=\"dataframe\">\n",
       "  <thead>\n",
       "    <tr style=\"text-align: right;\">\n",
       "      <th></th>\n",
       "      <th>Variance(Eig_Val)</th>\n",
       "      <th>EVR</th>\n",
       "      <th>CumSum_EVR</th>\n",
       "    </tr>\n",
       "  </thead>\n",
       "  <tbody>\n",
       "    <tr>\n",
       "      <th>0</th>\n",
       "      <td>14.556021</td>\n",
       "      <td>9.616294</td>\n",
       "      <td>9.616294</td>\n",
       "    </tr>\n",
       "    <tr>\n",
       "      <th>1</th>\n",
       "      <td>7.423544</td>\n",
       "      <td>4.904293</td>\n",
       "      <td>14.520587</td>\n",
       "    </tr>\n",
       "    <tr>\n",
       "      <th>2</th>\n",
       "      <td>7.237932</td>\n",
       "      <td>4.781670</td>\n",
       "      <td>19.302257</td>\n",
       "    </tr>\n",
       "    <tr>\n",
       "      <th>3</th>\n",
       "      <td>6.666698</td>\n",
       "      <td>4.404290</td>\n",
       "      <td>23.706547</td>\n",
       "    </tr>\n",
       "    <tr>\n",
       "      <th>4</th>\n",
       "      <td>6.083890</td>\n",
       "      <td>4.019263</td>\n",
       "      <td>27.725810</td>\n",
       "    </tr>\n",
       "  </tbody>\n",
       "</table>\n",
       "</div>"
      ],
      "text/plain": [
       "   Variance(Eig_Val)       EVR  CumSum_EVR\n",
       "0          14.556021  9.616294    9.616294\n",
       "1           7.423544  4.904293   14.520587\n",
       "2           7.237932  4.781670   19.302257\n",
       "3           6.666698  4.404290   23.706547\n",
       "4           6.083890  4.019263   27.725810"
      ]
     },
     "execution_count": 94,
     "metadata": {},
     "output_type": "execute_result"
    }
   ],
   "source": [
    "eig_df['CumSum_EVR'] = np.cumsum(eig_df['EVR'])\n",
    "eig_df.head()"
   ]
  },
  {
   "cell_type": "code",
   "execution_count": null,
   "id": "392ddbfe",
   "metadata": {
    "colab": {
     "base_uri": "https://localhost:8080/",
     "height": 472
    },
    "executionInfo": {
     "elapsed": 1014,
     "status": "ok",
     "timestamp": 1710142715538,
     "user": {
      "displayName": "Utkarsh Tiwary",
      "userId": "14791650885169567640"
     },
     "user_tz": -330
    },
    "id": "392ddbfe",
    "outputId": "1002e105-644a-4733-e210-399a978a3dc9"
   },
   "outputs": [
    {
     "data": {
      "image/png": "[encoded data removed]",
      "text/plain": [
       "<Figure size 640x480 with 1 Axes>"
      ]
     },
     "metadata": {},
     "output_type": "display_data"
    }
   ],
   "source": [
    "plt.plot(list(range(len(eig_df))),eig_df['CumSum_EVR'])\n",
    "plt.title('Scree Plot')\n",
    "plt.xlabel('Num of Components')\n",
    "plt.ylabel('CumSum of Eig_Val_Contribution')\n",
    "plt.show()"
   ]
  },
  {
   "cell_type": "code",
   "execution_count": 95,
   "id": "8481d041",
   "metadata": {
    "colab": {
     "base_uri": "https://localhost:8080/"
    },
    "executionInfo": {
     "elapsed": 7,
     "status": "ok",
     "timestamp": 1710142718697,
     "user": {
      "displayName": "Utkarsh Tiwary",
      "userId": "14791650885169567640"
     },
     "user_tz": -330
    },
    "id": "8481d041",
    "outputId": "72063d3d-cc41-4b57-f901-0907b8cdfe55"
   },
   "outputs": [
    {
     "data": {
      "text/plain": [
       "Index(['Variance(Eig_Val)', 'EVR', 'CumSum_EVR'], dtype='object')"
      ]
     },
     "execution_count": 95,
     "metadata": {},
     "output_type": "execute_result"
    }
   ],
   "source": [
    "eig_df.columns # 75"
   ]
  },
  {
   "cell_type": "code",
   "execution_count": 96,
   "id": "6f0e33f4",
   "metadata": {
    "colab": {
     "base_uri": "https://localhost:8080/",
     "height": 363
    },
    "executionInfo": {
     "elapsed": 17,
     "status": "ok",
     "timestamp": 1710142720984,
     "user": {
      "displayName": "Utkarsh Tiwary",
      "userId": "14791650885169567640"
     },
     "user_tz": -330
    },
    "id": "6f0e33f4",
    "outputId": "3b7c6308-6ca1-46af-d21a-0bb3173fad48"
   },
   "outputs": [
    {
     "data": {
      "text/html": [
       "<div>\n",
       "<style scoped>\n",
       "    .dataframe tbody tr th:only-of-type {\n",
       "        vertical-align: middle;\n",
       "    }\n",
       "\n",
       "    .dataframe tbody tr th {\n",
       "        vertical-align: top;\n",
       "    }\n",
       "\n",
       "    .dataframe thead th {\n",
       "        text-align: right;\n",
       "    }\n",
       "</style>\n",
       "<table border=\"1\" class=\"dataframe\">\n",
       "  <thead>\n",
       "    <tr style=\"text-align: right;\">\n",
       "      <th></th>\n",
       "      <th>Variance(Eig_Val)</th>\n",
       "      <th>EVR</th>\n",
       "      <th>CumSum_EVR</th>\n",
       "    </tr>\n",
       "  </thead>\n",
       "  <tbody>\n",
       "    <tr>\n",
       "      <th>39</th>\n",
       "      <td>1.155008</td>\n",
       "      <td>0.763045</td>\n",
       "      <td>74.398114</td>\n",
       "    </tr>\n",
       "    <tr>\n",
       "      <th>40</th>\n",
       "      <td>1.148210</td>\n",
       "      <td>0.758554</td>\n",
       "      <td>75.156668</td>\n",
       "    </tr>\n",
       "    <tr>\n",
       "      <th>41</th>\n",
       "      <td>1.137194</td>\n",
       "      <td>0.751276</td>\n",
       "      <td>75.907944</td>\n",
       "    </tr>\n",
       "    <tr>\n",
       "      <th>42</th>\n",
       "      <td>1.115184</td>\n",
       "      <td>0.736735</td>\n",
       "      <td>76.644679</td>\n",
       "    </tr>\n",
       "    <tr>\n",
       "      <th>43</th>\n",
       "      <td>1.082006</td>\n",
       "      <td>0.714817</td>\n",
       "      <td>77.359496</td>\n",
       "    </tr>\n",
       "    <tr>\n",
       "      <th>44</th>\n",
       "      <td>1.060135</td>\n",
       "      <td>0.700368</td>\n",
       "      <td>78.059864</td>\n",
       "    </tr>\n",
       "    <tr>\n",
       "      <th>45</th>\n",
       "      <td>1.040376</td>\n",
       "      <td>0.687315</td>\n",
       "      <td>78.747179</td>\n",
       "    </tr>\n",
       "    <tr>\n",
       "      <th>46</th>\n",
       "      <td>1.014430</td>\n",
       "      <td>0.670174</td>\n",
       "      <td>79.417352</td>\n",
       "    </tr>\n",
       "    <tr>\n",
       "      <th>47</th>\n",
       "      <td>0.975661</td>\n",
       "      <td>0.644561</td>\n",
       "      <td>80.061913</td>\n",
       "    </tr>\n",
       "    <tr>\n",
       "      <th>48</th>\n",
       "      <td>0.967415</td>\n",
       "      <td>0.639114</td>\n",
       "      <td>80.701027</td>\n",
       "    </tr>\n",
       "  </tbody>\n",
       "</table>\n",
       "</div>"
      ],
      "text/plain": [
       "    Variance(Eig_Val)       EVR  CumSum_EVR\n",
       "39           1.155008  0.763045   74.398114\n",
       "40           1.148210  0.758554   75.156668\n",
       "41           1.137194  0.751276   75.907944\n",
       "42           1.115184  0.736735   76.644679\n",
       "43           1.082006  0.714817   77.359496\n",
       "44           1.060135  0.700368   78.059864\n",
       "45           1.040376  0.687315   78.747179\n",
       "46           1.014430  0.670174   79.417352\n",
       "47           0.975661  0.644561   80.061913\n",
       "48           0.967415  0.639114   80.701027"
      ]
     },
     "execution_count": 96,
     "metadata": {},
     "output_type": "execute_result"
    }
   ],
   "source": [
    "eig_df[eig_df['CumSum_EVR']>=74].head(10)"
   ]
  },
  {
   "cell_type": "markdown",
   "id": "503f3dfc",
   "metadata": {
    "id": "503f3dfc"
   },
   "source": [
    "#### Inference\n",
    "41 PC have cumulative varaince of 75%. Hence out of 158, we need atleast 41PCs."
   ]
  },
  {
   "cell_type": "code",
   "execution_count": 97,
   "id": "94bde4b4",
   "metadata": {
    "colab": {
     "base_uri": "https://localhost:8080/"
    },
    "executionInfo": {
     "elapsed": 6,
     "status": "ok",
     "timestamp": 1710142741235,
     "user": {
      "displayName": "Utkarsh Tiwary",
      "userId": "14791650885169567640"
     },
     "user_tz": -330
    },
    "id": "94bde4b4",
    "outputId": "7b9e8da5-6ebe-430e-a8d8-8c362386bf8a"
   },
   "outputs": [
    {
     "data": {
      "text/plain": [
       "158"
      ]
     },
     "execution_count": 97,
     "metadata": {},
     "output_type": "execute_result"
    }
   ],
   "source": [
    "pc_cols = ['PC'+str(i) for i in range(1,159)]\n",
    "len(pc_cols)"
   ]
  },
  {
   "cell_type": "code",
   "execution_count": 98,
   "id": "f40bea8f",
   "metadata": {
    "colab": {
     "base_uri": "https://localhost:8080/"
    },
    "executionInfo": {
     "elapsed": 9,
     "status": "ok",
     "timestamp": 1710142735429,
     "user": {
      "displayName": "Utkarsh Tiwary",
      "userId": "14791650885169567640"
     },
     "user_tz": -330
    },
    "id": "f40bea8f",
    "outputId": "1af416b4-3c08-4a12-8bad-7da5f9901c35"
   },
   "outputs": [
    {
     "name": "stdout",
     "output_type": "stream",
     "text": [
      "(411, 158)\n"
     ]
    }
   ],
   "source": [
    "print(x_train_pcomps.shape)"
   ]
  },
  {
   "cell_type": "code",
   "execution_count": 99,
   "id": "204a8744",
   "metadata": {
    "colab": {
     "base_uri": "https://localhost:8080/"
    },
    "executionInfo": {
     "elapsed": 4,
     "status": "ok",
     "timestamp": 1710142753460,
     "user": {
      "displayName": "Utkarsh Tiwary",
      "userId": "14791650885169567640"
     },
     "user_tz": -330
    },
    "id": "204a8744",
    "outputId": "ce6049b1-9603-4af5-91d6-21f46500f9db"
   },
   "outputs": [
    {
     "name": "stdout",
     "output_type": "stream",
     "text": [
      "(411, 158)\n",
      "(177, 158)\n"
     ]
    }
   ],
   "source": [
    "x_train_pcomps_df = pd.DataFrame(x_train_pcomps,columns = pc_cols)\n",
    "x_test_pcomps_df = pd.DataFrame(x_test_pcomps,columns = pc_cols)\n",
    "print(x_train_pcomps_df.shape)\n",
    "print(x_test_pcomps_df.shape)"
   ]
  },
  {
   "cell_type": "markdown",
   "id": "eb5d0d08",
   "metadata": {
    "id": "eb5d0d08"
   },
   "source": [
    "#### Select 80 features from x_train_pcomps and 80 features from x_test_pcomps"
   ]
  },
  {
   "cell_type": "code",
   "execution_count": 100,
   "id": "6a18ae7b",
   "metadata": {
    "colab": {
     "base_uri": "https://localhost:8080/"
    },
    "executionInfo": {
     "elapsed": 5,
     "status": "ok",
     "timestamp": 1710142759942,
     "user": {
      "displayName": "Utkarsh Tiwary",
      "userId": "14791650885169567640"
     },
     "user_tz": -330
    },
    "id": "6a18ae7b",
    "outputId": "1eb03d08-54d0-4bd2-bd8a-37c1249e4657"
   },
   "outputs": [
    {
     "name": "stdout",
     "output_type": "stream",
     "text": [
      "(411, 62)\n",
      "(177, 62)\n"
     ]
    }
   ],
   "source": [
    "x_train_pcomps_df = x_train_pcomps_df.iloc[:,:62]\n",
    "x_test_pcomps_df = x_test_pcomps_df.iloc[:,:62]\n",
    "print(x_train_pcomps_df.shape) # => Independent features for train data\n",
    "print(x_test_pcomps_df.shape)  # => Independent features for test data"
   ]
  },
  {
   "cell_type": "markdown",
   "id": "cc2aeb05",
   "metadata": {
    "id": "cc2aeb05"
   },
   "source": [
    "#### Linear Regression after PCA"
   ]
  },
  {
   "cell_type": "code",
   "execution_count": 101,
   "id": "d728a0d5",
   "metadata": {
    "colab": {
     "base_uri": "https://localhost:8080/",
     "height": 74
    },
    "executionInfo": {
     "elapsed": 18,
     "status": "ok",
     "timestamp": 1710142762768,
     "user": {
      "displayName": "Utkarsh Tiwary",
      "userId": "14791650885169567640"
     },
     "user_tz": -330
    },
    "id": "d728a0d5",
    "outputId": "971b9519-9057-4bab-941f-e41ed8d6beee"
   },
   "outputs": [
    {
     "data": {
      "text/html": [
       "<style>#sk-container-id-2 {color: black;}#sk-container-id-2 pre{padding: 0;}#sk-container-id-2 div.sk-toggleable {background-color: white;}#sk-container-id-2 label.sk-toggleable__label {cursor: pointer;display: block;width: 100%;margin-bottom: 0;padding: 0.3em;box-sizing: border-box;text-align: center;}#sk-container-id-2 label.sk-toggleable__label-arrow:before {content: \"▸\";float: left;margin-right: 0.25em;color: #696969;}#sk-container-id-2 label.sk-toggleable__label-arrow:hover:before {color: black;}#sk-container-id-2 div.sk-estimator:hover label.sk-toggleable__label-arrow:before {color: black;}#sk-container-id-2 div.sk-toggleable__content {max-height: 0;max-width: 0;overflow: hidden;text-align: left;background-color: #f0f8ff;}#sk-container-id-2 div.sk-toggleable__content pre {margin: 0.2em;color: black;border-radius: 0.25em;background-color: #f0f8ff;}#sk-container-id-2 input.sk-toggleable__control:checked~div.sk-toggleable__content {max-height: 200px;max-width: 100%;overflow: auto;}#sk-container-id-2 input.sk-toggleable__control:checked~label.sk-toggleable__label-arrow:before {content: \"▾\";}#sk-container-id-2 div.sk-estimator input.sk-toggleable__control:checked~label.sk-toggleable__label {background-color: #d4ebff;}#sk-container-id-2 div.sk-label input.sk-toggleable__control:checked~label.sk-toggleable__label {background-color: #d4ebff;}#sk-container-id-2 input.sk-hidden--visually {border: 0;clip: rect(1px 1px 1px 1px);clip: rect(1px, 1px, 1px, 1px);height: 1px;margin: -1px;overflow: hidden;padding: 0;position: absolute;width: 1px;}#sk-container-id-2 div.sk-estimator {font-family: monospace;background-color: #f0f8ff;border: 1px dotted black;border-radius: 0.25em;box-sizing: border-box;margin-bottom: 0.5em;}#sk-container-id-2 div.sk-estimator:hover {background-color: #d4ebff;}#sk-container-id-2 div.sk-parallel-item::after {content: \"\";width: 100%;border-bottom: 1px solid gray;flex-grow: 1;}#sk-container-id-2 div.sk-label:hover label.sk-toggleable__label {background-color: #d4ebff;}#sk-container-id-2 div.sk-serial::before {content: \"\";position: absolute;border-left: 1px solid gray;box-sizing: border-box;top: 0;bottom: 0;left: 50%;z-index: 0;}#sk-container-id-2 div.sk-serial {display: flex;flex-direction: column;align-items: center;background-color: white;padding-right: 0.2em;padding-left: 0.2em;position: relative;}#sk-container-id-2 div.sk-item {position: relative;z-index: 1;}#sk-container-id-2 div.sk-parallel {display: flex;align-items: stretch;justify-content: center;background-color: white;position: relative;}#sk-container-id-2 div.sk-item::before, #sk-container-id-2 div.sk-parallel-item::before {content: \"\";position: absolute;border-left: 1px solid gray;box-sizing: border-box;top: 0;bottom: 0;left: 50%;z-index: -1;}#sk-container-id-2 div.sk-parallel-item {display: flex;flex-direction: column;z-index: 1;position: relative;background-color: white;}#sk-container-id-2 div.sk-parallel-item:first-child::after {align-self: flex-end;width: 50%;}#sk-container-id-2 div.sk-parallel-item:last-child::after {align-self: flex-start;width: 50%;}#sk-container-id-2 div.sk-parallel-item:only-child::after {width: 0;}#sk-container-id-2 div.sk-dashed-wrapped {border: 1px dashed gray;margin: 0 0.4em 0.5em 0.4em;box-sizing: border-box;padding-bottom: 0.4em;background-color: white;}#sk-container-id-2 div.sk-label label {font-family: monospace;font-weight: bold;display: inline-block;line-height: 1.2em;}#sk-container-id-2 div.sk-label-container {text-align: center;}#sk-container-id-2 div.sk-container {/* jupyter's `normalize.less` sets `[hidden] { display: none; }` but bootstrap.min.css set `[hidden] { display: none !important; }` so we also need the `!important` here to be able to override the default hidden behavior on the sphinx rendered scikit-learn.org. See: https://github.com/scikit-learn/scikit-learn/issues/21755 */display: inline-block !important;position: relative;}#sk-container-id-2 div.sk-text-repr-fallback {display: none;}</style><div id=\"sk-container-id-2\" class=\"sk-top-container\"><div class=\"sk-text-repr-fallback\"><pre>LinearRegression()</pre><b>In a Jupyter environment, please rerun this cell to show the HTML representation or trust the notebook. <br />On GitHub, the HTML representation is unable to render, please try loading this page with nbviewer.org.</b></div><div class=\"sk-container\" hidden><div class=\"sk-item\"><div class=\"sk-estimator sk-toggleable\"><input class=\"sk-toggleable__control sk-hidden--visually\" id=\"sk-estimator-id-2\" type=\"checkbox\" checked><label for=\"sk-estimator-id-2\" class=\"sk-toggleable__label sk-toggleable__label-arrow\">LinearRegression</label><div class=\"sk-toggleable__content\"><pre>LinearRegression()</pre></div></div></div></div></div>"
      ],
      "text/plain": [
       "LinearRegression()"
      ]
     },
     "execution_count": 101,
     "metadata": {},
     "output_type": "execute_result"
    }
   ],
   "source": [
    "lr2 = LinearRegression()\n",
    "lr2.fit(x_train_pcomps_df,y_train)"
   ]
  },
  {
   "cell_type": "code",
   "execution_count": 102,
   "id": "1b1112b4",
   "metadata": {
    "colab": {
     "base_uri": "https://localhost:8080/"
    },
    "executionInfo": {
     "elapsed": 7,
     "status": "ok",
     "timestamp": 1710142763518,
     "user": {
      "displayName": "Utkarsh Tiwary",
      "userId": "14791650885169567640"
     },
     "user_tz": -330
    },
    "id": "1b1112b4",
    "outputId": "b6277435-d46a-4636-b9eb-e6613ef406fa"
   },
   "outputs": [
    {
     "name": "stdout",
     "output_type": "stream",
     "text": [
      "MAE 0.10040175888944289\n",
      "MSE 0.028443606730202724 RMSE 0.16865232500681016\n",
      "R2_Score 0.8105530351719292\n"
     ]
    }
   ],
   "source": [
    "ypred_lr2 = lr2.predict(x_test_pcomps_df)\n",
    "eval_model(y_test,ypred_lr2)"
   ]
  },
  {
   "cell_type": "code",
   "execution_count": 103,
   "id": "c0b14c2c",
   "metadata": {
    "colab": {
     "base_uri": "https://localhost:8080/"
    },
    "executionInfo": {
     "elapsed": 5,
     "status": "ok",
     "timestamp": 1710142768816,
     "user": {
      "displayName": "Utkarsh Tiwary",
      "userId": "14791650885169567640"
     },
     "user_tz": -330
    },
    "id": "c0b14c2c",
    "outputId": "ae682ef6-76a7-4463-d395-6d32e2175d86"
   },
   "outputs": [
    {
     "name": "stdout",
     "output_type": "stream",
     "text": [
      "Train Score 0.8995072513274585\n",
      "Test Score 0.8105530351719292\n"
     ]
    }
   ],
   "source": [
    "print('Train Score', lr2.score(x_train_pcomps_df,y_train))\n",
    "print('Test Score', lr2.score(x_test_pcomps_df,y_test))"
   ]
  },
  {
   "cell_type": "code",
   "execution_count": 104,
   "id": "8dbf40d8",
   "metadata": {
    "colab": {
     "base_uri": "https://localhost:8080/"
    },
    "executionInfo": {
     "elapsed": 620,
     "status": "ok",
     "timestamp": 1710142772796,
     "user": {
      "displayName": "Utkarsh Tiwary",
      "userId": "14791650885169567640"
     },
     "user_tz": -330
    },
    "id": "8dbf40d8",
    "outputId": "9a507deb-9a3d-44f0-cb4a-d046a6f8fc5a"
   },
   "outputs": [
    {
     "name": "stdout",
     "output_type": "stream",
     "text": [
      "Train Score 0.9545527759731671\n",
      "Test Score 0.7555646353928014\n"
     ]
    }
   ],
   "source": [
    "print('Train Score',lr1.score(x_train,y_train))\n",
    "print('Test Score',lr1.score(x_test,y_test))"
   ]
  },
  {
   "cell_type": "code",
   "execution_count": 105,
   "id": "1da3de61",
   "metadata": {
    "id": "1da3de61"
   },
   "outputs": [],
   "source": [
    "#### PCA - Cons\n",
    "# 1) Overfitting reduces.\n",
    "# 2) Time minimise complexity."
   ]
  },
  {
   "cell_type": "markdown",
   "id": "ae403be0",
   "metadata": {
    "id": "ae403be0"
   },
   "source": [
    "#### Loadings Matrix"
   ]
  },
  {
   "cell_type": "code",
   "execution_count": 106,
   "id": "7e4e5dd8",
   "metadata": {
    "colab": {
     "base_uri": "https://localhost:8080/"
    },
    "executionInfo": {
     "elapsed": 7,
     "status": "ok",
     "timestamp": 1710142777193,
     "user": {
      "displayName": "Utkarsh Tiwary",
      "userId": "14791650885169567640"
     },
     "user_tz": -330
    },
    "id": "7e4e5dd8",
    "outputId": "af059083-8cdc-444f-e410-f729027c9d33"
   },
   "outputs": [
    {
     "name": "stdout",
     "output_type": "stream",
     "text": [
      "(158, 158)\n"
     ]
    }
   ],
   "source": [
    "eig_vec = pca.components_\n",
    "print(eig_vec.shape)"
   ]
  },
  {
   "cell_type": "code",
   "execution_count": 107,
   "id": "be98c1af",
   "metadata": {
    "colab": {
     "base_uri": "https://localhost:8080/",
     "height": 443
    },
    "executionInfo": {
     "elapsed": 9,
     "status": "ok",
     "timestamp": 1710142779811,
     "user": {
      "displayName": "Utkarsh Tiwary",
      "userId": "14791650885169567640"
     },
     "user_tz": -330
    },
    "id": "be98c1af",
    "outputId": "b286f6b4-a91e-43e1-a35c-d48e06645edf"
   },
   "outputs": [
    {
     "data": {
      "text/html": [
       "<div>\n",
       "<style scoped>\n",
       "    .dataframe tbody tr th:only-of-type {\n",
       "        vertical-align: middle;\n",
       "    }\n",
       "\n",
       "    .dataframe tbody tr th {\n",
       "        vertical-align: top;\n",
       "    }\n",
       "\n",
       "    .dataframe thead th {\n",
       "        text-align: right;\n",
       "    }\n",
       "</style>\n",
       "<table border=\"1\" class=\"dataframe\">\n",
       "  <thead>\n",
       "    <tr style=\"text-align: right;\">\n",
       "      <th></th>\n",
       "      <th>PC1</th>\n",
       "      <th>PC2</th>\n",
       "      <th>PC3</th>\n",
       "      <th>PC4</th>\n",
       "      <th>PC5</th>\n",
       "      <th>PC6</th>\n",
       "      <th>PC7</th>\n",
       "      <th>PC8</th>\n",
       "      <th>PC9</th>\n",
       "      <th>PC10</th>\n",
       "      <th>...</th>\n",
       "      <th>PC149</th>\n",
       "      <th>PC150</th>\n",
       "      <th>PC151</th>\n",
       "      <th>PC152</th>\n",
       "      <th>PC153</th>\n",
       "      <th>PC154</th>\n",
       "      <th>PC155</th>\n",
       "      <th>PC156</th>\n",
       "      <th>PC157</th>\n",
       "      <th>PC158</th>\n",
       "    </tr>\n",
       "  </thead>\n",
       "  <tbody>\n",
       "    <tr>\n",
       "      <th>MSSubClass</th>\n",
       "      <td>0.119234</td>\n",
       "      <td>-0.501789</td>\n",
       "      <td>0.243864</td>\n",
       "      <td>-0.122887</td>\n",
       "      <td>0.327168</td>\n",
       "      <td>-0.049073</td>\n",
       "      <td>0.361604</td>\n",
       "      <td>-0.082677</td>\n",
       "      <td>-0.038734</td>\n",
       "      <td>-0.047463</td>\n",
       "      <td>...</td>\n",
       "      <td>0.000000e+00</td>\n",
       "      <td>0.000000e+00</td>\n",
       "      <td>-0.000000e+00</td>\n",
       "      <td>-0.000000e+00</td>\n",
       "      <td>0.000000e+00</td>\n",
       "      <td>-0.000000e+00</td>\n",
       "      <td>-0.000000e+00</td>\n",
       "      <td>0.000000e+00</td>\n",
       "      <td>-0.000000e+00</td>\n",
       "      <td>-0.000000e+00</td>\n",
       "    </tr>\n",
       "    <tr>\n",
       "      <th>LotFrontage</th>\n",
       "      <td>-0.177325</td>\n",
       "      <td>0.588462</td>\n",
       "      <td>-0.176992</td>\n",
       "      <td>0.180796</td>\n",
       "      <td>-0.110497</td>\n",
       "      <td>0.115710</td>\n",
       "      <td>-0.276571</td>\n",
       "      <td>-0.076039</td>\n",
       "      <td>-0.112915</td>\n",
       "      <td>-0.141581</td>\n",
       "      <td>...</td>\n",
       "      <td>8.073036e-33</td>\n",
       "      <td>1.362881e-32</td>\n",
       "      <td>5.559181e-33</td>\n",
       "      <td>1.229336e-32</td>\n",
       "      <td>1.284217e-32</td>\n",
       "      <td>-4.500248e-32</td>\n",
       "      <td>2.809911e-32</td>\n",
       "      <td>-7.071951e-33</td>\n",
       "      <td>8.752318e-33</td>\n",
       "      <td>-5.333228e-33</td>\n",
       "    </tr>\n",
       "    <tr>\n",
       "      <th>LotArea</th>\n",
       "      <td>-0.118818</td>\n",
       "      <td>0.689485</td>\n",
       "      <td>-0.231198</td>\n",
       "      <td>0.209704</td>\n",
       "      <td>-0.083762</td>\n",
       "      <td>-0.094026</td>\n",
       "      <td>0.138881</td>\n",
       "      <td>0.267347</td>\n",
       "      <td>0.086710</td>\n",
       "      <td>0.014239</td>\n",
       "      <td>...</td>\n",
       "      <td>-1.988600e-32</td>\n",
       "      <td>3.399375e-32</td>\n",
       "      <td>1.276118e-32</td>\n",
       "      <td>3.599170e-33</td>\n",
       "      <td>-3.463338e-32</td>\n",
       "      <td>-4.600225e-32</td>\n",
       "      <td>4.777007e-33</td>\n",
       "      <td>1.715184e-32</td>\n",
       "      <td>2.375403e-32</td>\n",
       "      <td>-1.126760e-33</td>\n",
       "    </tr>\n",
       "    <tr>\n",
       "      <th>OverallQual</th>\n",
       "      <td>-0.836452</td>\n",
       "      <td>0.099094</td>\n",
       "      <td>-0.018519</td>\n",
       "      <td>0.106425</td>\n",
       "      <td>0.061210</td>\n",
       "      <td>-0.012886</td>\n",
       "      <td>0.045700</td>\n",
       "      <td>-0.121794</td>\n",
       "      <td>-0.109945</td>\n",
       "      <td>-0.033307</td>\n",
       "      <td>...</td>\n",
       "      <td>1.458269e-32</td>\n",
       "      <td>-6.792645e-32</td>\n",
       "      <td>-5.717733e-32</td>\n",
       "      <td>-4.711956e-32</td>\n",
       "      <td>-5.309037e-32</td>\n",
       "      <td>-2.163555e-32</td>\n",
       "      <td>1.863546e-33</td>\n",
       "      <td>-8.752361e-33</td>\n",
       "      <td>-1.156238e-32</td>\n",
       "      <td>4.187340e-32</td>\n",
       "    </tr>\n",
       "    <tr>\n",
       "      <th>OverallCond</th>\n",
       "      <td>0.258473</td>\n",
       "      <td>0.096850</td>\n",
       "      <td>-0.293258</td>\n",
       "      <td>-0.096198</td>\n",
       "      <td>0.076920</td>\n",
       "      <td>-0.151027</td>\n",
       "      <td>-0.025651</td>\n",
       "      <td>0.017980</td>\n",
       "      <td>0.257900</td>\n",
       "      <td>-0.170217</td>\n",
       "      <td>...</td>\n",
       "      <td>-3.013608e-32</td>\n",
       "      <td>-6.562000e-32</td>\n",
       "      <td>-5.947105e-32</td>\n",
       "      <td>2.607383e-32</td>\n",
       "      <td>2.082322e-32</td>\n",
       "      <td>-1.107537e-32</td>\n",
       "      <td>1.183208e-32</td>\n",
       "      <td>7.405106e-33</td>\n",
       "      <td>-4.095623e-32</td>\n",
       "      <td>-5.863615e-33</td>\n",
       "    </tr>\n",
       "    <tr>\n",
       "      <th>...</th>\n",
       "      <td>...</td>\n",
       "      <td>...</td>\n",
       "      <td>...</td>\n",
       "      <td>...</td>\n",
       "      <td>...</td>\n",
       "      <td>...</td>\n",
       "      <td>...</td>\n",
       "      <td>...</td>\n",
       "      <td>...</td>\n",
       "      <td>...</td>\n",
       "      <td>...</td>\n",
       "      <td>...</td>\n",
       "      <td>...</td>\n",
       "      <td>...</td>\n",
       "      <td>...</td>\n",
       "      <td>...</td>\n",
       "      <td>...</td>\n",
       "      <td>...</td>\n",
       "      <td>...</td>\n",
       "      <td>...</td>\n",
       "      <td>...</td>\n",
       "    </tr>\n",
       "    <tr>\n",
       "      <th>SaleCondition_AdjLand</th>\n",
       "      <td>0.114962</td>\n",
       "      <td>-0.144651</td>\n",
       "      <td>0.057336</td>\n",
       "      <td>0.631668</td>\n",
       "      <td>0.059616</td>\n",
       "      <td>-0.138408</td>\n",
       "      <td>0.079296</td>\n",
       "      <td>-0.137122</td>\n",
       "      <td>0.259535</td>\n",
       "      <td>-0.060913</td>\n",
       "      <td>...</td>\n",
       "      <td>-1.402095e-18</td>\n",
       "      <td>3.319143e-18</td>\n",
       "      <td>2.029277e-18</td>\n",
       "      <td>2.628839e-18</td>\n",
       "      <td>1.768850e-18</td>\n",
       "      <td>3.511489e-18</td>\n",
       "      <td>2.864086e-20</td>\n",
       "      <td>5.950365e-34</td>\n",
       "      <td>-9.021549e-19</td>\n",
       "      <td>-4.482782e-18</td>\n",
       "    </tr>\n",
       "    <tr>\n",
       "      <th>SaleCondition_Alloca</th>\n",
       "      <td>0.056475</td>\n",
       "      <td>-0.051004</td>\n",
       "      <td>0.015876</td>\n",
       "      <td>-0.038574</td>\n",
       "      <td>-0.033037</td>\n",
       "      <td>0.148296</td>\n",
       "      <td>0.185618</td>\n",
       "      <td>0.104198</td>\n",
       "      <td>0.030266</td>\n",
       "      <td>0.020232</td>\n",
       "      <td>...</td>\n",
       "      <td>-7.531327e-17</td>\n",
       "      <td>6.256546e-17</td>\n",
       "      <td>-2.599989e-17</td>\n",
       "      <td>-4.977098e-17</td>\n",
       "      <td>-8.909904e-18</td>\n",
       "      <td>2.338890e-17</td>\n",
       "      <td>5.205434e-18</td>\n",
       "      <td>-5.632158e-32</td>\n",
       "      <td>3.096316e-17</td>\n",
       "      <td>-3.254901e-18</td>\n",
       "    </tr>\n",
       "    <tr>\n",
       "      <th>SaleCondition_Family</th>\n",
       "      <td>0.073592</td>\n",
       "      <td>-0.050586</td>\n",
       "      <td>0.018562</td>\n",
       "      <td>-0.005946</td>\n",
       "      <td>-0.036059</td>\n",
       "      <td>0.109424</td>\n",
       "      <td>0.058928</td>\n",
       "      <td>0.058816</td>\n",
       "      <td>0.022671</td>\n",
       "      <td>0.011114</td>\n",
       "      <td>...</td>\n",
       "      <td>3.512389e-33</td>\n",
       "      <td>-1.716406e-32</td>\n",
       "      <td>2.634291e-33</td>\n",
       "      <td>1.404955e-32</td>\n",
       "      <td>-8.012637e-33</td>\n",
       "      <td>-3.073340e-33</td>\n",
       "      <td>-2.414767e-32</td>\n",
       "      <td>3.084966e-33</td>\n",
       "      <td>5.995927e-34</td>\n",
       "      <td>2.324741e-33</td>\n",
       "    </tr>\n",
       "    <tr>\n",
       "      <th>SaleCondition_Normal</th>\n",
       "      <td>0.366947</td>\n",
       "      <td>0.005392</td>\n",
       "      <td>-0.100373</td>\n",
       "      <td>-0.152147</td>\n",
       "      <td>0.110341</td>\n",
       "      <td>-0.517869</td>\n",
       "      <td>-0.068401</td>\n",
       "      <td>0.272540</td>\n",
       "      <td>-0.297200</td>\n",
       "      <td>0.092166</td>\n",
       "      <td>...</td>\n",
       "      <td>7.463826e-33</td>\n",
       "      <td>-1.865956e-33</td>\n",
       "      <td>-1.668385e-32</td>\n",
       "      <td>-1.229336e-32</td>\n",
       "      <td>2.436720e-32</td>\n",
       "      <td>-2.283053e-32</td>\n",
       "      <td>-4.390486e-33</td>\n",
       "      <td>-8.214068e-33</td>\n",
       "      <td>-1.918697e-32</td>\n",
       "      <td>-5.469978e-33</td>\n",
       "    </tr>\n",
       "    <tr>\n",
       "      <th>SaleCondition_Partial</th>\n",
       "      <td>-0.530575</td>\n",
       "      <td>0.047612</td>\n",
       "      <td>0.134350</td>\n",
       "      <td>0.110669</td>\n",
       "      <td>-0.108429</td>\n",
       "      <td>0.528828</td>\n",
       "      <td>0.057490</td>\n",
       "      <td>-0.269452</td>\n",
       "      <td>0.233454</td>\n",
       "      <td>-0.114304</td>\n",
       "      <td>...</td>\n",
       "      <td>-1.044936e-31</td>\n",
       "      <td>1.290803e-31</td>\n",
       "      <td>7.551636e-32</td>\n",
       "      <td>-0.000000e+00</td>\n",
       "      <td>-2.568434e-32</td>\n",
       "      <td>1.036155e-31</td>\n",
       "      <td>-8.429733e-32</td>\n",
       "      <td>-1.791700e-32</td>\n",
       "      <td>-3.717474e-32</td>\n",
       "      <td>2.570890e-32</td>\n",
       "    </tr>\n",
       "  </tbody>\n",
       "</table>\n",
       "<p>158 rows × 158 columns</p>\n",
       "</div>"
      ],
      "text/plain": [
       "                            PC1       PC2       PC3       PC4       PC5  \\\n",
       "MSSubClass             0.119234 -0.501789  0.243864 -0.122887  0.327168   \n",
       "LotFrontage           -0.177325  0.588462 -0.176992  0.180796 -0.110497   \n",
       "LotArea               -0.118818  0.689485 -0.231198  0.209704 -0.083762   \n",
       "OverallQual           -0.836452  0.099094 -0.018519  0.106425  0.061210   \n",
       "OverallCond            0.258473  0.096850 -0.293258 -0.096198  0.076920   \n",
       "...                         ...       ...       ...       ...       ...   \n",
       "SaleCondition_AdjLand  0.114962 -0.144651  0.057336  0.631668  0.059616   \n",
       "SaleCondition_Alloca   0.056475 -0.051004  0.015876 -0.038574 -0.033037   \n",
       "SaleCondition_Family   0.073592 -0.050586  0.018562 -0.005946 -0.036059   \n",
       "SaleCondition_Normal   0.366947  0.005392 -0.100373 -0.152147  0.110341   \n",
       "SaleCondition_Partial -0.530575  0.047612  0.134350  0.110669 -0.108429   \n",
       "\n",
       "                            PC6       PC7       PC8       PC9      PC10  ...  \\\n",
       "MSSubClass            -0.049073  0.361604 -0.082677 -0.038734 -0.047463  ...   \n",
       "LotFrontage            0.115710 -0.276571 -0.076039 -0.112915 -0.141581  ...   \n",
       "LotArea               -0.094026  0.138881  0.267347  0.086710  0.014239  ...   \n",
       "OverallQual           -0.012886  0.045700 -0.121794 -0.109945 -0.033307  ...   \n",
       "OverallCond           -0.151027 -0.025651  0.017980  0.257900 -0.170217  ...   \n",
       "...                         ...       ...       ...       ...       ...  ...   \n",
       "SaleCondition_AdjLand -0.138408  0.079296 -0.137122  0.259535 -0.060913  ...   \n",
       "SaleCondition_Alloca   0.148296  0.185618  0.104198  0.030266  0.020232  ...   \n",
       "SaleCondition_Family   0.109424  0.058928  0.058816  0.022671  0.011114  ...   \n",
       "SaleCondition_Normal  -0.517869 -0.068401  0.272540 -0.297200  0.092166  ...   \n",
       "SaleCondition_Partial  0.528828  0.057490 -0.269452  0.233454 -0.114304  ...   \n",
       "\n",
       "                              PC149         PC150         PC151         PC152  \\\n",
       "MSSubClass             0.000000e+00  0.000000e+00 -0.000000e+00 -0.000000e+00   \n",
       "LotFrontage            8.073036e-33  1.362881e-32  5.559181e-33  1.229336e-32   \n",
       "LotArea               -1.988600e-32  3.399375e-32  1.276118e-32  3.599170e-33   \n",
       "OverallQual            1.458269e-32 -6.792645e-32 -5.717733e-32 -4.711956e-32   \n",
       "OverallCond           -3.013608e-32 -6.562000e-32 -5.947105e-32  2.607383e-32   \n",
       "...                             ...           ...           ...           ...   \n",
       "SaleCondition_AdjLand -1.402095e-18  3.319143e-18  2.029277e-18  2.628839e-18   \n",
       "SaleCondition_Alloca  -7.531327e-17  6.256546e-17 -2.599989e-17 -4.977098e-17   \n",
       "SaleCondition_Family   3.512389e-33 -1.716406e-32  2.634291e-33  1.404955e-32   \n",
       "SaleCondition_Normal   7.463826e-33 -1.865956e-33 -1.668385e-32 -1.229336e-32   \n",
       "SaleCondition_Partial -1.044936e-31  1.290803e-31  7.551636e-32 -0.000000e+00   \n",
       "\n",
       "                              PC153         PC154         PC155         PC156  \\\n",
       "MSSubClass             0.000000e+00 -0.000000e+00 -0.000000e+00  0.000000e+00   \n",
       "LotFrontage            1.284217e-32 -4.500248e-32  2.809911e-32 -7.071951e-33   \n",
       "LotArea               -3.463338e-32 -4.600225e-32  4.777007e-33  1.715184e-32   \n",
       "OverallQual           -5.309037e-32 -2.163555e-32  1.863546e-33 -8.752361e-33   \n",
       "OverallCond            2.082322e-32 -1.107537e-32  1.183208e-32  7.405106e-33   \n",
       "...                             ...           ...           ...           ...   \n",
       "SaleCondition_AdjLand  1.768850e-18  3.511489e-18  2.864086e-20  5.950365e-34   \n",
       "SaleCondition_Alloca  -8.909904e-18  2.338890e-17  5.205434e-18 -5.632158e-32   \n",
       "SaleCondition_Family  -8.012637e-33 -3.073340e-33 -2.414767e-32  3.084966e-33   \n",
       "SaleCondition_Normal   2.436720e-32 -2.283053e-32 -4.390486e-33 -8.214068e-33   \n",
       "SaleCondition_Partial -2.568434e-32  1.036155e-31 -8.429733e-32 -1.791700e-32   \n",
       "\n",
       "                              PC157         PC158  \n",
       "MSSubClass            -0.000000e+00 -0.000000e+00  \n",
       "LotFrontage            8.752318e-33 -5.333228e-33  \n",
       "LotArea                2.375403e-32 -1.126760e-33  \n",
       "OverallQual           -1.156238e-32  4.187340e-32  \n",
       "OverallCond           -4.095623e-32 -5.863615e-33  \n",
       "...                             ...           ...  \n",
       "SaleCondition_AdjLand -9.021549e-19 -4.482782e-18  \n",
       "SaleCondition_Alloca   3.096316e-17 -3.254901e-18  \n",
       "SaleCondition_Family   5.995927e-34  2.324741e-33  \n",
       "SaleCondition_Normal  -1.918697e-32 -5.469978e-33  \n",
       "SaleCondition_Partial -3.717474e-32  2.570890e-32  \n",
       "\n",
       "[158 rows x 158 columns]"
      ]
     },
     "execution_count": 107,
     "metadata": {},
     "output_type": "execute_result"
    }
   ],
   "source": [
    "loadings_matrix = pd.DataFrame(eig_vec.T*np.sqrt(eig_val),columns=pc_cols,index=x_train.columns)\n",
    "loadings_matrix"
   ]
  },
  {
   "cell_type": "code",
   "execution_count": 108,
   "id": "0d9a6ac1",
   "metadata": {
    "id": "0d9a6ac1"
   },
   "outputs": [],
   "source": [
    "### PCA\n",
    "# 1) Eigen Decomposition of Covariance Matrix\n",
    "# 2) SVD"
   ]
  },
  {
   "cell_type": "markdown",
   "id": "5b0b4b22",
   "metadata": {
    "id": "5b0b4b22"
   },
   "source": [
    "### PCA using SVD (Singular Value Decomposition)"
   ]
  },
  {
   "cell_type": "code",
   "execution_count": 109,
   "id": "119dc6ab",
   "metadata": {
    "id": "119dc6ab"
   },
   "outputs": [],
   "source": [
    "from scipy.linalg import svd"
   ]
  },
  {
   "cell_type": "markdown",
   "id": "6d83a82c",
   "metadata": {
    "id": "6d83a82c"
   },
   "source": [
    "#### SVD\n",
    "A(n * m) = U(n * n) * sigma(n * m) * VT(m * m)\n",
    "\n",
    "A  => matrix for which we need to compute covariace matrix\n",
    "\n",
    "Covariance = X * XT /(n-1),   where T = transpose"
   ]
  },
  {
   "cell_type": "code",
   "execution_count": 110,
   "id": "77f7cbde",
   "metadata": {
    "id": "77f7cbde"
   },
   "outputs": [],
   "source": [
    "# Ex:\n",
    "# A(2*3) = U(2*2) * sigma(2*3) * VT(3*3)"
   ]
  },
  {
   "cell_type": "code",
   "execution_count": 111,
   "id": "f4de6671",
   "metadata": {
    "id": "f4de6671",
    "outputId": "2e9ec9e0-2bb3-4004-e15c-7f137c7f7fea"
   },
   "outputs": [
    {
     "name": "stdout",
     "output_type": "stream",
     "text": [
      "[[-0.3863177   0.92236578]\n",
      " [-0.92236578 -0.3863177 ]]\n",
      "[9.508032   0.77286964]\n",
      "[[-0.42866713 -0.56630692 -0.7039467 ]\n",
      " [-0.80596391 -0.11238241  0.58119908]\n",
      " [ 0.40824829 -0.81649658  0.40824829]]\n"
     ]
    }
   ],
   "source": [
    "a = np.array([[1,2,3],[4,5,6]])\n",
    "u, sigma, vt = svd(a)\n",
    "print(u)\n",
    "print(sigma)\n",
    "print(vt)"
   ]
  },
  {
   "cell_type": "code",
   "execution_count": 112,
   "id": "b4ad1889",
   "metadata": {
    "id": "b4ad1889",
    "outputId": "d04fc8c5-a0d4-43e5-9218-71d05753ac0e"
   },
   "outputs": [
    {
     "data": {
      "text/plain": [
       "array([[9.508032  , 0.        , 0.        ],\n",
       "       [0.        , 0.77286964, 0.        ]])"
      ]
     },
     "execution_count": 112,
     "metadata": {},
     "output_type": "execute_result"
    }
   ],
   "source": [
    "sigma1 = np.array([[9.508032,0,0],[0,0.77286964,0]])\n",
    "sigma1"
   ]
  },
  {
   "cell_type": "code",
   "execution_count": 113,
   "id": "3212e49b",
   "metadata": {
    "id": "3212e49b",
    "outputId": "18f506b3-6ad3-4b22-c27d-0d652a736476"
   },
   "outputs": [
    {
     "name": "stdout",
     "output_type": "stream",
     "text": [
      "[[1. 2. 3.]\n",
      " [4. 5. 6.]]\n"
     ]
    }
   ],
   "source": [
    "res = np.dot(np.dot(u,sigma1),vt)\n",
    "print(res)"
   ]
  },
  {
   "cell_type": "code",
   "execution_count": null,
   "id": "35fa5317",
   "metadata": {
    "id": "35fa5317"
   },
   "outputs": [],
   "source": []
  }
 ],
 "metadata": {
  "accelerator": "GPU",
  "colab": {
   "gpuType": "T4",
   "provenance": []
  },
  "kernelspec": {
   "display_name": "Python 3 (ipykernel)",
   "language": "python",
   "name": "python3"
  },
  "language_info": {
   "codemirror_mode": {
    "name": "ipython",
    "version": 3
   },
   "file_extension": ".py",
   "mimetype": "text/x-python",
   "name": "python",
   "nbconvert_exporter": "python",
   "pygments_lexer": "ipython3",
   "version": "3.11.5"
  }
 },
 "nbformat": 4,
 "nbformat_minor": 5
}
